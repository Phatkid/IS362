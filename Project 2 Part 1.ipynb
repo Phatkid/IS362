{
 "cells": [
  {
   "cell_type": "markdown",
   "metadata": {},
   "source": [
    "Your task is to:\n",
    "(1)\n",
    "Choose any three of the “wide” datasets identified in the Week 5\n",
    " Discussion items.  (You may use your own dataset; please don’t use my Sample Post dataset, since that was used in your Project 1 assignment!)  \n",
    "For each of the three chosen datasets:\n",
    "• Create a .CSV file (or optionally, a MySQL database!) that includes all of the information included in the dataset\n",
    ".  You’re encouraged to use a “wide” structure similar to how the information appears in the discussion item, so that you can practice tidying and \n",
    "transformations as described below.\n",
    "• Read the information from your .CSV file into Python,  and use pandas as needed to tidy and transform your data.  [Most of your grade will be based on this step!]\n",
    "• Perform the analysis requested in the discussion item\n",
    ". \n",
    "• Your code should be in an Jupyter Notebook, posted to your GitHub repository, and should include narrative descriptions of your data cleanup work, analysis, and conclusions.\n",
    "(2)\n",
    "Please include the URL for the Jupyter Notebook in your homework submission, for each of the three chosen datasets\n",
    ". You may create a single Jupyter Notebook,  or three separate notebooks."
   ]
  },
  {
   "cell_type": "markdown",
   "metadata": {},
   "source": [
    "# Social Indicators NYC Open Data"
   ]
  },
  {
   "cell_type": "markdown",
   "metadata": {},
   "source": [
    "### Imports and set notebook options"
   ]
  },
  {
   "cell_type": "code",
   "execution_count": 27,
   "metadata": {},
   "outputs": [],
   "source": [
    "%matplotlib inline\n",
    "import pandas as pd\n",
    "import numpy as np\n",
    "import matplotlib.pyplot as plt\n",
    "pd.set_option('display.max_columns', 50)\n",
    "pd.set_option('display.max_rows', 1000)"
   ]
  },
  {
   "cell_type": "markdown",
   "metadata": {},
   "source": [
    "### Imports dataset and replaces all values of * which indicate null in dataset to nan with numpy"
   ]
  },
  {
   "cell_type": "code",
   "execution_count": 28,
   "metadata": {},
   "outputs": [
    {
     "data": {
      "text/html": [
       "<div>\n",
       "<style scoped>\n",
       "    .dataframe tbody tr th:only-of-type {\n",
       "        vertical-align: middle;\n",
       "    }\n",
       "\n",
       "    .dataframe tbody tr th {\n",
       "        vertical-align: top;\n",
       "    }\n",
       "\n",
       "    .dataframe thead th {\n",
       "        text-align: right;\n",
       "    }\n",
       "</style>\n",
       "<table border=\"1\" class=\"dataframe\">\n",
       "  <thead>\n",
       "    <tr style=\"text-align: right;\">\n",
       "      <th></th>\n",
       "      <th>Domain</th>\n",
       "      <th>Indicator</th>\n",
       "      <th>Dimension Category</th>\n",
       "      <th>Dimension</th>\n",
       "      <th>2000</th>\n",
       "      <th>2001</th>\n",
       "      <th>2002</th>\n",
       "      <th>2003</th>\n",
       "      <th>2004</th>\n",
       "      <th>2005</th>\n",
       "      <th>2006</th>\n",
       "      <th>2007</th>\n",
       "      <th>2008</th>\n",
       "      <th>2009</th>\n",
       "      <th>2010</th>\n",
       "      <th>2011</th>\n",
       "      <th>2012</th>\n",
       "      <th>2013</th>\n",
       "      <th>2014</th>\n",
       "      <th>2015</th>\n",
       "      <th>2016</th>\n",
       "      <th>2017</th>\n",
       "      <th>Defintion</th>\n",
       "      <th>Source</th>\n",
       "      <th>Notes</th>\n",
       "    </tr>\n",
       "  </thead>\n",
       "  <tbody>\n",
       "    <tr>\n",
       "      <th>0</th>\n",
       "      <td>Education</td>\n",
       "      <td>Enrolled Full Day Pre-K Students</td>\n",
       "      <td>Citywide</td>\n",
       "      <td>Citywide</td>\n",
       "      <td>NaN</td>\n",
       "      <td>NaN</td>\n",
       "      <td>NaN</td>\n",
       "      <td>NaN</td>\n",
       "      <td>NaN</td>\n",
       "      <td>NaN</td>\n",
       "      <td>NaN</td>\n",
       "      <td>NaN</td>\n",
       "      <td>NaN</td>\n",
       "      <td>NaN</td>\n",
       "      <td>NaN</td>\n",
       "      <td>NaN</td>\n",
       "      <td>NaN</td>\n",
       "      <td>NaN</td>\n",
       "      <td>19,287</td>\n",
       "      <td>52,741</td>\n",
       "      <td>68,647</td>\n",
       "      <td>69,510</td>\n",
       "      <td>Number of four-year-olds enrolled in full day ...</td>\n",
       "      <td>NYC Department of Education</td>\n",
       "      <td>NaN</td>\n",
       "    </tr>\n",
       "    <tr>\n",
       "      <th>1</th>\n",
       "      <td>Education</td>\n",
       "      <td>Enrolled Full Day Pre-K Students</td>\n",
       "      <td>Borough</td>\n",
       "      <td>Bronx</td>\n",
       "      <td>NaN</td>\n",
       "      <td>NaN</td>\n",
       "      <td>NaN</td>\n",
       "      <td>NaN</td>\n",
       "      <td>NaN</td>\n",
       "      <td>NaN</td>\n",
       "      <td>NaN</td>\n",
       "      <td>NaN</td>\n",
       "      <td>NaN</td>\n",
       "      <td>NaN</td>\n",
       "      <td>NaN</td>\n",
       "      <td>NaN</td>\n",
       "      <td>NaN</td>\n",
       "      <td>NaN</td>\n",
       "      <td>22.0%</td>\n",
       "      <td>22.7%</td>\n",
       "      <td>21.3%</td>\n",
       "      <td>20.5%</td>\n",
       "      <td>The percentage of students enrolled in Pre-K b...</td>\n",
       "      <td>NYC Department of Education</td>\n",
       "      <td>NaN</td>\n",
       "    </tr>\n",
       "    <tr>\n",
       "      <th>2</th>\n",
       "      <td>Education</td>\n",
       "      <td>Enrolled Full Day Pre-K Students</td>\n",
       "      <td>Borough</td>\n",
       "      <td>Brooklyn</td>\n",
       "      <td>NaN</td>\n",
       "      <td>NaN</td>\n",
       "      <td>NaN</td>\n",
       "      <td>NaN</td>\n",
       "      <td>NaN</td>\n",
       "      <td>NaN</td>\n",
       "      <td>NaN</td>\n",
       "      <td>NaN</td>\n",
       "      <td>NaN</td>\n",
       "      <td>NaN</td>\n",
       "      <td>NaN</td>\n",
       "      <td>NaN</td>\n",
       "      <td>NaN</td>\n",
       "      <td>NaN</td>\n",
       "      <td>39.7%</td>\n",
       "      <td>32.2%</td>\n",
       "      <td>31.7%</td>\n",
       "      <td>32.3%</td>\n",
       "      <td>The percentage of students enrolled in Pre-K b...</td>\n",
       "      <td>NYC Department of Education</td>\n",
       "      <td>NaN</td>\n",
       "    </tr>\n",
       "    <tr>\n",
       "      <th>3</th>\n",
       "      <td>Education</td>\n",
       "      <td>Enrolled Full Day Pre-K Students</td>\n",
       "      <td>Borough</td>\n",
       "      <td>Manhattan</td>\n",
       "      <td>NaN</td>\n",
       "      <td>NaN</td>\n",
       "      <td>NaN</td>\n",
       "      <td>NaN</td>\n",
       "      <td>NaN</td>\n",
       "      <td>NaN</td>\n",
       "      <td>NaN</td>\n",
       "      <td>NaN</td>\n",
       "      <td>NaN</td>\n",
       "      <td>NaN</td>\n",
       "      <td>NaN</td>\n",
       "      <td>NaN</td>\n",
       "      <td>NaN</td>\n",
       "      <td>NaN</td>\n",
       "      <td>15.3%</td>\n",
       "      <td>13.8%</td>\n",
       "      <td>12.2%</td>\n",
       "      <td>11.8%</td>\n",
       "      <td>The percentage of students enrolled in Pre-K b...</td>\n",
       "      <td>NYC Department of Education</td>\n",
       "      <td>NaN</td>\n",
       "    </tr>\n",
       "    <tr>\n",
       "      <th>4</th>\n",
       "      <td>Education</td>\n",
       "      <td>Enrolled Full Day Pre-K Students</td>\n",
       "      <td>Borough</td>\n",
       "      <td>Queens</td>\n",
       "      <td>NaN</td>\n",
       "      <td>NaN</td>\n",
       "      <td>NaN</td>\n",
       "      <td>NaN</td>\n",
       "      <td>NaN</td>\n",
       "      <td>NaN</td>\n",
       "      <td>NaN</td>\n",
       "      <td>NaN</td>\n",
       "      <td>NaN</td>\n",
       "      <td>NaN</td>\n",
       "      <td>NaN</td>\n",
       "      <td>NaN</td>\n",
       "      <td>NaN</td>\n",
       "      <td>NaN</td>\n",
       "      <td>18.9%</td>\n",
       "      <td>25.6%</td>\n",
       "      <td>29.0%</td>\n",
       "      <td>29.6%</td>\n",
       "      <td>The percentage of students enrolled in Pre-K b...</td>\n",
       "      <td>NYC Department of Education</td>\n",
       "      <td>NaN</td>\n",
       "    </tr>\n",
       "  </tbody>\n",
       "</table>\n",
       "</div>"
      ],
      "text/plain": [
       "      Domain                         Indicator Dimension Category  Dimension  \\\n",
       "0  Education  Enrolled Full Day Pre-K Students           Citywide   Citywide   \n",
       "1  Education  Enrolled Full Day Pre-K Students            Borough      Bronx   \n",
       "2  Education  Enrolled Full Day Pre-K Students            Borough   Brooklyn   \n",
       "3  Education  Enrolled Full Day Pre-K Students            Borough  Manhattan   \n",
       "4  Education  Enrolled Full Day Pre-K Students            Borough     Queens   \n",
       "\n",
       "  2000 2001 2002 2003 2004 2005 2006 2007 2008 2009 2010 2011 2012 2013  \\\n",
       "0  NaN  NaN  NaN  NaN  NaN  NaN  NaN  NaN  NaN  NaN  NaN  NaN  NaN  NaN   \n",
       "1  NaN  NaN  NaN  NaN  NaN  NaN  NaN  NaN  NaN  NaN  NaN  NaN  NaN  NaN   \n",
       "2  NaN  NaN  NaN  NaN  NaN  NaN  NaN  NaN  NaN  NaN  NaN  NaN  NaN  NaN   \n",
       "3  NaN  NaN  NaN  NaN  NaN  NaN  NaN  NaN  NaN  NaN  NaN  NaN  NaN  NaN   \n",
       "4  NaN  NaN  NaN  NaN  NaN  NaN  NaN  NaN  NaN  NaN  NaN  NaN  NaN  NaN   \n",
       "\n",
       "     2014    2015    2016    2017  \\\n",
       "0  19,287  52,741  68,647  69,510   \n",
       "1   22.0%   22.7%   21.3%   20.5%   \n",
       "2   39.7%   32.2%   31.7%   32.3%   \n",
       "3   15.3%   13.8%   12.2%   11.8%   \n",
       "4   18.9%   25.6%   29.0%   29.6%   \n",
       "\n",
       "                                           Defintion  \\\n",
       "0  Number of four-year-olds enrolled in full day ...   \n",
       "1  The percentage of students enrolled in Pre-K b...   \n",
       "2  The percentage of students enrolled in Pre-K b...   \n",
       "3  The percentage of students enrolled in Pre-K b...   \n",
       "4  The percentage of students enrolled in Pre-K b...   \n",
       "\n",
       "                        Source Notes  \n",
       "0  NYC Department of Education   NaN  \n",
       "1  NYC Department of Education   NaN  \n",
       "2  NYC Department of Education   NaN  \n",
       "3  NYC Department of Education   NaN  \n",
       "4  NYC Department of Education   NaN  "
      ]
     },
     "execution_count": 28,
     "metadata": {},
     "output_type": "execute_result"
    }
   ],
   "source": [
    "URL = \"/Data.csv\"\n",
    "data = pd.read_csv(URL) #reads csv of full data set which is previously summarized other sources.\n",
    "data.replace('*', np.nan).head() #replaces all null columns that were denoted * with NaN"
   ]
  },
  {
   "cell_type": "code",
   "execution_count": 29,
   "metadata": {},
   "outputs": [
    {
     "data": {
      "text/plain": [
       "(1592, 25)"
      ]
     },
     "execution_count": 29,
     "metadata": {},
     "output_type": "execute_result"
    }
   ],
   "source": [
    "data.shape #To confirm that all coluns and rows were read into pandas."
   ]
  },
  {
   "cell_type": "markdown",
   "metadata": {},
   "source": [
    "### Data needs to be tidy so an array is created first from the domain column to analyze possible useful data"
   ]
  },
  {
   "cell_type": "code",
   "execution_count": 30,
   "metadata": {},
   "outputs": [
    {
     "data": {
      "text/plain": [
       "array(['Education', 'Health & Wellbeing', 'Housing', nan,\n",
       "       'Personal & Community Safety', 'Economic Security and Mobility',\n",
       "       'Empowered Residents & Neighborhoods',\n",
       "       'Core Infrastructure & the Environment',\n",
       "       'Diverse and Inclusive Government'], dtype=object)"
      ]
     },
     "execution_count": 30,
     "metadata": {},
     "output_type": "execute_result"
    }
   ],
   "source": [
    "data_source_domain = data.Domain.unique()\n",
    "data_source_domain"
   ]
  },
  {
   "cell_type": "code",
   "execution_count": 31,
   "metadata": {},
   "outputs": [
    {
     "name": "stdout",
     "output_type": "stream",
     "text": [
      "The total number or sources for data is 9\n"
     ]
    }
   ],
   "source": [
    "print('The total number or sources for data is ' + str(len(data_source_domain))) # see output for number of sources"
   ]
  },
  {
   "cell_type": "markdown",
   "metadata": {},
   "source": [
    "### The Domain column is where I will start to tidy data and pull what is useful. Housing Data will be the subject of further data analysis. "
   ]
  },
  {
   "cell_type": "code",
   "execution_count": 32,
   "metadata": {},
   "outputs": [],
   "source": [
    "housing = data[data['Domain'] == 'Housing'] # creates a variable for all data for \"Housing\" in the \"Domain\" column"
   ]
  },
  {
   "cell_type": "code",
   "execution_count": 33,
   "metadata": {
    "scrolled": true
   },
   "outputs": [],
   "source": [
    "df1 = housing.drop(housing.columns[4:21], axis=1) # drops irrelevant columns\n",
    "df1 = df1.drop(df1.columns[7:], axis=1) # drops further irrelevant columns\n",
    "\n"
   ]
  },
  {
   "cell_type": "code",
   "execution_count": 34,
   "metadata": {},
   "outputs": [
    {
     "data": {
      "text/html": [
       "<div>\n",
       "<style scoped>\n",
       "    .dataframe tbody tr th:only-of-type {\n",
       "        vertical-align: middle;\n",
       "    }\n",
       "\n",
       "    .dataframe tbody tr th {\n",
       "        vertical-align: top;\n",
       "    }\n",
       "\n",
       "    .dataframe thead th {\n",
       "        text-align: right;\n",
       "    }\n",
       "</style>\n",
       "<table border=\"1\" class=\"dataframe\">\n",
       "  <thead>\n",
       "    <tr style=\"text-align: right;\">\n",
       "      <th></th>\n",
       "      <th>Domain</th>\n",
       "      <th>Indicator</th>\n",
       "      <th>Dimension Category</th>\n",
       "      <th>Dimension</th>\n",
       "      <th>2017</th>\n",
       "      <th>Defintion</th>\n",
       "      <th>Source</th>\n",
       "    </tr>\n",
       "  </thead>\n",
       "  <tbody>\n",
       "    <tr>\n",
       "      <th>134</th>\n",
       "      <td>Housing</td>\n",
       "      <td>New Admissions to NYCHA's Section 8 (count)</td>\n",
       "      <td>Race/Ethnicity</td>\n",
       "      <td>Other</td>\n",
       "      <td>*</td>\n",
       "      <td>Total number of families admitted to NYCHA Sec...</td>\n",
       "      <td>NYCHA's Siebel Data</td>\n",
       "    </tr>\n",
       "    <tr>\n",
       "      <th>159</th>\n",
       "      <td>Housing</td>\n",
       "      <td>New Admissions to NYCHA's Section 8 (count)</td>\n",
       "      <td>Gender of Head of Household</td>\n",
       "      <td>Male</td>\n",
       "      <td>*</td>\n",
       "      <td>Total number of families admitted to NYCHA Sec...</td>\n",
       "      <td>NYCHA's Siebel Data</td>\n",
       "    </tr>\n",
       "    <tr>\n",
       "      <th>192</th>\n",
       "      <td>Housing</td>\n",
       "      <td>New Admissions to NYCHA's Section 8 (count)</td>\n",
       "      <td>Gender of Head of Household</td>\n",
       "      <td>Female</td>\n",
       "      <td>*</td>\n",
       "      <td>Total number of families admitted to NYCHA Sec...</td>\n",
       "      <td>NYCHA's Siebel Data</td>\n",
       "    </tr>\n",
       "    <tr>\n",
       "      <th>214</th>\n",
       "      <td>Housing</td>\n",
       "      <td>New Admissions to NYCHA's Section 8 (count)</td>\n",
       "      <td>Gender of Head of Household</td>\n",
       "      <td>Data Not Available</td>\n",
       "      <td>*</td>\n",
       "      <td>Total number of families admitted to NYCHA Sec...</td>\n",
       "      <td>NYCHA's Siebel Data</td>\n",
       "    </tr>\n",
       "    <tr>\n",
       "      <th>268</th>\n",
       "      <td>Housing</td>\n",
       "      <td>Notices of Foreclosure Rate per 1,000 (1-4 fam...</td>\n",
       "      <td>Community District</td>\n",
       "      <td>BX 03 - Morrisania/Crotona</td>\n",
       "      <td>24.7</td>\n",
       "      <td>This indicator measures the total number of re...</td>\n",
       "      <td>NYU Furman Center Core Data http://coredata.nyc/</td>\n",
       "    </tr>\n",
       "  </tbody>\n",
       "</table>\n",
       "</div>"
      ],
      "text/plain": [
       "      Domain                                          Indicator  \\\n",
       "134  Housing        New Admissions to NYCHA's Section 8 (count)   \n",
       "159  Housing        New Admissions to NYCHA's Section 8 (count)   \n",
       "192  Housing        New Admissions to NYCHA's Section 8 (count)   \n",
       "214  Housing        New Admissions to NYCHA's Section 8 (count)   \n",
       "268  Housing  Notices of Foreclosure Rate per 1,000 (1-4 fam...   \n",
       "\n",
       "              Dimension Category                   Dimension  2017  \\\n",
       "134               Race/Ethnicity                       Other     *   \n",
       "159  Gender of Head of Household                        Male     *   \n",
       "192  Gender of Head of Household                      Female     *   \n",
       "214  Gender of Head of Household          Data Not Available     *   \n",
       "268           Community District  BX 03 - Morrisania/Crotona  24.7   \n",
       "\n",
       "                                             Defintion  \\\n",
       "134  Total number of families admitted to NYCHA Sec...   \n",
       "159  Total number of families admitted to NYCHA Sec...   \n",
       "192  Total number of families admitted to NYCHA Sec...   \n",
       "214  Total number of families admitted to NYCHA Sec...   \n",
       "268  This indicator measures the total number of re...   \n",
       "\n",
       "                                               Source  \n",
       "134                               NYCHA's Siebel Data  \n",
       "159                               NYCHA's Siebel Data  \n",
       "192                               NYCHA's Siebel Data  \n",
       "214                               NYCHA's Siebel Data  \n",
       "268  NYU Furman Center Core Data http://coredata.nyc/  "
      ]
     },
     "execution_count": 34,
     "metadata": {},
     "output_type": "execute_result"
    }
   ],
   "source": [
    "df1.head() # displays first 5 columns to verify tidying of data"
   ]
  },
  {
   "cell_type": "markdown",
   "metadata": {},
   "source": [
    "### Further tidying of data will be done to the \"Indicator\" column to ultimately analyze vacancy rates."
   ]
  },
  {
   "cell_type": "code",
   "execution_count": 35,
   "metadata": {},
   "outputs": [
    {
     "data": {
      "text/plain": [
       "array([\"New Admissions to NYCHA's Section 8 (count)\",\n",
       "       'Notices of Foreclosure Rate per 1,000 (1-4 family & condo properties)',\n",
       "       'NYCHA New Admissions (count)', 'NYCHA New Admissions (percent)',\n",
       "       \"New Admissions to NYCHA's Section 8 (percent)\",\n",
       "       'Total Number of Families on Public Housing Wait List (count)',\n",
       "       'Total Number of Families on Public Housing Wait List (percent)',\n",
       "       'Total Number of Families on Public Housing Wait List',\n",
       "       'Total Number of Families on Section 8 Wait List (count)',\n",
       "       'Total Number of Families on Section 8 Wait List (percent)',\n",
       "       'Total Number of Families on Section 8 Wait List',\n",
       "       'Rental Housing Vacancy Rate', 'Homeless: Average Daily Census',\n",
       "       'Homeless: Average System Length of Stay',\n",
       "       'Severely Rent-Burdened Households',\n",
       "       'Serious Housing Code Violations (per 1,000 privately owned rental units)'],\n",
       "      dtype=object)"
      ]
     },
     "execution_count": 35,
     "metadata": {},
     "output_type": "execute_result"
    }
   ],
   "source": [
    "df1.Indicator.unique() # Creates array to find unique Indicators"
   ]
  },
  {
   "cell_type": "code",
   "execution_count": 36,
   "metadata": {},
   "outputs": [
    {
     "data": {
      "text/plain": [
       "(14, 7)"
      ]
     },
     "execution_count": 36,
     "metadata": {},
     "output_type": "execute_result"
    }
   ],
   "source": [
    "vacancy_rate = df1[df1['Indicator'] == 'Rental Housing Vacancy Rate']\n",
    "vacancy_rate.shape # Examines new variable for dataset to determine  its usability for visual anlaysis."
   ]
  },
  {
   "cell_type": "code",
   "execution_count": 37,
   "metadata": {},
   "outputs": [],
   "source": [
    "vacancy_rate = vacancy_rate.copy() # creates copy due to copy message \n",
    "vacancy_rate['2017'] = vacancy_rate['2017'].str.rstrip('%').astype('float') / 100.0\n"
   ]
  },
  {
   "cell_type": "code",
   "execution_count": 38,
   "metadata": {},
   "outputs": [
    {
     "data": {
      "text/plain": [
       "Domain                 object\n",
       "Indicator              object\n",
       "Dimension Category     object\n",
       "Dimension              object\n",
       "2017                  float64\n",
       "Defintion              object\n",
       "Source                 object\n",
       "dtype: object"
      ]
     },
     "execution_count": 38,
     "metadata": {},
     "output_type": "execute_result"
    }
   ],
   "source": [
    "vacancy_rate.dtypes # shows that column or the year 2017 has been changed from an object to a float"
   ]
  },
  {
   "cell_type": "code",
   "execution_count": 39,
   "metadata": {},
   "outputs": [
    {
     "data": {
      "text/plain": [
       "Text(0,0.5,'%age Vacancy')"
      ]
     },
     "execution_count": 39,
     "metadata": {},
     "output_type": "execute_result"
    },
    {
     "data": {
      "image/png": "[encoded data removed]",
      "text/plain": [
       "<Figure size 1008x720 with 1 Axes>"
      ]
     },
     "metadata": {},
     "output_type": "display_data"
    }
   ],
   "source": [
    "ax = vacancy_rate.plot.bar(x='Dimension', figsize=(14,10), fontsize=14, title=\"Rental Vac for 2017\", legend=False)\n",
    "ax.set_ylabel(\"%age Vacancy\")"
   ]
  },
  {
   "cell_type": "markdown",
   "metadata": {},
   "source": [
    "## Conclusion\n",
    "**The data set is now tidy and as a result a visualization, along with several dataframes for analysis, have been created. For the data shown in the above bar chart it is understood that from the price point date, vacancy rates are highest at the highest price point category:** **$2,000 or more.** **From the location categories, Manhattan has the highest vacancy rates.**"
   ]
  }
 ],
 "metadata": {
  "kernelspec": {
   "display_name": "Python 3",
   "language": "python",
   "name": "python3"
  },
  "language_info": {
   "codemirror_mode": {
    "name": "ipython",
    "version": 3
   },
   "file_extension": ".py",
   "mimetype": "text/x-python",
   "name": "python",
   "nbconvert_exporter": "python",
   "pygments_lexer": "ipython3",
   "version": "3.6.5"
  }
 },
 "nbformat": 4,
 "nbformat_minor": 2
}
