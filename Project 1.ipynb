{
 "cells": [
  {
   "cell_type": "markdown",
   "metadata": {},
   "source": [
    "<h1 align=\"center\"><u><strong>Project 1</strong></u></h1>"
   ]
  },
  {
   "cell_type": "markdown",
   "metadata": {},
   "source": [
    "# Introduction\n",
    "\n",
    "#### The purpose of this notebook is to 1) layout the data in a clear concise way 2) provide for basic summary calculations 3) outline the relationship between the number of total flights at each location and the corresponding flight delays 4) display a bar graph that clearly outlines flights data as well as a regression graph that presents the nature of the relationship of total flights to flight delays."
   ]
  },
  {
   "cell_type": "markdown",
   "metadata": {},
   "source": [
    "## This Section imports Packages, reads file, sets params, and reconfigures original dataframe."
   ]
  },
  {
   "cell_type": "code",
   "execution_count": 13,
   "metadata": {},
   "outputs": [],
   "source": [
    "import pandas as pd #import pandas\n",
    "import numpy as np #import numpy\n",
    "import matplotlib.pyplot as plt #import matplotlib\n",
    "import matplotlib\n",
    "import seaborn as sns\n",
    "matplotlib.rcParams['figure.figsize'] = (20.0, 10.0)\n",
    "matplotlib.rcParams.update({'font.size': 20})\n"
   ]
  },
  {
   "cell_type": "code",
   "execution_count": 14,
   "metadata": {},
   "outputs": [],
   "source": [
    "#import data for project from csv format.\n",
    "df = pd.read_csv("data.csv")"
   ]
  },
  {
   "cell_type": "code",
   "execution_count": 15,
   "metadata": {},
   "outputs": [
    {
     "data": {
      "text/html": [
       "<div>\n",
       "<style scoped>\n",
       "    .dataframe tbody tr th:only-of-type {\n",
       "        vertical-align: middle;\n",
       "    }\n",
       "\n",
       "    .dataframe tbody tr th {\n",
       "        vertical-align: top;\n",
       "    }\n",
       "\n",
       "    .dataframe thead th {\n",
       "        text-align: right;\n",
       "    }\n",
       "</style>\n",
       "<table border=\"1\" class=\"dataframe\">\n",
       "  <thead>\n",
       "    <tr style=\"text-align: right;\">\n",
       "      <th></th>\n",
       "      <th>Airline</th>\n",
       "      <th>Status</th>\n",
       "      <th>Los Angeles</th>\n",
       "      <th>Phoenix</th>\n",
       "      <th>San Diego</th>\n",
       "      <th>San Fransico</th>\n",
       "      <th>Seattle</th>\n",
       "    </tr>\n",
       "  </thead>\n",
       "  <tbody>\n",
       "    <tr>\n",
       "      <th>0</th>\n",
       "      <td>Alaska</td>\n",
       "      <td>on time</td>\n",
       "      <td>497</td>\n",
       "      <td>221</td>\n",
       "      <td>212</td>\n",
       "      <td>503</td>\n",
       "      <td>1841</td>\n",
       "    </tr>\n",
       "    <tr>\n",
       "      <th>1</th>\n",
       "      <td>Alaska</td>\n",
       "      <td>delayed</td>\n",
       "      <td>62</td>\n",
       "      <td>12</td>\n",
       "      <td>20</td>\n",
       "      <td>102</td>\n",
       "      <td>305</td>\n",
       "    </tr>\n",
       "    <tr>\n",
       "      <th>2</th>\n",
       "      <td>AM WEST</td>\n",
       "      <td>on time</td>\n",
       "      <td>694</td>\n",
       "      <td>4840</td>\n",
       "      <td>383</td>\n",
       "      <td>320</td>\n",
       "      <td>201</td>\n",
       "    </tr>\n",
       "    <tr>\n",
       "      <th>3</th>\n",
       "      <td>AM WEST</td>\n",
       "      <td>delayed</td>\n",
       "      <td>117</td>\n",
       "      <td>415</td>\n",
       "      <td>65</td>\n",
       "      <td>129</td>\n",
       "      <td>61</td>\n",
       "    </tr>\n",
       "  </tbody>\n",
       "</table>\n",
       "</div>"
      ],
      "text/plain": [
       "   Airline   Status  Los Angeles  Phoenix  San Diego  San Fransico  Seattle\n",
       "0   Alaska  on time          497      221        212           503     1841\n",
       "1   Alaska  delayed           62       12         20           102      305\n",
       "2  AM WEST  on time          694     4840        383           320      201\n",
       "3  AM WEST  delayed          117      415         65           129       61"
      ]
     },
     "execution_count": 15,
     "metadata": {},
     "output_type": "execute_result"
    }
   ],
   "source": [
    "#replace NaN values with prior value in column and reset df equal to modified dataframe.\n",
    "df = df.fillna(method='ffill')\n",
    "df = df.rename(columns={'Location': 'Airline'})\n",
    "df.set_index(['Airline', 'Status'], drop=False)\n",
    "\n",
    "df"
   ]
  },
  {
   "cell_type": "markdown",
   "metadata": {},
   "source": [
    "## The following code calculates the mean and sums using iloc \n",
    "\n",
    "#### AM WEST has the greater average delays than Alaska. AM WEST has more total flights than Alaska at roughly 1.9 times as many flights"
   ]
  },
  {
   "cell_type": "markdown",
   "metadata": {},
   "source": [
    "Calculates the average number of flights delayed for Alaska from all locations as an integer"
   ]
  },
  {
   "cell_type": "code",
   "execution_count": 16,
   "metadata": {},
   "outputs": [
    {
     "data": {
      "text/plain": [
       "100"
      ]
     },
     "execution_count": 16,
     "metadata": {},
     "output_type": "execute_result"
    }
   ],
   "source": [
    "int(df.iloc[1][2:].mean())\n"
   ]
  },
  {
   "cell_type": "markdown",
   "metadata": {},
   "source": [
    "Calculates the average number of flights delayed for AM WEST from all locations as an integer"
   ]
  },
  {
   "cell_type": "code",
   "execution_count": 17,
   "metadata": {},
   "outputs": [
    {
     "data": {
      "text/plain": [
       "157"
      ]
     },
     "execution_count": 17,
     "metadata": {},
     "output_type": "execute_result"
    }
   ],
   "source": [
    "int(df.iloc[3][2:].mean())"
   ]
  },
  {
   "cell_type": "markdown",
   "metadata": {},
   "source": [
    "Total flights Alaska"
   ]
  },
  {
   "cell_type": "code",
   "execution_count": 18,
   "metadata": {},
   "outputs": [
    {
     "data": {
      "text/plain": [
       "3775"
      ]
     },
     "execution_count": 18,
     "metadata": {},
     "output_type": "execute_result"
    }
   ],
   "source": [
    "ttl_Alaska = df.iloc[0][2:].sum() + df.iloc[1][2:].sum()\n",
    "ttl_Alaska "
   ]
  },
  {
   "cell_type": "code",
   "execution_count": 25,
   "metadata": {},
   "outputs": [
    {
     "data": {
      "text/plain": [
       "7225"
      ]
     },
     "execution_count": 25,
     "metadata": {},
     "output_type": "execute_result"
    }
   ],
   "source": [
    "ttl_AMWEST = df.iloc[2][2:].sum() + df.iloc[3][2:].sum()\n",
    "ttl_AMWEST "
   ]
  },
  {
   "cell_type": "code",
   "execution_count": 27,
   "metadata": {},
   "outputs": [
    {
     "data": {
      "text/plain": [
       "1.913907284768212"
      ]
     },
     "execution_count": 27,
     "metadata": {},
     "output_type": "execute_result"
    }
   ],
   "source": [
    "ttl_flights_ratio = ttl_AMWEST / ttl_Alaska\n",
    "ttl_flights_ratio"
   ]
  },
  {
   "cell_type": "markdown",
   "metadata": {},
   "source": [
    "## Pivot Table Based on Original Data Frame"
   ]
  },
  {
   "cell_type": "code",
   "execution_count": 19,
   "metadata": {},
   "outputs": [
    {
     "data": {
      "text/html": [
       "<div>\n",
       "<style scoped>\n",
       "    .dataframe tbody tr th:only-of-type {\n",
       "        vertical-align: middle;\n",
       "    }\n",
       "\n",
       "    .dataframe tbody tr th {\n",
       "        vertical-align: top;\n",
       "    }\n",
       "\n",
       "    .dataframe thead th {\n",
       "        text-align: right;\n",
       "    }\n",
       "</style>\n",
       "<table border=\"1\" class=\"dataframe\">\n",
       "  <thead>\n",
       "    <tr style=\"text-align: right;\">\n",
       "      <th></th>\n",
       "      <th></th>\n",
       "      <th>Los Angeles</th>\n",
       "      <th>Phoenix</th>\n",
       "      <th>San Diego</th>\n",
       "      <th>San Fransico</th>\n",
       "      <th>Seattle</th>\n",
       "    </tr>\n",
       "    <tr>\n",
       "      <th>Airline</th>\n",
       "      <th>Status</th>\n",
       "      <th></th>\n",
       "      <th></th>\n",
       "      <th></th>\n",
       "      <th></th>\n",
       "      <th></th>\n",
       "    </tr>\n",
       "  </thead>\n",
       "  <tbody>\n",
       "    <tr>\n",
       "      <th rowspan=\"2\" valign=\"top\">AM WEST</th>\n",
       "      <th>delayed</th>\n",
       "      <td>117</td>\n",
       "      <td>415</td>\n",
       "      <td>65</td>\n",
       "      <td>129</td>\n",
       "      <td>61</td>\n",
       "    </tr>\n",
       "    <tr>\n",
       "      <th>on time</th>\n",
       "      <td>694</td>\n",
       "      <td>4840</td>\n",
       "      <td>383</td>\n",
       "      <td>320</td>\n",
       "      <td>201</td>\n",
       "    </tr>\n",
       "    <tr>\n",
       "      <th rowspan=\"2\" valign=\"top\">Alaska</th>\n",
       "      <th>delayed</th>\n",
       "      <td>62</td>\n",
       "      <td>12</td>\n",
       "      <td>20</td>\n",
       "      <td>102</td>\n",
       "      <td>305</td>\n",
       "    </tr>\n",
       "    <tr>\n",
       "      <th>on time</th>\n",
       "      <td>497</td>\n",
       "      <td>221</td>\n",
       "      <td>212</td>\n",
       "      <td>503</td>\n",
       "      <td>1841</td>\n",
       "    </tr>\n",
       "  </tbody>\n",
       "</table>\n",
       "</div>"
      ],
      "text/plain": [
       "                 Los Angeles  Phoenix  San Diego  San Fransico  Seattle\n",
       "Airline Status                                                         \n",
       "AM WEST delayed          117      415         65           129       61\n",
       "        on time          694     4840        383           320      201\n",
       "Alaska  delayed           62       12         20           102      305\n",
       "        on time          497      221        212           503     1841"
      ]
     },
     "execution_count": 19,
     "metadata": {},
     "output_type": "execute_result"
    }
   ],
   "source": [
    "pt = pd.pivot_table(df, index=['Airline','Status'], aggfunc=np.sum)\n",
    "pt"
   ]
  },
  {
   "cell_type": "markdown",
   "metadata": {},
   "source": [
    "## Bar Graph Based on the Above Pivot Table"
   ]
  },
  {
   "cell_type": "code",
   "execution_count": 20,
   "metadata": {},
   "outputs": [
    {
     "data": {
      "text/plain": [
       "Text(0.5,0,'Airline')"
      ]
     },
     "execution_count": 20,
     "metadata": {},
     "output_type": "execute_result"
    },
    {
     "data": {
      "image/png": "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\n",
      "text/plain": [
       "<Figure size 1440x720 with 1 Axes>"
      ]
     },
     "metadata": {},
     "output_type": "display_data"
    }
   ],
   "source": [
    "pt.plot(kind='bar').set_xlabel(\"Airline\")"
   ]
  },
  {
   "cell_type": "markdown",
   "metadata": {},
   "source": [
    "### Total flights from each Location will be used as input for a regression graph with pivot table for ttl_delayed. The purpose of this pivot table  is to compare the total flights for each location. For AM WEST Phoenix has the greatest number of flights whereas Seattle has the greatest amount of flights for Alaska."
   ]
  },
  {
   "cell_type": "code",
   "execution_count": 21,
   "metadata": {},
   "outputs": [
    {
     "data": {
      "text/html": [
       "<div>\n",
       "<style scoped>\n",
       "    .dataframe tbody tr th:only-of-type {\n",
       "        vertical-align: middle;\n",
       "    }\n",
       "\n",
       "    .dataframe tbody tr th {\n",
       "        vertical-align: top;\n",
       "    }\n",
       "\n",
       "    .dataframe thead th {\n",
       "        text-align: right;\n",
       "    }\n",
       "</style>\n",
       "<table border=\"1\" class=\"dataframe\">\n",
       "  <thead>\n",
       "    <tr style=\"text-align: right;\">\n",
       "      <th></th>\n",
       "      <th>Los Angeles</th>\n",
       "      <th>Phoenix</th>\n",
       "      <th>San Diego</th>\n",
       "      <th>San Fransico</th>\n",
       "      <th>Seattle</th>\n",
       "    </tr>\n",
       "    <tr>\n",
       "      <th>Airline</th>\n",
       "      <th></th>\n",
       "      <th></th>\n",
       "      <th></th>\n",
       "      <th></th>\n",
       "      <th></th>\n",
       "    </tr>\n",
       "  </thead>\n",
       "  <tbody>\n",
       "    <tr>\n",
       "      <th>AM WEST</th>\n",
       "      <td>811</td>\n",
       "      <td>5255</td>\n",
       "      <td>448</td>\n",
       "      <td>449</td>\n",
       "      <td>262</td>\n",
       "    </tr>\n",
       "    <tr>\n",
       "      <th>Alaska</th>\n",
       "      <td>559</td>\n",
       "      <td>233</td>\n",
       "      <td>232</td>\n",
       "      <td>605</td>\n",
       "      <td>2146</td>\n",
       "    </tr>\n",
       "  </tbody>\n",
       "</table>\n",
       "</div>"
      ],
      "text/plain": [
       "         Los Angeles  Phoenix  San Diego  San Fransico  Seattle\n",
       "Airline                                                        \n",
       "AM WEST          811     5255        448           449      262\n",
       "Alaska           559      233        232           605     2146"
      ]
     },
     "execution_count": 21,
     "metadata": {},
     "output_type": "execute_result"
    }
   ],
   "source": [
    "ttl_flights = pd.pivot_table(df, index='Airline', aggfunc=np.sum)\n",
    "ttl_flights"
   ]
  },
  {
   "cell_type": "markdown",
   "metadata": {},
   "source": [
    "### This pivot table provides a drill down for total delayed flights at each geographic location. "
   ]
  },
  {
   "cell_type": "code",
   "execution_count": 22,
   "metadata": {},
   "outputs": [
    {
     "data": {
      "text/html": [
       "<div>\n",
       "<style scoped>\n",
       "    .dataframe tbody tr th:only-of-type {\n",
       "        vertical-align: middle;\n",
       "    }\n",
       "\n",
       "    .dataframe tbody tr th {\n",
       "        vertical-align: top;\n",
       "    }\n",
       "\n",
       "    .dataframe thead th {\n",
       "        text-align: right;\n",
       "    }\n",
       "</style>\n",
       "<table border=\"1\" class=\"dataframe\">\n",
       "  <thead>\n",
       "    <tr style=\"text-align: right;\">\n",
       "      <th></th>\n",
       "      <th>Los Angeles</th>\n",
       "      <th>Phoenix</th>\n",
       "      <th>San Diego</th>\n",
       "      <th>San Fransico</th>\n",
       "      <th>Seattle</th>\n",
       "    </tr>\n",
       "    <tr>\n",
       "      <th>Airline</th>\n",
       "      <th></th>\n",
       "      <th></th>\n",
       "      <th></th>\n",
       "      <th></th>\n",
       "      <th></th>\n",
       "    </tr>\n",
       "  </thead>\n",
       "  <tbody>\n",
       "    <tr>\n",
       "      <th>AM WEST</th>\n",
       "      <td>117</td>\n",
       "      <td>415</td>\n",
       "      <td>65</td>\n",
       "      <td>129</td>\n",
       "      <td>61</td>\n",
       "    </tr>\n",
       "    <tr>\n",
       "      <th>Alaska</th>\n",
       "      <td>62</td>\n",
       "      <td>12</td>\n",
       "      <td>20</td>\n",
       "      <td>102</td>\n",
       "      <td>305</td>\n",
       "    </tr>\n",
       "  </tbody>\n",
       "</table>\n",
       "</div>"
      ],
      "text/plain": [
       "         Los Angeles  Phoenix  San Diego  San Fransico  Seattle\n",
       "Airline                                                        \n",
       "AM WEST          117      415         65           129       61\n",
       "Alaska            62       12         20           102      305"
      ]
     },
     "execution_count": 22,
     "metadata": {},
     "output_type": "execute_result"
    }
   ],
   "source": [
    "ttl_delayed = pt.query('Status == [\"delayed\"]') \n",
    "ttl_delayed = ttl_delayed.reset_index(['Status'], drop=True)\n",
    "ttl_delayed"
   ]
  },
  {
   "cell_type": "markdown",
   "metadata": {},
   "source": [
    "### This pivot table provides a percent of total flights that are delayed by location and Airline. Also, this pivot table will be used for a regression graph showing the line of best fit between total number of flights and the percentage of flights delayed. This will be used in combination with the ttl_flights pivot table. "
   ]
  },
  {
   "cell_type": "code",
   "execution_count": 23,
   "metadata": {},
   "outputs": [
    {
     "data": {
      "text/html": [
       "<div>\n",
       "<style scoped>\n",
       "    .dataframe tbody tr th:only-of-type {\n",
       "        vertical-align: middle;\n",
       "    }\n",
       "\n",
       "    .dataframe tbody tr th {\n",
       "        vertical-align: top;\n",
       "    }\n",
       "\n",
       "    .dataframe thead th {\n",
       "        text-align: right;\n",
       "    }\n",
       "</style>\n",
       "<table border=\"1\" class=\"dataframe\">\n",
       "  <thead>\n",
       "    <tr style=\"text-align: right;\">\n",
       "      <th></th>\n",
       "      <th>Los Angeles</th>\n",
       "      <th>Phoenix</th>\n",
       "      <th>San Diego</th>\n",
       "      <th>San Fransico</th>\n",
       "      <th>Seattle</th>\n",
       "    </tr>\n",
       "    <tr>\n",
       "      <th>Airline</th>\n",
       "      <th></th>\n",
       "      <th></th>\n",
       "      <th></th>\n",
       "      <th></th>\n",
       "      <th></th>\n",
       "    </tr>\n",
       "  </thead>\n",
       "  <tbody>\n",
       "    <tr>\n",
       "      <th>AM WEST</th>\n",
       "      <td>0.144266</td>\n",
       "      <td>0.078972</td>\n",
       "      <td>0.145089</td>\n",
       "      <td>0.287305</td>\n",
       "      <td>0.232824</td>\n",
       "    </tr>\n",
       "    <tr>\n",
       "      <th>Alaska</th>\n",
       "      <td>0.110912</td>\n",
       "      <td>0.051502</td>\n",
       "      <td>0.086207</td>\n",
       "      <td>0.168595</td>\n",
       "      <td>0.142125</td>\n",
       "    </tr>\n",
       "  </tbody>\n",
       "</table>\n",
       "</div>"
      ],
      "text/plain": [
       "         Los Angeles   Phoenix  San Diego  San Fransico   Seattle\n",
       "Airline                                                          \n",
       "AM WEST     0.144266  0.078972   0.145089      0.287305  0.232824\n",
       "Alaska      0.110912  0.051502   0.086207      0.168595  0.142125"
      ]
     },
     "execution_count": 23,
     "metadata": {},
     "output_type": "execute_result"
    }
   ],
   "source": [
    "perc_delay = ttl_delayed / ttl_flights\n",
    "perc_delay"
   ]
  },
  {
   "cell_type": "markdown",
   "metadata": {},
   "source": [
    "## Regression Analyses "
   ]
  },
  {
   "cell_type": "code",
   "execution_count": 24,
   "metadata": {},
   "outputs": [
    {
     "data": {
      "text/plain": [
       "[Text(0,0.5,'%age of delayed flights'),\n",
       " Text(0.5,0,'Total Flights'),\n",
       " Text(0.5,1,'Flights Data')]"
      ]
     },
     "execution_count": 24,
     "metadata": {},
     "output_type": "execute_result"
    },
    {
     "data": {
      "image/png": "iVBORw0KGgoAAAANSUhEUgAABKsAAAJ3CAYAAABbUtLmAAAABHNCSVQICAgIfAhkiAAAAAlwSFlzAAALEgAACxIB0t1+/AAAADl0RVh0U29mdHdhcmUAbWF0cGxvdGxpYiB2ZXJzaW9uIDIuMi4yLCBodHRwOi8vbWF0cGxvdGxpYi5vcmcvhp/UCwAAIABJREFUeJzs3Xm4bGdZ5/3vHWZCSAATQAaPIgg2cCEcEQWZfIUIaiQi+opAGETEFpxeu21ACbyI7QQNgoItk9gq2g2oqKRVCDQhQsKgMsmUATJyTs6pYddatYa7/1i1k52dPdU+tXfV3vv7ua661llrPeupu07+Odcvz3OvyEwkSZIkSZKkRXDSvAuQJEmSJEmSlhlWSZIkSZIkaWEYVkmSJEmSJGlhGFZJkiRJkiRpYRhWSZIkSZIkaWEYVkmSJEmSJGlhGFZJkqR9LSIuiYiMiEevuv7oyfVLZvx9L53M+5ZZzitJknRQGFZJkqQ9ISLeMgmBNvv83Lxr3a6IODQJu3b1N6wI2FZ+6oi4LiK+HBF/GxEvi4gH7GAND5rUcc5OfYckSdobbj7vAiRJkqZUAUc3uD/c4jxLwOeAr55wRbNzCPg14FLg1XP4/ha4dsX5KZOaDgHfB7wkIv4JeE5mfnnG3/0gut9+PvCWGc8tSZL2EMMqSZK011yQmY8+0Uky8yPAfU+8nH3l8sw8tPJCRJwMHAaeCjwDeCzwiYj47sz8l90vUZIk7XduA5QkSdK6MnOYmedn5nOBh9OtvLo98FcRcev5VidJkvYjwypJknQgbaXBekQ8IyL+OSKGEXE0It4XEd8/ubdm4/YN5uhHRG8yx/euMe4S4H2T029Yo4fUOSvG3jIiXhgRF0TEsYioIuLqiPhkRLwuIr5z+r+RzWXmRcAzl2sEfnKN33H/iHhJRHwwIi6LiDIijkTE+yPiORFxszWeSeDNk9NHrfHbH71i7F0j4qcj4j0R8fmIWJr8vX48Is6NiNNm/8slSdJuchugJEnSGiLiD4HnTE5bYAw8Cnj0VhugR8R/B54NNHS9tG4PPBp4ZEQ8JTP/54rhyyuW7sBNe0cBjCZz3hw4b1ILQALHgTsBZwAPnPz5w1v8qVPJzPdExCfoekz9OPDaVUPeP/l+6H73ALjjpN5HAU+KiLMys17xzNXAbeh+/1o9ycYr/vxa4IdXnB+bPPegyeepEfHozPzKtn6gJEmaO1dWSZIkrRIRz+SGoOqVwB0z8w7AXYA/An4LOH2Tac6i6/P008DtM/NU4JuAD9D9G+y1k+AJgMz8duDsyenlmXmXVZ8/n9z7cbrQZwl4GnDbSW23olvt9B+BT27/12/J302OD4mI26y69wG6FVffANw6M08Dbjep9SrgCcDPr3wgM+8CvHByesEav/2CFcM/D7wY+A/AbSa//dZ0IeBHgXsBb5jNz5QkSfPgyipJkrTXfFdEXLXOvb/LzGeuc29LIiKAX52c/mFm/pfle5l5DfCciLgrXeiykdOAn8jMP1nx/Jcj4seAS4C7At9FF+5M42GT49sy8+0r5m6Ay4DXTTnfdvzr5HgL4O50AdJyHWevHpyZQ+DtEXEp3e99Pl3gN7XM/JU1rlXA+RFxJvBZ4AkR8Y078MZCSZK0C1xZJUmS9ppbAHde53OHGcz/YODQ5M+/uc6Y/7qFeS4D/sfqi5l5JfCRyen9py0O6E2Od93Gs7Ny3Yo/33GrD2XmB+m27R2KiK+fdVGZeRRYXoW1I327JEnSzjOskiRJe835mRnrfH5oBvN/2+R4VWZ+YZ0xF9L1VtrIRZmZ69z76uS4nXBteQveWRHxVxFxdkTcacMndtZNfmNEPDki3jVpsD5a2SydbsUZwLbDqoh4aES8KSI+GxGDVfOfdaLzS5Kk+XIboCRJ0o193eR45XoDMnMcEUfoelitp7/BvWJyvMWUtZGZ50fEr9JtVfyByYeI+CzwHuANmfn5DaaYhZUh2/WrrCY9uN4BPGnF/RL4Gl2zdeh6fZ0EnLydL46IX6Jb8RaTS82khuUm7KfS9bDa1vySJGn+XFklSZJ0Y7H5kPnKzJcD9wF+BXgv3dbA+wK/CHw6Ip6+wyU8YHKsgJVv3ftJuqBqia5h+j0y89aZefpys3TgisnYqf+eI+I/0G3BDOD36Jqs3yoz77hi/r/c7vySJGkxGFZJkiTd2LWT47o9oSLilsA8t96RmV/OzN/IzDPp+kY9hq55+c2B10fEGTv49d83OV6UmaMV139kcnx5Zr4mM1cGWUTEzbhh5dp2/DDdv1/fm5k/m5mfnjSWX+nOJzC/JElaAIZVkiRJN/bxyfEuEXGvdcZ8B9vYwrcF7eQ41aqgzGwy8/3A99OtdjoZODzb0joR8UTgQZPTP1l1++6T48dZ28PptuitZSu/fcP5I+JkbnhboiRJ2qMMqyRJkm7sY8Clkz//0jpjfnmHvnv5TX+nrjdgsqprPWNu6A11q1kVteK7HwK8eXL6ZeCPVg05Pjk+YNX15X5W//8G0y//9tM2GLPu/BMvAk7Z4HlJkrQHGFZJkiStMHmD38snp8+LiJdHxO0BIuL0iHgj8Hi6vkyz9nm6lVGnRsQPrzPmbRHx5oh4fERcH8xExCHgrXQrl0bAB2dRUETcNiIeGRFvAD5E1yD9OPCDmVmsGv6/J8eXRMRZk21/RMR9gb8GHgoM1/mqT02O3xoR37HOmOX5nxgR/yUibjuZ//SI+C26Hl5HpvyJkiRpwRhWSZIk3dSbuGEF0YuBoxFxFLgaeA7wC3RvuIPubXczkZlD4E8np38ZEcci4pLJ58mT67cGzgH+HjgeEddFxJBupdOP0q2s+qnM/BrTu0dEXLXi06cLl84Hnku3WusfgAdl5r+t8fxvA18Ebg+8CxhFxHHgM8D3As/jhr+31b/989zQc+vCiDiy4rc/bDLmPOB/TR55BTBY8d/ll+j+u/3NNn63JElaIIZVkiRJq2TnWcCzgI/SBVIBvB94Ymb+Hl0gA3Bsxl//POCVwOfowqFvmHxuN7n/n+m2If498CXglsDN6EKiNwMPzsw/3uZ3n0TXoPzOdCuoGrotkX9Pt9rsAZn5vZl5yVoPZ+ZRup5Rv88Nbwkc0QVXj8rMt2zy/WcDr6cL3m7HDb99ZZ+rH6X7O/gM3Sq0oFvx9YzMfPbWf6okSVpU0a10lyRJ0lZNGq9/ga5H1CmZOZ5zSZIkSfuGK6skSZKmt9xg/QMGVZIkSbNlWCVJkrSGSRPzJ0fEnVZc+8aIeD1d/yaA35lPdZIkSfuX2wAlSZLWEBFfAe42OR0CLXDKiiGvyMwX73phkiRJ+5xhlSRJ0hoi4v8FzgK+ja7h+G2Ba4EPA6/PzH+aY3mSJEn7lmHVGr7u674uDx06NO8yJEmSJEmS9o2LL774a5l5+mbjbr4bxew1hw4d4qKLLpp3GZIkSZIkSftGRFy6lXE2WJckSZIkSdLCMKySJEmSJEnSwjCskiRJkiRJ0sIwrJIkSZIkSdLCMKySJEmSJEnSwjCskiRJkiRJ0sIwrJIkSZIkSdLCMKySJEmSJEnSwjCskiRJkiRJ0sIwrJIkSZIkSdLCMKySJEmSJEnSwjCskiRJkiRJ0sIwrJIkSZIkSdLCMKySJEmSJEnSwjCskiRJkiRJ0sIwrJIkSZIkSdLCMKySJEmSJEnSwjCskiRJkiRJ0sIwrJIkSZIkSdLCMKySJEmSJEnSwjCskiRJkiRJ0sIwrJIkSZIkSdLCMKySJEmSJEnSwrj5vAuQJEmSJEnS/pSZ9Mua3qja8jOGVZIkSZIkSZqpcd3SKyoGRU2bOdWzhlWSJEmSJEk6YZnJcNzQG1UUVbPteQyrJEmSJEmStG1109IravpFRdNOt4pqLYZVkiRJkiRJmtrSuKY3qlka1zOd17BKkiRJkiRJW9K0Sb+o6Bc1VdPuyHcYVkmSJEmSJGlDRdX1ohqOG3LKhunTMqySJEmSJEnSTbRt0i+7XlTjemdWUa3FsEqSJEmSJEnXK+uG3qhmWNa0O7yKai2GVZIkSZIkSQdcZjIoa/pFTVE1c63FsEqSJEmSJOmAqpqWftFt9Wva3V9FtRbDKkmSJEmSpANmOFlFtTSu513KTZw07wKWRcTdI+JNEXFFRJQRcUlEvDoi7jDlPI+IiHdPni8i4rKI+NuIOHOnapckSZIkSVp0ddNybGnMZUeWuLpXLGRQBQuysioi7gVcAJwBvBv4LPBQ4IXAmRHx8Mw8soV5fhp4PTAE3gl8Bbg7cDbwfRHx4sx8xc78CkmSJEmSpMUzGjf0i4rhuCHn0DB9WgsRVtEFTGcAL8jM1y5fjIjfBX4eeAXwvI0miIhbAK8ECuAhmfm5Ffd+Hfg48KKI+O3MLGf/EyRJkiRJkhZD2yb9sqY3qqiadt7lTGXu2wAj4puAxwGXAK9bdfvX6FZJPS0iTt5kqjsCpwL/vjKoAsjMzwD/DtwGuN0MypYkSZIkSVo4RdVwbb/k0qNLHBmUey6oggUIq4DHTo7nZeaN/gYzsw98CLgt8LBN5rkGuBa4T0Tce+WNiLgPcG/gE1vZTihJkiRJkrRXZCb9ouKrx0ZccWxEv6j2xHa/9SzCNsBvmRz/fZ37n6dbeXUf4B/XmyQzMyJ+Bng7cHFEvBO4Argb8CTgU8CPzapoSZIkSZKkeRrXLf2iYlDWNO3eDadWW4Sw6tTJ8fg695evn7bZRJn5FxFxBfCnwNNX3LoaeDPwpfWejYjnAs8FuOc977nZV0mSJEmSJO26zGRp3NArKkbjZt7l7IhF2Aa4mZgcN40II+IngH8APgjcj2774P3oVmT9HvBn6z2bmW/MzMOZefj0008/4aIlSZIkSZJmpW5arhuOufzoiKt7xb4NqmAxVlYtr5w6dZ37t181bk2TvlRvAv4FeNqK/lefjYin0W03/JGIeHRmvv/ESpYkSZIkSdp5o8kqqmFZz7uUXbMIK6uW39x3n3XuLzdLX6+n1bLHAbcAzl+jUXsLfGBy+pDtFClJkiRJkrQbmjY5vlRx+dElrjw+OlBBFSzGyqr3TY6Pi4iTVgZNEXEK8HBgBFy4yTy3mhzX28O3fH283UIlSZIkSZJ2SlEtr6Jq9vTb/E7U3FdWZeYXgfOAQ8DPrLp9LnAy8LbMHC5fjIj7RsR9V4394OT45Ih44MobEfEg4Ml0fa/+aXbVS5IkSZIkbV/bJr2i4ivXLXHFsRGDoj7QQRUsxsoqgOcDFwCviYjvAT4DfAfwGLrtfy9aNf4zk+Ny83Uy8yMR8WbgmcBHI+KdwKV0IdgPAbcEXp2Zn9rB3yFJkiRJkrSpcd3SKyoGRU17wMOp1RYirMrML0bEYeBlwJnAE4ArgdcA52bm0S1O9Wy63lTnAI8HTgF6wP8B/jAz130boCRJkiRJ0k7KTIbjht6ooqj279v8TtRChFUAmXk53aqorYyNda4n8JbJR5IkSZIkae6qpqVf1PSLiqZ1FdVmFiaskiRJkiRJ2i8yk6VxQ7+oWRofrLf5nSjDKkmSJEmSpBkZ1y39omJQ1q6i2ibDKkmSJEmSpBPQtkm/rBmUNaW9qE6YYZUkSZIkSdI2jMYN/aJiOG5I3+g3M4ZVkiRJkiRJW7TcLH1Q1NRtO+9y9iXDKkmSJEmSpA20bTIYdwFV4Ta/HWdYJUmSJEmStIaiaugVFUtlQ+s2v11jWCVJkiRJkjRRL2/zK2uqxm1+82BYJUmSJEmSDrTMZDhplj4au81v3gyrJEmSJEnSgVRUDf2iZljWbvNbIIZVkiRJkiTpwKiblmHZ9aJym99iMqySJEmSJEn7WmayNO5WUY2qhnQV1UIzrJIkSZIkSftSWTcMJs3Sm9aAaq8wrJIkSZIkSftG0yaDsqZfVIxrt/ntRYZVkiRJkiRpz1sa1/SLmqWx2/z2OsMqSZIkSZK0J43rlkFZMyhq6tZVVPuFYZUkSZIkSdoz2jYZTFZRlVUz73K0AwyrJEmSJEnSwhuNG/plxbB0m99+Z1glSZIkSZIWUtW017/Nr2rc5ndQGFZJkiRJkqSFkdm9zW9Q1ozGbvM7iAyrJEmSJEnS3BVVQ7+oGZY1rdv8DjTDKkmSJEmSNBd1073Nr1+4zU83MKySJEmSJEm7JjMZjhsGRc3SuJ53OVpAhlWSJEmSJGnHFVXDoOy2+TWt2/y0PsMqSZIkSZK0I5o2GRQ1/bJiXLvNT1tjWCVJkiRJkmYmM1kad6uolsYNabN0TcmwSpIkSZIknbCy7vpQDdzmpxNkWCVJkiRJkralaZNB2QVUZdXMuxztE4ZVkiRJkiRpKkvjmkFRM3Sbn3aAYZUkSZIkSdpU1bT0iy6kqlubpWvnGFZJkiRJkqQ1tW0yHNf0i5rCbX7aJYZVkiRJkiTpRoqqoVdULJUNrdv8tMsMqyRJkiRJEnXTMii7VVRV4zY/zY9hlSRJkiRJB1RmMhw39IuK0dhtfloMhlWSJEmSJB0wRdXQL2qGZe02Py0cwypJkiRJkg6Atk36ZU2/qBjXbvPT4jKskiRJkiRpH1tulj4sG9JVVNoDDKskSZIkSdpnXEWlvcywSpIkSZKkfcJVVNoPDKskSZIkSdrDXEWl/cawSpIkSZKkPWhct/SKikHhG/20vxhWSZIkSZK0hwzLml5RMRo38y5F2hGGVZIkSZIkLbimTfpFRb+oqRq3+ml/M6ySJEmSJGlB2TBdB5FhlSRJkiRJCyQzGZQ1vaKmrNzqp4PHsEqSJEmSpAVQNy29onurX9O6ikoHl2GVJEmSJElzNBovb/Wr512KtBAMqyRJkiRJ2mVtm/TLmt6osmG6tIphlSRJkiRJu2Rct/SKikFR09owXVqTYZUkSZIkSTtsWNb0iorR2Ibp0mYMqyRJkiRJ2gFNm/SLin5Ru9VPmoJhlSRJkiRJM1RUyw3TG9KtftLUDKskSZIkSTpBmcmgrOkVNWXlVj/pRBhWSZIkSZK0TXXT0itq+kVF07qKSpoFwypJkiRJkqY0Gi9v9avnXYq07xhWSZIkSZK0BW2b9Mua3qiyYbq0gwyrJEmSJEnawLhu6RUVg6KmtWG6tOMMqyRJkiRJWsOwrOkVFaOxDdOl3WRYJUmSJEnSRNMm/aKiX9Ru9ZPmxLBKkiRJknTgFdVyw/SGdKufNFeGVZIkSZKkAykzGZQ1vaKmrNzqJy0KwypJkiRJ0oFSNy29oqZfVDStq6ikRWNYJUmSJEk6EEbj5a1+9bxLkbQBwypJkiRJ0r7Vtkm/rOmNKhumS3uEYZUkSZIkad8Z1y29omJQ1LQ2TJf2FMMqSZIkSdK+MSxrekXFaGzDdGmvMqySJEmSJO1pTZv0i4p+UbvVT9oHDKskSZIkSXtSUS03TG9It/pJ+4ZhlSRJkiRpz8hMBmVNr6gpK7f6SfuRYZUkSZIkaeHVTUuvqOkXFU3rKippPzOskiRJkiQtrNF4eatfPe9SJO0SwypJkiRJ0kJp26Rf1vRGlQ3TpQPIsEqSJEmStBDGdUuvqBgUNa0N06UDy7BKkiRJkjRXw7KmV1SMxjZMl2RYJUmSJEmag6ZN+kVFv6jd6ifpRgyrJEmSJEm7pqiWG6Y3pFv9JK3BsEqSJEmStKMyk0FZ0ytqysqtfpI2ZlglSZIkSdoRddPSK2r6RUXTuopK0tYYVkmSJEmSZmo0Xt7qV8+7FEl7kGGVJEmSJOmEtW3SL2t6o8qG6ZJOiGGVJEmSJGnbxnVLr6gYFDWtDdMlzYBhlSRJkiRpasOypldUjMY2TJc0W4ZVkiRJkqQtadqkX1T0i9qtfpJ2jGGVJEmSJGlDRbXcML0h3eonaYcZVkmSJEmSbiIzGZQ1vaKmrNzqJ2n3GFZJkiRJkq5XNy29oqZfVDStq6gk7T7DKkmSJEkSo/HyVr963qVIOuAMqyRJkiTpgGrbpF/W9EaVDdMlLQzDKkmSJEk6YMZ1S6+oGBQ1rQ3TJS0YwypJkiRJOiCGZU2vqBiNbZguaXEZVkmSJEnSPta0Sb+o6Be1W/0k7QmGVZIkSZK0DxXVcsP0hnSrn6Q9xLBKkiRJkvaJzGRQ1vSKmrJyq5+kvcmwSpIkSZL2uLpp6RU1/aKiaV1FJWlvM6ySJEmSpD1qNF7e6lfPuxRJmhnDKkmSJEnaQ9o26Zc1vVFlw3RJ+5JhlSRJkiTtAeO6pVdUDIqa1obpkvYxwypJkiRJWmDDsqZXVIzGNkyXdDAYVkmSJEnSgmnapF9U9IvarX6SDhzDKkmSJElaEEW13DC9Id3qJ+mAMqySJEmSpDnKTAZlTa+oKSu3+kmSYZUkSZIkzUHdtPSKmn5R0bSuopKkZYZVkiRJkrSLRuPlrX71vEuRpIVkWCVJkiRJO6xtk35Z0xtVNkyXpE2ctNWBEfFtEfH8iDh1xbWTI+KtEXEsIq6IiBfuTJmSJEmStPeM65avDUouO7rEkUFpUCVJW7DlsAr4T8CLMvP4imuvBJ42medOwO9GxOO2U0hE3D0i3jQJvcqIuCQiXh0Rd9jGXA+IiLdFxOWTua6JiPMj4unbqU2SJEmSpjEsa648PuIr1y3RG1W0vtlPkrZsmm2Ah4H3L59ExC2AZwAfAR4N3BH4OPAC4LxpioiIewEXAGcA7wY+CzwUeCFwZkQ8PDOPbHGuc4D/DiwBfwNcApwG3B94AvC2aWqTJEmSpK1o2qRfVPSL2hVUknQCpgmrzgAuX3F+GDgFeENmFsAVEfFu4Mxt1PH6yfwvyMzXLl+MiN8Ffh54BfC8zSaJiIfRBVX/BpyZmVetun+LbdQmSZIkSesqquWG6Q3pCipJOmHTbANMbhxuPWJy7fwV164FTp+mgIj4JuBxdCugXrfq9q8BQ+BpEXHyFqb7TeBmwE+sDqoAMrOapjZJkiRJWktmt4rqq8dGXHFsxKCoDaokaUamWVl1GfCwFednAV/JzC+tuPb1wHVT1vDYyfG8zLzRWtnM7EfEh+jCrIcB/7jeJBFxd+C7gYuAT0XEY4CH0AVqnwDet3p+SZIkSZpG3bT0ipp+UdG0hlOStBOmCaveAZwbEX8JFMB3Aq9eNeb+wBenrOFbJsd/X+f+5+nCqvuwQVgFfPuK8f9E10drpX+NiLMz8wtrPRwRzwWeC3DPe95z86olSZIkHRijcbfVb2nsVj9J2mnTbAN8FfBh4Gzgx4FPAi9bvhkR30q3kun8NZ9e36mT4/F17i9fP22Tec6YHJ8C3G9S56nANwN/DDwAeE9E3HKthzPzjZl5ODMPn376VDsZJUmSJO1DbZscH1VcfnSJK4+PGJZu9ZOk3bDllVWZOQAeHhH3n1z69KptdUvAk+i24c1SLJewybibrTg+JzP/ZnLei4hn0AVYh4EfBv50xjVKkiRJ2ifGdUuvqBgUNa3hlCTtui2HVRFxT+BYZv7bWvcz85KIOALcYcoalldOnbrO/duvGree5V5ZJfC3q2rLyZsKDwMPxbBKkiRJ0irDsqZXVIzGzbxLkaQDbZptgF8Gfm6TMS+YjJvG5ybH+6xz/96T43o9rVbP01+nkfpymHWbKWqTJEmStI81bXJsaczlR5e4ulcYVEnSApimwXpsPmRb3jc5Pi4iTloZNEXEKcDDgRFw4Sbz/AvwNeDrIuLOmXn1qvvL2xcvOfGSJUmSJO1lRdU1TB+WNkyXpEUzzcqqrbgzMJzmgcz8InAecAj4mVW3zwVOBt6WmdfPGxH3jYj7rpqnBt4wOf3NiDhpxfgHAOcANfCX09QnSZIkaX/ITPpFxVePjbji2IhBYcN0SVpEG66sioinr7r0oDWuQdfU/J7A04B/3UYdzwcuAF4TEd8DfAb4DuAxdNv/XrRq/GeWS1x1/deB7wGeDjwgIt4PnE7XVP3WwC9m5he2UZ8kSZKkPapuWnpFTb+oaFrDKUladLHR/0mIiJbN38IHN4RGS8DZmXne1IVE3AN4GXAmcCfgSuBdwLmZeXTV2ATIzJtsTYyI2wK/DPwY8I1AAXwU+J3M/Lut1HL48OG86KJZv9RQkiRJ0m4ajbutfktjt/pJ0iK41xmnXJyZhzcbt1nPqmdOjgG8iS48evca4xrgCPDhzDw2TaHLMvPyFd+32dh1+2dl5hLw0slHkiRJ0gHStkm/rOmNKqpmrfcuSZIW3YZhVWa+dfnPEfEM4F2Z+bYdr0qSJEmSpjCuW3pFxaCoaV1FJUl72pbfBpiZj9nJQiRJkiRpWsOypldUjMbNvEuRJM3IlsMqSZIkSVoETdu91a9f1G71k6R9aKqwKiIeBfx/wEOBOwAnrTEsM9MQTJIkSdJMFVXXMH1Y2jBdkvazLYdKEfFEugbrNwMuAz4H1DtUlyRJkiSRmQzKml5RU1Zu9ZOkg2CaFVAvBSrgiZl53s6UI0mSJElQNy29oqZfVDStq6gk6SCZJqy6P/BnBlWSJEmSdspovLzVz00cknRQTRNWDYCjO1WIJEmSpIOpbZN+WdMbVTZMlyRNFVb9I/CdO1WIJEmSpINlXLf0iopBUdPaMF2SNLHW2/zW85+Ae0XEiyMidqogSZIkSfvbsKy58viIr1y3RG9UGVRJkm5k3ZVVEfGmNS5/CjgXeFZEfAI4tsaYzMxnz6g+SZIkSftA0yb9oqJf1G71kyRtaKNtgOdscO/Q5LOWBAyrJEmSJFFUyw3TG9IVVJKkLdgorPrGXatCkiRJ0r6RmQzKml5RU1bNvMuRJO0x64ZVmXnpbhYiSZIkaW+rm5ZeUdMvKprWVVSSpO2Z5m2AkiRJknQTS+OaflGzNHarnyTpxG05rIqIe25hWAv0MrO3/ZIkSZIkLbq6aekXXUhVtzZMlyTNzjQrqy6ha56+qYi4GvifwLmZ+bVt1CVJkiRpwWQmw3HDoKhZGtfzLkeStE9NE1a9DfgG4FHAMeATwNXAnYEHAacB7weGwAOAnwG+PyIempnXzrBmSZIkSbtoXLf0i4pBWduLSpK046YJq14JfBj4DeAVmTlcvhERJwMvAX4S+E7gC5PzXwN+BfiFWRUsSZIkaee1bTKc9KIqfKOfJGkXxVYbIEbEO4HTMvMxG4x5H3BdZp49Of8YcEpm3nsWxe6Ww4cP50UXXTTvMiRJkqRdtbzNb1joglYcAAAgAElEQVTaLF2SNHv3OuOUizPz8GbjTppizkcCF2wy5gK6bYLLLgTuPsV3SJIkSdpFmcnSuOaafsGlR5a4plcwLGuDKknS3EyzDfBWwF02GXPXybhlA8DOi5IkSdKCGY0bBmXXKN0+VJKkRTJNWPVJ4Ecj4lWZ+W+rb0bEA4Gn0DVeX3YIsLm6JEmStACKahJQlQ112867HEmS1jRNWPUy4D3ARyPi7cCHuOFtgI8AngrcAng5QETcBngc8NezLFiSJEnS1pV1w7Ds+lBVjQGVJGnxbTmsysz3RsRTgT8Ang08a8XtAI4Dz8rM906u3RL4UeBzM6pVkiRJ0haM65ZhWTMwoJIk7UHTrKwiM/88It4DnAV8G3Aq0AM+Drw7M/srxh4H3rvmRJIkSZJmqmpuCKjGtQGVJGnvmiqsAsjMAfAnk48kSZKkOambluGkUXpZNfMuR5KkmZg6rJIkSZI0P02bDMc1w7JmNDagkiTtP+uGVRHx9Mkf35mZ/RXnm8rMt51wZZIkSZIAaK8PqBpGVUNmzrskSZJ2zEYrq94CJHAh0F9xvpGYjDGskiRJkk5AZjIcd2/xWxobUEmSDo6Nwqpn0QVPV07On7nz5UiSJEkHV2YyqroeVEtlQ2tAJUk6gNYNqzLzLavO37rj1UiSJEkH0GjSJH1pXNO0BlSSpIPNBuuSJEnSHBSTFVTD0oBKkqSVDKskSZKkXVLWDYOia5Ret+28y5EkaSFt9DbAL21zzszMe23zWUmSJGlfGdctw7JmUNZUjQGVJEmb2Whl1Uls/va/tcQ2a5EkSZL2haq5IaAa1wZUkiRNY6MG64d2sQ5JkiRpT6ublmHZMBjXlFUz73IkSdqzNtoG+LvA32fmeZPzewLHMrO3W8VJkiRJi6xpk+G4a5I+GhtQSZI0CydtcO/ngIetOP/y5JokSZJ0YLVt0i8qrjpecNnRJb7WLw2qJEmaoY16Vg2A2644txeVJEmSDqTMZDhuGJY1S+OGzO20dpUkSVuxUVj1BeDsiHgncOXk2mmT7YAbyszLZlGcJEmSNC+ZyahqGBRdQNUaUEmStCs2Cqt+C3g7cMGKay+cfDaSm8wrSZIkLazRuGFQ1iyNa5rWgEqSpN220dsA/zQivgw8EbgbcA7wL8Andqc0SZIkaXcUVRdQDUsDKkmS5m3DFVCZeSFwIUBEnAO8MzNftgt1SZIkSTuqqLoeVMOyoW7beZcjSZImptmu90zg4ztViCRJkrTTxnV7/QqqqjGgkiRpEW05rMrMt+5kIZIkSdJOqJqWYVkzKGvGtQGVJEmLzkbokiRJ2nfqpmVYNgzGNWXVzLscSZI0BcMqSZIk7QtNm9dv8SsMqCRJ2rMMqyRJkrRntW0yHHdN0kdVQ6Zv8pMkaa8zrJIkSdKekpkMx92b/JbGBlSSJO03hlWSJElaeJnJ0oqAqjWgkiRp3zKskiRJ0sIajRv6ZcVSaUAlSdJBYVglSZKkhVJUzfWN0pvWgEqSpINm3bAqIr60zTkzM++1zWclSZJ0ABVVt8VvWDbUbTvvciRJ0hxttLLqJGD1/8q6JXDXyZ9r4AhwpxXzXAmMZ1mgJEmS9qdx3V6/gqpqDKgkSVJn3bAqMw+tPI+I2wP/AFwK/ArwwcxsI+Ik4JHAK+kCrv9nx6qVJEnSnlY1LcOyZlDWjGsDKkmSdFPT9Kx6BXAacP/MvH71VGa2wPsj4jHAv07GvWCmVUqSJGnPqpuWYdkwGNeUVTPvciRJ0oI7aYqxTwLevTKoWikzC+DdwNmzKEySJEl7V9Mmx0cVVxwbcdnRJY4MS4MqSZK0JdOsrLoTcItNxtxiMk6SJEkHTNsmw3G3xW80NpiSJEnbM83Kqi8CT46IU9e6GRF3AJ4MbPctgpIkSdpjMpNBWXN1r+DSo0tc2y8NqiRJ0gmZJqz6A+DrgY9ExNMj4lBE3GZyfAbwz8BdgNftRKGSJElaDJnJsKy5pldw6ZElrukVDMuazNUvkpYkSZrelrcBZubvRcS9gZ8F3rzGkABem5mvn1VxkiRJWgyZyahqGJQ1S2VDazAlSZJ2yDQ9q8jMF0bEnwHPAr4NOBU4DnwMeEtmXjD7EiVJkjQvxSSgGpY1TWtAJUmSdt5UYRVAZn4Y+PAO1CJJkqQFUFQNw7JmWDbUbTvvciRJ0gEzdVglSZKk/Wdct9evoKoaAypJkjQ/U4dVEfEDwFOB+wEnZ+Y3T67fD/gB4E8y86szrVKSJEkzVzUtw7JmUNaMawMqSZK0GLYcVkVEAG8BfmJyaQTcZsWQ64Bfp2u0/l9nVJ8kSZJmqG5ahmXDYFxTVs28y5EkSbqJk6YY+3zgaXRvArwj8Nsrb2bmVcCHgCfOrDpJkiSdsKZNjo8qrjg24rKjSxwZlgZVkiRpYU2zDfDZwCeBn8zMjIi1XgfzeeDxM6lMkiRJ29a2yWDc9aAajQ2mJEnS3jFNWPUtwBsyc6N3Fl8DnH5iJUmSJGk72jZZmrzJb2ncsPE/2yRJkhbTNGFVDdx6kzF3AwbbL0eSJEnTyEyWxl1ANTSgkiRJ+8A0YdWngUdHRKy1uioibg08Fvj4rIqTJEnSTWUmo6phUNYslQ2tAZUkSdpHpmmw/sfAfYFXRcSNnouImwG/C3w93RsDJUmSNGNF1XBtv+Syo0tcdbxgUNQGVZIkad+ZZmXVG4AfBF4A/AjQB4iIvwQeRhdUvTsz/2TWRUqSJB1UxaQH1bBsqNt23uVIkiTtuC2vrMrMBvh+4GXALYH7AAGcDdwWeDldiCVJkqQTUNYNR4djLj+6xBXHRhwfVQZVkiTpwJhmZRWZWQMvjYhz6cKqOwHHgc9OwixJkiRtw7huGZY1g7KmagymJEnSwTVVWLVs0mD9czOuRZIk6UCpm5Zh2dAvK8a1AZUkSRJMEVZFxCeBPwDenpn9nStJkiRp/2raZFDWDMuaonJhuiRJ0mrTvA3wW4HfA66IiD+MiMM7VJMkSdK+0rZJr6i48viIS48MOTIoDaokSZLWMU1YdXfgJcC1wLOBf46IiyLiJyPi5B2pTpIkaY9qJyuorjpecOnRJb7WLxmNDagkSZI2M83bAK/OzF/PzG8Cvg94F/BAuq2BV0TE6yPiQTtUpyRJ0sLLTIZlzTW9LqC6plewNK7p2n1KkiRpK6ZZWXW9zHxvZv4wcA+61VZfA34KuDgiLoyIcyLi1jOsU5IkaSFlJkvjmmv6BZceWeLqXsGgNKCSJEnarm2FVcsy82rglcAvAFcAATwU+CPg8oj4uROuUJIkaQEVVcPXBiWXHV3iquMFg6KmNaCSJEk6YVt+G+BqEXE34Dl0/avuBrTAXwFvAh4MPA/4nYi4U2a+ZAa1SpIkzVVRNQzLmmHZULftvMuRJEnal6YKqyIi6PpV/dTkeHPgauDXgTdm5uWToX8VEb8D/CNdmGVYJUmS9qRx3TIsawZlTdUYUEmSJO20LYdVEfFiupVU96Db7vcB4PXA/8rMevX4zOxHxF8DL51NqZIkSbujam4IqMa1AZUkSdJummZl1cuAHl1A9fuZ+ektPHMx8LbtFCZJkrSb6qZlOG4YlDVl1cy7HEmSpANrmrDqp4G3Z+Zwqw9k5t8Cfzt1VZIkSbugaZPhuGZY1ozGBlSSJEmLYMthVWa+YScLkSRJ2g1tmyxVDYOiZlQ1pG/wkyRJWijbfhugJEnSXpGZLI0nb/IbG1BJkiQtsmnfBngy8Hzg8cDdgFutMSwz814zqE2SJOmEjMYN/bJiqWxoDagkSZL2hGneBnga8H+Ab6VrtH574DhwS+A2k2FXANWMa5QkSdqyouqapA/LmqY1oJIkSdprTppi7IvpgqpnA3eYXHsVcDvgu4CPAV8E7jfLAiVJkjYzrluODsdcdmSJK46N6I0qgypJkqQ9apqw6geBD2Tmm3NFo4fsXAg8Abgv8KIZ1yhJknQTTZscH1V89diIr1y3xLGlMXXbzrssSZIknaBpwqp70K2eWtayomdVZl4D/B3wY7MpTZIk6aaWxjXX9AouO7rEkUFJWTXzLkmSJEkzNE2D9SVg5b8GjwN3WTXmarrG65IkSTMzrlsGZc2gqF09JUmStM9NE1ZdTre6atmngUdGxM0ycznEegRw1ayKkyRJB1fbJoNxTb+oXT0lSZJ0gEwTVp0PPCUiYtKz6s+B1wDviYi/Bh4NPAz4/ZlXKUmSDoyqaemNKvpFTZs2SZckSTpopgmr3grcErg73SqrPwAeC/wQ8LjJmA/RvTVQkiRpKkXV0BtVDMp63qVIkiRpjrYcVmXmx4CfXnFeA2dHxEOAbwYuAT6amTaSkCRJWzYoa46PKrf6SZIkCZhuZdWaMvNi4OIZ1CJJkg6Itk36RU2vqKga/z+XJEmSbnDCYZUkSdJW2Y9KkiRJm1k3rIqIX93mnJmZL9/ms5IkaR+yH5UkSZK2aqOVVS/d5pwJGFZJkiT7UUmSJGlqG4VVj9m1KiRJ0r5hPypJkiSdiHXDqsw8fzcLiYi7Ay8DzgTuBFwJvAs4NzOv2+acjwTeB5wEvCIzXzyjciVJ0ir2o5IkSdIsLESD9Yi4F3ABcAbwbuCzwEOBFwJnRsTDM/PIlHOeArwVWAJuN9uKJUnSsqJqOD6qGNqPSpIkSTNw0rQPRMQDI+I3IuLdEfEPK64fioinRMQdtlHH6+mCqhdk5g9l5n/OzMcCrwK+BXjFNub8b8CpwCu38awkSdpAZjIoa756bMQVx0YGVZIkSZqZqcKqiHgZ8DHgl4Ef4MZ9rU4C/hT4iSnn/CbgccAlwOtW3f41YAg8LSJOnmLOs4BnAi8ArpimHkmStL62TY4vVVx+dMQ1vcLG6ZIkSZq5LYdVEfFjwIuB/w08iFUrljLzS8BFwA9OWcNjJ8fzMvNGXVgzsw98CLgt8LAt1nkG8IfAuzLz7VPWIkmS1lA1LUcGJZcdXeLIsKRubZwuSZKknTHNyqoXAF8AzsrMfwHGa4z5DHDvKWv4lsnx39e5//nJ8T5bnO+NdL/redMUERHPjYiLIuKia6+9dppHJUnat4qq4epeweVHlzg+qmycLkmSpB03TVj1AOC9mblWSLXsCuDOU9Zw6uR4fJ37y9dP22yiiHgWcBbw/My8epoiMvONmXk4Mw+ffvrp0zwqSdK+Yj8qSZIkzdM0bwMMYLM1/3cGiu2Xs+73Amz4v3Ij4hDwauAvMvMdM65BkqR9r22TflFzfFS5zU+SJElzM01Y9Xngu9a7GRE3Ax4BfGrKGpZXTp26zv3brxq3njcBI+D5U36/JEkHWtW09EYV/aJ2m58kSZLmbpptgO8AHhwRv7jO/V8Bvhn4H1PW8LnJcb2eVMs9sNbrabXswcAZwLURkcsf4M2T+y+aXHvXlPVJkrQvFVXDNfajkiRJ0oKZZmXVq4EfAX4zIp7CZFteRPw28N3AYeBCugbn03jf5Pi4iDhp5RsBI+IU4OF0K6Yu3GSet9G9NXC1ewOPBD4BXAx8fMr6JEnaVwZlt9WvrJp5lyJJkiTdxJbDqswcRcRjgP8GPBW42eTWL9D1sno78B8zc6ourJn5xYg4D3gc8DPAa1fcPhc4GXhDZg6XL0bEfSfPfnbFPC9Ya/6IOIcurHpPZr54mtokSdovlvtR9YqKqrEflSRJkhbXNCuryMzjwDkR8QvAtwN3ousl9ZHMvPYE6ng+cAHwmoj4HuAzwHcAj6Hb/veiVeM/MzkGkiRpXXXTctx+VJIkSdpDpgqrlmXmUeC9sypisrrqMPAy4EzgCcCVwGuAcyffJ0mStqisG44vVQzHDWlIJUmSpD1kW2HVTsjMy4FnbnHslldUZeZbgLdsrypJkvaW4aQfVWE/KkmSJO1R64ZVEfGmbc6ZmfnsbT4rSZKmlJn0ipreyH5UkiRJ2vs2Wll1zjrXk7V7RS1fT8CwSpKkHVY3Lb2ipl9UNK1b/SRJkrQ/bBRWfeOq85OAVwHfTddL6v3AVcBd6Bqh/yzwAbq3A0qSpB1S1g3HRxXD0n5UkiRJ2n/WDasy89KV5xHx83RB1YNX3fsccH5EvBW4GDgLePUO1CpJ0oG2NO76UY3G9qOSJEnS/nXSFGOfC7xjdYi1LDO/DLxjMk6SJM1A14+q4vKjS1x1vDCokiRJ0r43zdsADwHHNhlzbDJOkiSdgKZNeqOKnv2oJEmSdMBMs7Lqa8Dj17sZETG5f+REi5Ik6aAa1y3X9ksuO7rEdUtjgypJkiQdONOEVX8BPCgi3hERN2q+Pjn/c+CBk6MkSdqizGRQ1lx5fMRXrluiX1Q2TpckSdKBNc02wF8FHgE8GXhSRHwVuBq4M3A34GbAR4GXzrhGSZL2pXHd0i8qBmXtCipJkiRp4v+yd+9xkt11nf/fn1NVfZvJ5AZjsmaWODEyLKygTqJJNExgHxAElUVco6siogYFjRfc9cdqhPjDn66ABBCNVx5ecGRRISCXqCFGwWwSRYFIYGAMzMDESebS3dN1Ped8fn+cc7pPVVd1V3XX6aruej0fj3rU1LnVt5I+09Pv/nw/377DKnc/Z2bfKOlVkl4q6QpJ/zHd/VlJvy/pDe7eHPooAQDYIbIqqsV6qHqLZukAAABAp0Eqq5QGUb8k6ZfMbLek8yXNu/u5IgYHAMBO0QgjLdZDnauHipniBwAAAPQ0UFiVlwZUhFQAAPQQxUkV1blGqAZVVAAAAEBfNhxWAQCA1dxdS81I5+qhaq2IRukAAADAgAirAAAYgmozqaCqNiKm+QEAAACbQFgFAMAG1VuRlhqhlhqRwjge9XAAAACAHYGwCgCAAUSxa7He0mI9VCsioAIAAACGjbAKAIA+1FuRFuotLTXoQwUAAAAUKei1w8z+3Mz+W+719Wb2H7dmWAAAjJ67a6He0vEzVX3pbE3n6iFBFQAAAFCwnmGVpBdKOpB7/WFJ31/oaAAAGAOtKNapcw194XRVjy821AyZ7gcAAABslbWmAZ6VtCf32goeCwAAI1Vthlqohao2w1EPBQAAAJhYa4VVn5L0XWb2gKQT6bbLzez69S7q7vcOY3AAABTN3bXYCDVfbdEwHQAAABgDa4VVr5X0bknvyG17SfpYT2kzgwIAoGjuroVaqPlaS2FMSAUAAACMi55hlbvfZWZPkfRfJH25pNdI+tv0AQDAthTHrvlaSwv1lqKYZukAAADAuFmrskru/nlJvytJZvYaSfe4+21bMC4AAIYqykKqWksxK/oBAAAAY2vNsKrDDZIeKWgcAAAUIoxina21tFgP5YRUAAAAwNjrO6xy97bpf2a2R9L5kubdfWHYAwMAYDOaYayztaaWGhEhFQAAALCNBIMcbGYlM/tZM/uspDNKKq3OmNln0+2DVGoBADB0jTDSyYW6jp+p6hzVVAAAAMC203e4ZGZTkj4o6ZmSXNIxSSckXSrpckmvk3SjmT3H3ZvDHyoAAL3VW5HOVluqNsNRDwUAAADAJgxSWfVTkg5J+ktJT3H3y939Gne/XNKTJb1X0jelxwEAsCVqzUgn5mv60tkaQRUAAACwAwwSVn23pE9KeqG7H8nvcPfPSXqRpIck/ffhDQ8AgO6qzVBfPFvTifmaas1o1MMBAAAAMCSDhFVfKekD7h5325lu/4CkK4YxMAAAujnXCHX8TFWPztfVaBFSAQAAADvNIA3Rm5J2r3PMLkmtjQ8HAIDV3F3nGqHOVltqRV1/ZwIAAABghxiksurjkl5sZk/sttPMniDpxZL+ZRgDAwDA3TVfa+n4mZoeW2wQVAEAAAATYJCw6q2SnijpfjN7mZntN7NZM/sKM3uppP+b7n9rEQMFAEyOOHbNV1s6drqmU+cIqQAAAIBJ0vc0QHd/p5k9Q9LPSvqtLoeYpP/t7u8c1uAAAJMljpNKqoV6S1Hsox4OAAAAgBEYpGeV3P3VZnanpJdJ+hpJ50ual/QxSb/n7v8w/CECAHa6KAupai3FTkgFAAAATLKBwipJcvf7JN1XwFgAABMmjOK0kiqUE1IBAAAA0AbCKgAANqsVxTpbbelcg5AKAAAAQDvCKgDAlmmGsc7WmjpXD0c9FAAAAABjirAKAFC4RhjpbLWlpQYhFQAAAIC1EVYBAApTbyUhVbVJSAUAAACgP4RVAIChqzUjnak2VW9Fox4KAAAAgG2GsAoAMDRLjVBnay01CKkAAAAAbBBhFQBg0841Qp2tNtUM41EPBQAAAMA2N3BYZWYVSc+W9BRJu939F9PtM5L2SHrc3flpBQB2OHfXYiPUfLWlVsRf+wAAAACGY6CwysxulPS7ki6RZJJc0i+mu58h6SOSvkfSnwxxjACAMeLuWqgnIVUYE1IBAAAAGK6g3wPN7KCkdysJqH5S0jvy+939Pkn/Jum/DnOAAIDxEMeu+WpLx07XdOpcg6AKAAAAQCEGqaz6eUlVSQfd/VEz+4Uuxzwg6WuHMjIAwFiIYtd8raXFektR7KMeDgAAAIAdbpCw6jpJ73b3R9c45pik529uSACAcdAMY83XWjrXCOVOSAUAAABgawwSVu2W9Pg6x8xpgKmFAIDxU2tGmq+1VG2Gox4KAAAAgAk0SFj1RUlPXeeYZ0g6uvHhAABGwd21lIZUjVY06uEAAAAAmGCDVEF9QNJzzewbu+00s+dJulbS+4YxMABA8bKm6cfP1HRyoU5QBQAAAGDkBqms+v8k3STpLjN7i6TLJcnMni/pekmvkHRC0huHPEYAwJCFUayFeqiFWksx/agAAAAAjJG+wyp3/6KZPUfSOyX9TG7XnZJM0uckvcjd1+trBQAYkUaYTPVbakQ0TQcAAAAwlgaprJK7/5OZPVnJin/XSLpY0ryk+yS9x93pxosNuefhk7rj3qM6dqaqfRfO6ebr9+vQgb2jHhawY1SboeZrLdWaTPMDAAAAMN4GCqskyd0jJdVUdw5/OJhE9zx8Urfe+ZAqJdMFsxWdXKzr1jsf0m0SgRWwCe6uxUao+WpLrSge9XAAAAAAoC+DNFgHCnHHvUdVKZnmpsoyS54rJdMd97KwJLARUew6s9TUF05X9fhig6AKAAAAwLbSd2WVmX1fH4fFkhYkfcrdj2x4VJgox85UdcFspW3bbKWk42eqIxoRsD01w1jztZbONUL6UQEAAADYtgaZBvh2SX3/9GNmD0l6hbv/3aCDwmTZd+GcTi7WNTe18uVYa0W67MK5EY4K2D7qraxpOm0DAQAAAGx/g0wDfKlWVv77G0mvlfSj6fPd6fb3SPofkg5LeoqkD5nZ04c5YOw8N1+/X63IVW0m1SDVZqhW5Lr5+v2jHhow1qrNUCfma/rS2RpBFQAAAIAdY5DKqsckPU/S89z9Q507zexGSe+W9Nvu/gYz+z1Jd0n6n5K+exiDxc506MBe3aakd9XxM1VdxmqAwJrONUKdrTbVDOlFBQAAAGDnsX77mpjZRyR93t17Bk9m9g5JT3L369LXH5T0n939y4cx2K1y8OBBf/DBB0c9DABY5u5aqIdaqLGyHwAAAIDt6Yq95/2jux9c77hBpgE+XdJ6y7MdlfTVudcPSXrCAO8BAMiJY9fZarKy36lzrOwHAAAAYOcbZBpgU9J/XueYr5bU6rg+S7oBwIDi2LVQb2m+1lIUs7IfAAAAgMkxSGXVhyW9wMx+uNtOM3u5pBcoabaeOSDp+MaHBwCTJaukOnamqtNLTYIqAAAAABNnkMqqn5V0SNJvmNlPS/oHSf8u6cskXSPpKyWdlfRqSTKzL5N0g6TfGOJ4AWBHopIKAAAAABJ9h1XufsTMrpX0NiUh1JUdh9wj6RXu/pn09UlJ56l9WiAAIIeQCgAAAADaDVJZJXf/tKRnm9llkp4h6XxJC5I+5u7HO451SY1hDRQAdhJCKgAAAADobqCwKpMGU/SiAoABtaJYi/VQi3VCKgAAAADoZkNhFQBgMNVmqIVaqGozHPVQAAAAAGCsDRxWmdlVkp4r6cslTXc5xN39ZZsdGABsd+FyFVWoMI5HPRwAAAAA2Bb6DqvMzCS9XdL3SDJJnj5nPLedsArAxKo1Iy3UW6o2IyXt+wAAAAAA/QoGOPaVkr5X0h9KOqgkmHqTpGslvVrSoqTDkvYPeYwAMPai2DVfbenY6apOzNe01AgJqgAAAABgAwaZBvgSSZ929++XpKTQSmfd/T5J95nZhyTdJ+mvJP3+kMcJAGOpGcaar7V0jnAKAAAAAIZikMqqJ0u6u2Pbctjl7h+T9D5JPzqEcQHAWKs2Q52Yr+n4maoW6y2CKgAAAAAYkkEqq0zSfO71kqSLOo45Iuk5mx0UAIyjOHYtNkIt1FpqRTRMBwAAAIAiDBJWfVHJCoCZo5K+ruOYK5WEWACwY7SiWAu1lhbroWIqqAAAAACgUIOEVferPZz6gKSfMbOfl/Tnkg5J+jYlUwEBYNurtyLN11paaoSjHgoAAAAATIxBelb9maSSmX1F+vp/S/q8pNdK+rikt0g6K+lnhzpCANhC7q6FekvHz1T1pbM1gioAAAAA2GJ9V1a5+7slvTv3+rSZfY2kH5J0haRHJP2Bu58Y9iABoGhM9QMAAACA8TDINMBV3H1e0uuHNBYA2HLVZqiFWqhqkwoqAAAAABgHmwqrAGA7imLXuXqohTqr+gEAAADAuBmkZ1UbM3uemd1jZo+ljw+b2XOHOTgAGKZ6K9Jjiw194XRVp5YaBFUAAAAAMIY2FFaZ2Q9J+ktJ/0HS3ZI+Kunpkt5vZi8d3vAAYHPcXYv1lr54tqYvna1psd6S05MKAAAAAMbWRqcBvlrSr7v7j2UbzOx8SX+f7vv9IYwNADasGcZarLd0rhEqigmnAAAAAGC7WLOyysx+xcymu+zaJ+nP8xvSZut3pfsAYCSWGqFOzNd0/ExV87UWQRUAAAAAbDPrTQN8maR/NrNrO7YfkXSzmc1mG8zsckkvkvSZYQ4QANYTRrHOLFO5jJcAACAASURBVDX1hVNV/ftCXbVmNOohAQAAAAA2aL1pgP9J0tsk3Wtmb5X0anevSvo5Se+U9Fwz+7SkaUlPVRJ+vajA8WKT7nn4pO6496iOnalq34Vzuvn6/Tp0YO+ohwUMLIpdS81Q1UakWiuiDxUAAAAA7BBrVla5+0l3f7Gkm9LHJ8zsBnf/M0lXSXq/pIokl/Snkr7O3e8seMzYoHsePqlb73xIJxfrumC2opOLdd1650O65+GTox4a0JdWFGu+2tKXztb0+VNLenyxoWozJKgCAAAAgB2krwbr7v4uM7tb0lsk/bWZ/bakn3H3/17o6DBUd9x7VJWSaW4q+d8+N1VWtRnqjnuPUl2FsdUII1UbkZaaoZphPOrhAAAAAAAKtl7PqmXufjoNp75N0vMlPWRmNxY2MgzdsTNVzVZKbdtmKyUdP1Md0YiA1dxdtWakU+caOna6qi+eqelMtUlQBQAAAAATou+wKuPu71PSn+qvJL3fzN5uZhcMfWQYun0XzqnWam88XWtFuuzCuRGNCEjUW5HOVps6MV/TI6eqOjFf03ytpVZEQAUAAAAAk2bdsMrMnmdm7zOzT6TP3+zuC+7+MknPlfRMSf9qZi8sfLTYlJuv369W5Ms9fqrNUK3IdfP1+0c9NEyYRhhpvtrSo/N1PfL4kr50tqbTS03VmjRKBwAAAIBJt2ZYZWbfKekvJV0raSl9fq+ZfZckuftfSXqapL+Q9GdmdtjMnlDskLFRhw7s1W3f+lTtPW9G87WW9p43o9u+9an0q0LhGmGkhXpLJxfq+vypJX3xTE2nlpLm6DHhFAAAAAAgx9aqYjCzf1ESaF3n7gtmtkfSRyVF7v70jmOvl/Q7ki509ycWOObCHTx40B988MFRDwPYlsIoVj2M1WhFaoSxmmFMIAUAAAAA0BV7z/tHdz+43nHrrQa4X9JvuPuCJKWB1fsl/Ujnge5+r5l9taRf3MiAx0kYuR6dr6tcMlWCQOWSLf85CGzUwwPGRhy7GmGsRpgEU41WrDCmzxQAAAAAYOPWC6v+TdJ1Zha4e/YT6LWSHul2sLvXJf3M8IY3GrGSfk7dlAJTuRSokj6XS6ZyYMn2IFCJMAs7VBS7GmGkZlot1QhjGqADAAAAAIZuvbDqVyT9oZIG6v8k6RmSDkh6SdEDG1dR7IriSI0e+81y4VVpJcDKtk2VqM7C+GtFK4FUFk5RMQUAAAAA2AprhlXu/sdmtqBk2t/TJX1e0v/j7u/ZisFtR+6uVuRqRZJa3Y8pBaZKKVClFGiqFKhSXnkNbCV3VzOK26ql6DEFAAAAABil9Sqr5O7vlfTeLRjLxMiqs+qtqG27malSSqqvKstTDFcqs6jIwma4J/2lmlHSWyoLqdZaZAEAAAAAgK22bliFrePuaoauZth9ulVgK9MLS5brk9XWN8tkRqg16aLYV6qlokiNFv2lAAAAAADbA2HVNhK7K86mGK6hlAZXpY7G7/lAq8yUwx2jGcZtU/noLwUAAAAA2M4Iq3agZJrh2lO7skbw5VISYFWClWmH5ZLRP2sMdZvG16K/FAAAAABghyGsmlBtjeB7KC8HWEw53GpxnDQ+b4SxGmGkZhirFTn9pQAAAAAAO97YhFVmdpmk2yTdKOliSSckvVvSa939TB/n75L0QknPl/S1kvZJiiV9WtKfSHqLuzeLGf3OFMaxerTPWtZtqmFWmUWg1Z+2/lJhpEZIfykAAAAAwOQai7DKzK6Q9FFJeyW9R9LDkq6WdIukG83sOnc/tc5lvknSH0k6LenDSoKuiyR9i6TXS3qRmT3b3evFfIrJlE05bKp3uLJcoZWfZpiGW4ElUxKz552O/lIAAAAAAKxtLMIqSW9TElT9uLu/JdtoZm+U9JOSXifp5etc41FJ3yPp/+QrqMzsPEn3SLpW0iskvWGoI8e6liu0WusfG5gpMJOZ0kcSZAVmMkkyybQSbpnS45IdMsuukVs9cYuqu9yT4C72pBm+u1aCqfSZaXwAAAAAAKzNRv3Ds5ntl/Q5SY9IusLd49y+85RMBzRJe919aYPv8d2S/ljS+9z9W9Y7/qu/5mv93Xfdu5G3wpjKgqsgMJUst1qimSyQ3CW55EruB3fJlQRQnr6Wkv3uSkOp5M+xJwHVqO8lAAAAAADG2RV7z/tHdz+43nHjUFn1rPT5rnxQJUnuvmhmH5H0HEnfIOlvNvgeWU1PuMHzsc3F7oojl9ZoKA8AAAAAAEYvGPUAJD05ff5Mj/1H0uev2sR7/ED6/MFNXAMAAAAAAAAFG4ew6vz0eb7H/mz7BRu5uJm9UskKg/8s6ffWOO6HzexBM3vw9OOPb+StAAAAAAAAsEnjEFatJ+uMPXBDIDN7kaQ3KWm+/u3u3rPFt7v/lrsfdPeDFz3hCRsbKQAAAAAAADZlHMKqrHLq/B7793Qc1xcze6Gkw5JOSjrk7kc3NjwAAAAAAABslXEIqz6dPvfqSXVl+tyrp9UqZvYdkv6PpH+X9Ex3//Q6pwAAAAAAAGAMjENY9eH0+Tlm1jYeMztP0nWSapLu6+diZvbdkv5E0peUBFVH1jkFAAAAAAAAY2LkYZW7f07SXZIul/SKjt2vlbRL0h+4+1K20cwOmNmBzmuZ2Usk/aGkL0i6nql/AAAAAAAA20t51ANI/aikj0p6s5k9W9KnJH29pBuUTP/7Xx3Hfyp9zpqvy8xuULLaX6CkWuulZtZxms66+5uGPnoAAAAAAAAMxViEVe7+OTM7KOk2STdK+mZJJyS9WdJr3f10H5d5klYqxX6gxzGfV7I6IAAAAAAAAMbQWIRVkuTuxyS9tM9jV5VMufvbJb19uKMCAAAAAADAVhp5zyoAAAAAAAAgQ1gFAAAAAACAsUFYBQAAAAAAgLFBWAUAAAAAAICxQVgFAAAAAACAsUFYBQAAAAAAgLFRHvUAgFG7/+hpHX7gmE4s1HTpnlnddNU+Xb3/olEPCwAAAACAiURlFSba/UdP6/a7j+jUUkN7Zso6tdTQ7Xcf0f1HT496aAAAAAAATCTCKky0ww8cUzkwzVZKMiXP5cB0+IFjox4aAAAAAAATibAKE+3EQk0zlfbbYKYS6NGF2ohGBAAAAADAZCOswkS7dM+s6q24bVu9FeuSPbMjGhEAAAAAAJONsAoT7aar9imMXbVWJFfyHMaum67aN+qhAQAAAAAwkQirMNGu3n+RbnnWlbp417QW66Eu3jWtW551JasBAgAAAAAwIuVRD2AcffFMTa/7y09puhJoplLSTDl5nm77c6DZSknT5eyYUtvxU+VAZjbqj4I+XL3/IsIpAAAAAADGBGFVF+caof7m4ZObuoZJuUCrpJlKoOlKSbOVIH2dbGsLuXJh2Ey6bTkMS7dNl0uarZQ0VQ5UCgjDAAAAAADAzkJY1cWFc1P65qddonoYq96K1GhFqrViNcJI9Vasehil22OFsXe9hitp1J00724VMs6pcrBS6VXuEYa1BV7Z65XjVlWI5UKxSsmoDgMAAAAAAFuKsKqLvXum9arnPrmvY8MoVj2M1WitDrJqrUiNNPBKgquoI/BKz1sOxdJjO/b10gxjNcNYC/VwWB+9TWDqWd2VVYV1nRKZC8VmKsGqqrDpXIgWEIYBAAAAAIAcwqpNKpcC7S4F2j1dzH/K2F3NLPDqEmplf84qv1aHZGnwlYZondeotSL1KA5T7FK1GanajFRUddh0Oegx1TGpFJsuB20B10w5H5i1V491O65cYg0BAAAAAAC2E8KqMReYLQc5RWlFcS7kWqkCWwm6ulWFrRWM5V6n1V+9NMLk+KKqw0qBraoCmyl37wm2OvBaaabfFpRVSppNp1BO00gfAAAAAIChIqyCKqVAlVKg3TPFVYc1chVdq0OxXOXX8nTJ5LjlKrCwfV8+HKu3IvUoDlMUu5YakZYaUSGfTZJm0n5hq0KxzsCrvLpvWM8wLBek0UgfAAAAADBJCKtQuMBMs2kA08v9R0/r8CeP6cRCTZfumdVNV+3T1fsv6uv67q5W5O0BVtgecvUbhq3qPZYGY62oVxymZGplGGu+NvB/mr5UStZeBZYLtVZXf2Wv11h5siMUo5E+AAAAAGCcEFZh5O4/elq3331E5cC0Z6asU0sN3X73Ed2iK/sKrMxMU2XTVDnQntlKIWOM4pUwbGVaZFol1ursKZYEXtkUyUYYrTqukasoy/b1isNakasVhVos5JMljfSn23qB9VhZskvYlQ/IVprptzfbny5THQYAAAAA6B9hFUbu8APHVA5sufJqtlJSrRXp8APH+q6uKlopMO2aLmtXQY30PWukn2+An6sG++Txeb33EycUWDKWZhgrctfTL7tAF8xVclVhudCsYyXKsEcn/dilWtpsv6hG+pWSpVMb1wjDeqwoOZsL0XqtTkl1GNDd/UdP6/ADG6taBQAAAEaFsAojd2Khpj0d/bJmKoEeXShoXt0YMrNk9cNKSed3qQ47fP8x7Zkpt02lrLUiVRuR/t8XPq2v9wijuK2qq3ej/G4N9dPzuqwm2QhX9vWSVYdJxTTSD0w9G+Uvv04rw2Z7hGIrlWHZipTt1wgIw7DNbLZqFQAAABgVwiqM3KV7ZnVqqdEWxNRbsS7ZMzvCUY2XYQR65VKg3aVAuwuqDouz6rAuoVavwKv7apLR6muk50drVIdVm5GqzeIa6U+Vg9yUx26BV+dqku1TK3tVhWXnVEpBYWPHZNoOVasAAABAN4RVGLmbrtqn2+8+olor0kwlUL0VK4xdN121b9RDGxvbIdALzJaDmKKEUdxXVVjWYL/bypP1jm2NXMDWXKM6rJnuX6gXUx1WCqx3w/zy6p5gs12Oy85tqx5LK8qmywFTJScMVasAAADYrgirMHJX779It+hKHX7gmB5dqOkS+qqsQqCXWK4OK+ivrihOqsM6Q65uUyRr3fqE5arA6h1VY9mfexSHKYpdS81ISwVWh60Ow/LN8rPm+e1h2HLfsM5jugRlNNIfL9sh5AYAAAC6IazCWLh6/0WEU2sg0NsapcA0O1XS7FQx1WHurlbkHatJdvQGCzunRK6sOtltZcnOhvytqNe6kkqOD2OpoMKaSsm6T3tcDsnygdfqFSV7VYVlx0xRHTYQQm4AAABsV4RVwDZBoLf9mZmmyqapcnH9qaLYe1SFrQRg/VWFrb5GFpT1isOyRvrnGsV8NpNygdYaK0tmIVe/oViuh9hOqg4j5AYAAMB2RVgFADtIKTDNTZU1N1XM9T1rpN+lqqveGXh1bba/sq+Wqx7L9yELe8yVdCm9diypVcjnq5Ssa1VXPuTq3mB/JTRbKwyrlGxLq8MIuQEAALAdEVYBAPpmZppOp/SdP1sp5D3CKAnD2qdI9m6onw+8OkOxzqqxLEDrJasOW1QxjfQDU89G+cuvuwZe3Zrtt68omV0jYKokAAAAtjnCKgDAWFlupD9dzLeoOKsO61r51b0nWHtI1tFfrMtUyqhHdVjsUrUZqVpgI/2pctC+QuSqwKtzNcmV4GtVv7EuoVilVNw0VgAAAEAirAIATJjAbDmIKUoYxRuuCut+XC4oC2M116gOa6b7F+rFVIeVAuuysmS3yq8uwVgfDfWnaaQPAAAw8QirAAAYsuXqsIK+zcbuuQCsW6i1Eob111A/N20y/XOP4jBFsWupGWmpwOqw1WFYvll+1jy/PQxb7hvWeUxHoDZT2VmN9AEAAHYiwioAALaZwEyzUyXNThVTHebuakW+HF7Vsob5+f5f+cb6HUFZEpJ1n1KZVZu1ol7rSio5PoylWiEfT5WSdZ/2uByS5QOvPlaU7GjIP0V1GAAAwKYQVgEAgDZmpqmyaapcXH+qKPYeVWH5wGvtqrDOwGxlW/K6VxyWNdI/1yjms5mUC7RWAq/Z5d5gK2HY9CChWK6HGNVhAABgJyOsAgAAW64UmOamypqbKub6WXXY6qqwfLVYZ+VXe/VYtq2WD8FyfcjCHnMlXUrPjyW1Cvl8lZKtqupaFYb1WFEyO26tMKxSMqrDAADAyBBWAQCAHaetOmy2Ush7hFEyXXFVGDZAQ/0sLMuvSFnPKsrWaKSfVYctqphG+oGpZ6P86XJ7T7DZHqHYSrP99hUls2sEhGEAAKAHwioAAIANWG6kP11cI/1m2LvvV7eeYO0hWcd0yS5TKaMe1WGxS9VmpGqBjfSnykFb4/vVgVfHapLlleBrdeXY6lCsUipuGisAACgWYRUAAMAYCsyWg5iihFEyXTFbWbKfqrCVwKvHVMncypKNNarDmmGsZhhroV5MdVgpsC4rS6a9wboGXh1TJXusLDlbzlagpJE+AABFIawCAACYUMvVYTPFVYc1VlV+tTfFz8Kw/hrqr64a61Ecpih2LTUjLRVYHbY6DMs3y88FXbkqsfXCsHy1GY30AQCTirAKO9r9R0/r8APHdGKhpkv3zOqmq/bp6v0XjXpYAABMhMBMs5Vkal4Rskb67Y3z2xvl51eN7AzKkpCs+5TKrIqsFfVaV1LJ8WEs1Qr5eKqUrPu0x+WQLB949bGiZLk9FJuiOgwAMKYIq7Bj3X/0tG6/+4jKgWnPTFmnlhq6/e4jukVXElgBALADtDXSL0gUe1vI1a0nWH9VYSvHdU6z7BWHZY30zzWK+Wwm5QKtlcCrc2XJ5cCs31Asdx7VYQCAjSCswo51+IFjKge2/Nvc2UpJtVakww8cI6wCAAB9KQWmuamy5qaKuX5WHba6KiwLtfqYKtklJMtXjIU95kq6lF4/ltQq5PNVStZRFdZjqmQaeM10BGVZNVivMKxSMqrDAGAHIqzCjnVioaY9HT04ZiqBHl0oqFYfAABgQG3VYbOVQt4jjJLpio1cNVe974b66XmrwrH2fb1k1WGLhXwyKTC1rSiZX0Fyurw6DOvWUD/7c+eKktk1AsIwANhyhFUYiXIQKAiSXhZmK88mU2DJP9yy52y/lJSrS1L2bwZLt3T7N8TlF+/SY4t1zU6Vls+rNkNdfvEuPeniXW3XctdyCb578qeV1+lzR5G+aeVNV8aT259uzK7XTbc9vQ7vfP/O4zrHufI625/sWT7Pk2M7P3v+sl0/+6rrrh6jrz585b+rt5/XbQwAAGB4lhvpTxfXSL8Z9u771a36qz0k6+gvFsarQrGoR3VY7FK1GalaYCP9qXLQ1vh+deDVHpItV491XXVydShWKRU3jRUAtivCKgyNmakcmEpB8hwEK69Ly9uDLetd8CPPvEK33vmQ6q1oeQpgGEsvf+YVq8bQHnYNe3z8Nm5Q7q7Ykz4hsSePKHbFcfIP4shdcZwe474qCOt+zdyf1wj0AADAYAKz5SCmKK0oXhWArVcVtjokS6dSdqws2QhjNdaoDmuGsZphrIV6WMhnKwXWZWXJdKpk18BrpSqs58qSuemWVIcB2I4IqzCQchCoXDKVS6ZK+udKKVA5MJXH7LdChw7s1W2S7rj3qI6fqeqyC+d08/X7dejA3lEPDeswM5VMI2vK2iv86hVldQu5+q2a66yYW+vYbvu6Vdx1rabz9pDOc/t7veeqsfWoquu8bvbecdweJgIAsFGVUlKBtLugH19i9+Xga5BQrNZtamSXMKzeitSjOExR7FpqRloqsDqsLejKh1odjfLbw7E1wrDceTMVGukDGD7CKizrrH4qB6ZSKXkuB8G2bGB56MBewikMLPs67//LfXvdF1vN08q4KBdgJZVyK1VyWajWdWpqbupotl9aCdwAANiswJJFeWYLqg7LGuln4dXqhvpxx6qT+cArW3Wyd0P9eitSK+r9PTGrHpsvqHVrpWTdpz0uB2EDrihZbg/FpsrBtvs5BMDmEFZNkKSBZzLnvpxWQ5Vy0/b4BgCgCGZJNWaR33Dy1XDd+s919khrP7d3dVjn+epyHe9xrOdK0WKXwjjpudKr7woAYOdqa6RfkCj2jsArec5CrjVXlOwRlHVWlPX6DpY10j/XKOazmZQLtFYCr9mO1SOXA7N+Q7HceVSHAeOFsGoHy8Kp2dxvMgL+EgawA3WvhhvPv++ySrMw7ckWxq4oWnkdLVeadVmwYI2plxKVZgAwyUqBaW6qrLmpYq6fVYetrgrLQq2VsKtnKNajKiyrHutVHeZSev1YUquQz1cpWUdVWD7wGmBlybYwbeW47ThLBRglwqodxMyW/zLM/mIknAKA8bJcaVZcH2JJPcKuNY5btb3ndXts32D/tXWr2tKFFeJ04YVsAYZsmy//mbAOAIrUVh02WynkPaLYV1aIXBVypaFWW6P8tRrqrz6vvkYj/aw6bLGQTyYFprYVJfMrSE6XBwjDuqwomU2bpJE+dhLCqm2uHATaNV3S3FRZMxXmcgMAEv33Xts53zeyPmhRrkpt+ZH2TAvjmOb/ADCmSoFp13RZu6aLa6TfDHtXeHULvNob7Of7iyXHLZ+Tvu413T92qdqMVC2wkX7W8iUfirUHXu0h2XJvsK6rTq4OxSpjtqAWdjbCqm2oUgq0a7qsualilwgGAGA7CQJTINMg3xrj3LTLON/kP/1zvpqr13NnlVe3KjEAwOgFZstBTFHCKG6fIrnOipLdq8Ly1WPtK0s21qgOa4axmmGshXpYyGcrBda+emTaD2w6N22ye0i2xsqSuWmT02Wqw7CCsGqbqJQC7Z4ua246udkBAMDmrUyXL/Yfx2stApAPyVaOWQnElhv39zFtMtuXvPb0nPVX22QqJQAMR7kUaHcp0O6CftSO3ZeDr86qsFpb5dc6K0uuUT3Way2YKHYtNSMtFVgdlgVdq6vAeqwsmWuwnz+vM1DLQkoa6W8fhFVjbLpS0q6pZIpfkSuHAACAYm2XRQCyBQDyFWPZ6/y+Na/RrX9ZLjTLjukWnGXvBwDoLjDTbNqjuAhZI/0s5FrdUL/PMGyNhvq9GulLWrd6bLMqJWvr/7XSUL9HGLbeipLl9lBsqkxrnmEhrBoT2cp9w0p973n4pO6496iOnalq34Vzuvn6/Tp0YO8QRwwAAHaabAGAUQujuOeKmdlr+o4BwPDlG+mfN1PMe0Sxd53i2B549VhRMuzoG7YcmrVPs+z13SFrpH+uUcxnMykXaOVXhmyvAuu2euSaoVjuvEmpDiOsGhEza5+vO8SV++55+KRuvfMhVUqmC2YrOrlY1613PqTbJAIrAAAw9sqloK8VM7MG+llFVhj7cqP9OH2d7WeaIwCMh1Jgmpsqa26qmOtn1WGrq8KyUGulKqxnKNarCX+6rVd1mEvp9WNJrUI+X6VkHVVh+cBr7ZUl26ZNlrtPlayUbCyqwwirttBMpaRdU2VNVwJNF1geeMe9R1UpJX8BSNLcVFnVZqg77j1KWAUAAHaMUmAD/4Y5zodXam+Mnw+18lMh43h1I32mKwLAeMpXh2m2Ush7RLEvh1ddQ7H1VpbMKsRy1WBt29aYCplVhy0W8smkwNQ2VXJV0/w1wrCZXEVZt2b7MwP03yasKpiZafd0WXtmy1vWGP3Ymaou6LgpZyslHT9T3ZL3BwAAGFfZqpHDkFVvhXGsVuhqxbFaUawwcrWi4nquAABGqxSYdk2XtWu6mOvH7mqGa1R4pQFXtmpkt0b5bdMlu0yl7PVLl9ilWivpPVZUdVg/CKsKUikF2jNT0e6Z8pbPKd134ZxOLtaXK6uk5IvtsgvntnQcAAAAO1kQmKYC05QCqWM6SzYNJQuvmtFKkBXGBFkAgN4CS6b6ffzYvA4/cEwnFmq6dM+sbrpqn75+/8VDeY8wildVg7UHXh1N9MNuFWMrgVlnD7LNNsonrBqy2amS9sxUtGt6dP9pb75+v2698yFVm6FmKyXV0jm1N1+/f2RjAgAAmCRt01A6xHFWheUKo1jNXDUW0wsBAJJ0/9HTuv3uIyoHpj0zZZ1aauj2u4/oFl2pq/dftOnrl0uBdpcC7S4oFordl4OvLAirtyK94Ff6HF8ho5owgSUlgOfPVrr+g2SrHTqwV7cp6V11/ExVl7EaIAAAwNgIAtN0UFK3323GcVKFFcZJkNWKkv5YrXQbTeIBYDIcfuCYyoFptpK0E8oKUQ4/cGwoYVXRAkvGno1/UIRVmzBVDnTedEXnzZSHtpLfsBw6sJdwCgAAYJsJAtNM0Psf9llwFcWeVGPFcds2KrMAYGc4sVDTnpn2yGamEujRhdqIRrS1CKsGVCkF2jVd1u7p8lhUUQEAAGByJCsg9g6z8k3fwzTQCuO0V1bkipzqLADYDi7dM6tTS422yqR6K9Yle2ZHOKqtQ1jVh1Jgmpsq67yZsmY2WMIGAAAAFK2t6XsPYTbNsGOqYRZqxYRZADByN121T7fffUS1VqSZSqB6K/m7+6ar9o16aFuCsKoHM9OuqZJ2TZc1N1WS2XhN8wMAAAA2olwKVF7j969ZA/hkemEaZEWxWrErYjVDANgSV++/SLfoSh1+4JgeXajpknQ1wO3Qr2oYCKu6KAemJ100N3Z9qAAAAICiZQ3ge3FPqrLyvbJauemGUUx1FgAMw9X7L5qYcKoTYVUXgRlBFQAAANCFmalSMlVK6tkiIz+tMJtuGMVOdRYAoC+EVQAAAACGKmsEP93jp42sOitrAJ+fcphVa1GdBQCTi7AKAAAAwJbKV2dJVGcBANoRVgEAAAAYO/1WZ3X2zqI6CwC2P8IqAAAAANvOIL2zOlc2zE9BBACMH8IqAAAAADtSVp3Vy1rVWdkURKqzAGDrEVYBAAAAmEj9VGfFsauVVmeFy/2yvK1qK4oJtABgmAirAAAAAKCHIDBNr1GdJbVXaC2HWh1hFqEWAPSPsGqHuufhk7rj3qM6dqaqfRfO6ebr9+vQgb2jHhYAAACw47Svbtib+0qYFftKpVaU354+O9MPAUwwwqod6J6HT+rWOx9SpWS6YLaik4t13XrnQ7pNIrACAAAARsTMVC6ZyuuEWpKWQ6soTsOstCH8crCV9tOiWgvATkRYtQPdVX2GaAAAF4xJREFUce9RVUqmuankf+/cVFnVZqg77j1KWAUAAABsA0Fgmgps3eP6rdaKYprFA9g+CKt2oGNnqrpgttK2bbZS0vEz1RGNCAAAAEARBqnWyoKtLMiKYlccq+115IRbAEaPsGoH2nfhnE4u1pcrqySp1op02YVzIxwVAAAAgFFaDrb6PD7fOD6bchjHWp6OmAVd9NkCMGyEVTvQzdfv1613PqRqM9RspaRaK1Irct18/f5RDw0AAADANtFv4/hMnKvair19FUR6bQEYBGHVDnTowF7dpqR31fEzVV3GaoAAAAAAChYEpkD9hVv5XlvtTeSz7fFysAVg8hBW7VCHDuwlnAIAAAAwlvrttZUPrsJ0RcQwdrWieLlqC8DOQ1gFAAAAABhLpcBUCkqa7vGTaxy3V2NFba+zaq14awcNYNMIqwAAAAAA21IQmKYCS1/1LtMKo7jnlMPsdeQ0iQfGBWEVAAAAAGBHK5eCdaccSivTDpdXPUwrtPIVXFkDeQDFIawCAAAAAEAr0w7TVz2Py8Kr2FemG0a+MhUx/wAwOMIqAAAAAAAG0D79sLf8qof5YKtb0MUURGAFYRUAAAAAAAXod9VDqfsUxCjfLJ4piJgghFUAAAAAAIzYIFMQI18dYnULuoDtirAKAAAAAIBtIghMgUyVdaq1ek1BzAddWe8tpiBi3BBWAQAAAACwwww6BbFnhZa7wogpiNhahFUAAAAAAEywZApi1jC+d7rl3jn10HsGXcBmEFYBAAAAAIB1mZkqpfWnIEpSGMVdpxx2No5nCiK6IawCAAAAAABDVS4FfQUObSGWJ321wjgXdEXJ9EMaxk8WwioAAAAAADASQWCaWp6C2Fu3KYi9gi5sf4RVAAAAAABgrA0yBTHrn9U55TAfbjEFcbwRVgEAAAAAgB0jaRi/fqqVhVdxVrXFFMSxQVgFAAAAAAAmziBTEKOuUw7bX0dOtdawEFYBAAAAAAD0YGYql0zlAaYgxrG6TkXM/hwTaq2JsAoAAAAAAGAI2qcg9k63uk1BjDwJusKIvlqEVQAAAAAAAFuo3ymIYRSvNIWPVhrHt+KdvfohYRUAAAAAAMAYKpeCNacfuq9ML2xFaZAVtb/ejlMOCasAAAAAAAC2ITNTpWSqlKSZSvdUK45drbQiK8xVaI3zdMOxCavM7DJJt0m6UdLFkk5Ierek17r7mQGuc5GkWyW9UNKlkk5J+qCkW939+LDHDQAAAAAAMK6CwDQdrN0dPptumPXPysKtrDorirc2zBqLsMrMrpD0UUl7Jb1H0sOSrpZ0i6Qbzew6dz/Vx3UuTq/zVZLulnRY0gFJL5X0fDO7xt2PFvMpAAAAAAAAtp9+phsuTy+M47Rf1kqF1rCrs8YirJL0NiVB1Y+7+1uyjWb2Rkk/Kel1kl7ex3V+SUlQ9Wvu/lO56/y4pNvT97lxiOMGAAAAAADY0cxMU+WkIfxsj1UOo47wKow23gzeRj0v0cz2S/qcpEckXeHucW7feUqmA5qkve6+tMZ1dkl6TFIs6VJ3X8ztC9L3uDx9jzWrqw4ePOgPPvjgRj8SAAAAAAAActxdQRD8o7sfXO/YYCsGtI5npc935YMqSUoDp49ImpP0Detc5xpJs5I+kg+q0uvEku5KX96w6REDAAAAAACgb2bW97HjEFY9OX3+TI/9R9LnryryOmb2w2b2oJk9+Nhjj63zVgAAAAAAACjCOIRV56fP8z32Z9svKPI67v5b7n7Q3Q8+8YlPXOetAAAAAAAAUIRxCKvWk9WJbba51rCuAwAAAAAAgIKMQ1iVVTyd32P/no7jir4OAAAAAAAARmQcwqpPp8+9elJdmT736kU17OsAAAAAAABgRMYhrPpw+vwcM2sbj5mdJ+k6STVJ961znfvS465Lz8tfJ5D0nI73AwAAAAAAwJgZeVjl7p+TdJekyyW9omP3ayXtkvQH7r6UbTSzA2Z2oOM65yT9YXr8azqu88r0+h9y96NDHD4AAAAAAACGqDzqAaR+VNJHJb3ZzJ4t6VOSvl7SDUqm7f2vjuM/lT5bx/ZXSzok6afM7BmS7pf0FEnfJumkVodhAAAAAAAAGCMjr6ySlqurDkp6u5KQ6qclXSHpzZKucfdTfV7nlKRr0vO+Mr3O10v6fUlfl74PAAAAAAAAxtS4VFbJ3Y9Jemmfx3ZWVOX3nZZ0S/oAAAAAAADANjIWlVUAAAAAAACARFgFAAAAAACAMUJYBQAAAAAAgLFBWAUAAAAAAICxQVgFAAAAAACAsUFYBQAAAAAAgLFBWAUAAAAAAICxQVgFAAAAAACAsUFYBQAAAAAAgLFBWAUAAAAAAICxQVgFAAAAAACAsUFYBQAAAAAAgLFBWAUAAAAAAICxYe4+6jGMHTN7TNLnc5ueIOnxEQ0H2C64T4D1cZ8A6+M+AdbHfQKsj/tkPD3J3Z+43kGEVX0wswfd/eCoxwGMM+4TYH3cJ8D6uE+A9XGfAOvjPtnemAYIAAAAAACAsUFYBQAAAAAAgLFBWNWf3xr1AIBtgPsEWB/3CbA+7hNgfdwnwPq4T7YxelYBAAAAAABgbFBZBQAAAAAAgLFBWAUAAAAAAICxQVgFAAAAAACAsUFY1YOZXWZmv2dmXzKzhpk9YmZvMrMLRz02YKPM7MVm9hYz+zszWzAzN7M/Wueca83s/WZ22syqZvZxM/sJMyutcc4LzOweM5s3s3Nm9n/N7CXrvM9LzOz+9Pj59PwXbPSzAhthZheb2Q+a2V+Y2WfNrJZ+Pf69mb3MzLp+3+Q+waQxs18xs78xs2PpfXLazD5mZr9gZhf3OIf7BBPNzL43/beXm9kP9jim8K95Myul997Hc/fv+83s2s1+RmBQ6c/Z3uPxaI9z+H4yAWiw3oWZXSHpo5L2SnqPpIclXS3pBkmflnSdu58a3QiBjTGzf5b0dEnnJB2XdEDSH7v79/Q4/tsk/ZmkuqQ/lXRa0rdIerKkd7n7d3Q555WS3iLpVHpOU9KLJV0m6Q3u/qou57xe0k+nY3qXpClJN0m6SNKPuftbN/6pgf6Z2csl/YakE5I+LOkLkr5M0oskna/kfvgOz33z5D7BJDKzpqR/kvSvkk5K2iXpGyQdlPQlSd/g7sdyx3OfYKKZ2T5Jn5BUkrRb0g+5++90HFP417yZmaR3ptf9tKT3psd+p6QZSd/u7u8ZzqcG1mdmj0i6QNKbuuw+5+6v7zie7yeTwt15dDwkfUiSK/kizG9/Y7r9N0c9Rh48NvJQErheKckkHUq/nv+ox7F7lPwA0pB0MLd9RkmY65Ju6jjnciXfOE5Jujy3/UJJn03PuabjnGvT7Z+VdGHHtU6l17t8M5+bB49+H5KepeQfPEHH9kuUBFeu5B/y2XbuEx4T+ZA002P769Kv1bfltnGf8JjoR/rvrr+W9DlJv5p+nf5gxzFb8jUv6bvScz6Sv48lXZXeoyclnTfq/2Y8Juch6RFJj/R5LN9PJujBNMAOZrZf0nOU3DS/3rH7FyQtSfpeM9u1xUMDNs3dP+zuRzz923YdL5b0REmH3f3B3DXqkn4uffkjHef8gKRpSW9190dy55yR9Evpy5d3nJO9fl16XHbOI0ruwWlJL+1jvMCmufvd7v5ed487tj8q6TfTl4dyu7hPMJHSr/Fu3pk+X5nbxn2CSffjSn4Z8lIlP0t0s1Vf89m99nP5+9jdH1BScfJEJfcsMI74fjJBCKtWe1b6fFeXH1YWlfwWYk5JqTuwk2X3wge77LtXUlXStWY23ec5H+g4ZjPnAKPQSp/D3DbuE6Ddt6TPH89t4z7BxDKzp0j6ZUm3u/u9axxa+Nd8eo9dq+Se+7sB3gco2rSZfY+ZvdrMbjGzG3r0n+L7yQQhrFrtyenzZ3rsP5I+f9UWjAUYpZ73gruHkv5NUlnS/j7POaHkt4mXmdmcJKUVil+uZD76iS5j4H7DWDCzsqTvS1/m/+HCfYKJZmavMrPXmNmvmdnfSfpFJUHVL+cO4z7BREq/d/yhkmnkr17n8K34mv9KJT2zjqb3Xj/nAFvhEiX3yuuU9K66W9IRM3tmx3F8P5kg5VEPYAydnz7P99ifbb9gC8YCjNJG7oV+ztmVHlfd4HsAo/DLkp4m6f3u/qHcdu4TTLpXKVmEIPNBSd/v7o/ltnGfYFLdKulrJH2ju9fWOXYrvua5TzCOfl9Jpd9DkhaVBE2vlPTDkj5gZte4+7+kx/L9ZIJQWTU4S59ZRhGTbiP3wkbvH+43jIyZ/biS1WAelvS9g56ePnOfYEdy90vc3ZT8VvxFSn7I+JiZfe0Al+E+wY5jZlcrqaZ6g7v/wzAumT4X+TXPzznYcu7+2rRn6L+7e9XdP+nuL1eyuNmspNcMcDm+n+wghFWrZUnp+T327+k4DtipNnIv9HvOQp/Hr/ebDaBQZvYKSbdL+ldJN7j76Y5DuE8ASekPGX+hZJGaiyX9QW439wkmSm7632ck/Xyfp23F1zw/52A7yRa2uT63je8nE4SwarVPp8+95qBmq9v06mkF7BQ974X0H2FfoaTR9NE+z7lUSYntcXevSpK7L0n6oqTd6f5O3G8YGTP7CUlvlfRJJUHVo10O4z4Bctz980rC3aea2RPSzdwnmDS7lXztPkVS3cw8eyhZXVySfjvd9qb09VZ8zX9WUiRpf3rv9XMOMCon0+dduW18P5kghFWrfTh9fo6Ztf33MbPzJF0nqSbpvq0eGLDF7k6fb+yy73olq2J+1N0bfZ7zvI5jNnMOUCgz+5+Sfk3SPysJqk72OJT7BFjtP6TPUfrMfYJJ05D0uz0eH0uP+fv0dTZFsPCv+fQe+6iSe+6bBngfYBSuSZ/zwRPfTyaJu/PoeEj6kJI5qD/Wsf2N6fbfHPUYefDY7EPSofTr+Y967N8j6TEl/+A6mNs+o+QfOi7ppo5zvkJSXdIpSZfntl+o5Ld5LumajnOuTbd/VtKFue2Xp9ep56/Fg0fRDyVTNlzSg5IuWudY7hMeE/eQdEDSJV22B0pWcnJJH8lt5z7hwSN9KOm/45J+sGP7lnzNS/qu7B6VNJPbflV6j56UtGfU/514TMZD0lO7/VtL0pOUrLrnkl6d2873kwl6WPofHTlmdoWSL/a9kt4j6VOSvl7SDUrK/a5191OjGyGwMWb2QkkvTF9eIum5Sn5b8Xfptsfd/VUdx79LyV/IhyWdlvStSpaAfZek/+Ydf4mY2Y9JerOSv8j/VFJT0oslXaakyeir1MHM3iDppyQdT687Jek7lfQ9+TF3f+tmPzvQDzN7iaS3K6kIeYu69yN4xN3fnjuH+wQTJZ0i+6uS7pX0OSVfx18m6ZlKGqw/KunZ7v6vuXO4TwBJZvYaJVMBf8jdf6djX+Ff82Zmkt6ZXvdhSe9Nj/1OJT/wf7u7v2dIHxdYU3o//KyS2U3/pmQ1wCskPV/J1+P7Jf1Xd2/mzuH7yaQYdVo2rg9J+5Qso3lCyRfz55U02V3zt+w8eIzzQyu/zev1eKTLOdcp+UZxRskU2E9I+klJpTXe51sk/a2SbzhLkh6Q9JJ1xvaS9Lil9Ly/lfSCUf834zFZjz7uEZd0T5fzuE94TMxD0tMk/bqSabKPK+kPMp9+bb6m17+VuE948OhdWZXbX/jXvKRyeu99Ir0Xz6T35rWj/u/DY7IeSn7J8SdKgtOzklpKKqf+StL3SUlxTZfz+H4yAQ8qqwAAAAAAADA2aLAOAAAAAACAsUFYBQAAAAAAgLFBWAUAAAAAAICxQVgFAAAAAACAsUFYBQAAAAAAgLFBWAUAAAAAAICxQVgFAAAAAACAsUFYBQAAMGJm9gIzczN7VUHXf9zMPtmx7ZXpe754k9d+Wnqdt25ulAAAAAnCKgAAsGOkockgj+/f4Pu8Pj3/4JA/Qr/v/4I+PtsTRjG2fgwrKAMAADtTedQDAAAAGKLXdtn2E5LOl3S7pLMd+/658BEV64ikd/TYV13n3D+S9NeSvjjUEQEAAGwSYRUAANgx3P01ndvS6qnzJb3J3R/Z4iEV7TPdPnM/3P2sVod3AAAAI8c0QAAAAElm9p/M7B1mdsLMmmZ23Mx+z8wu7zjucUk/nb58IDft7lzHtX7VzP4p7RfVMLN/M7O3mdklW/epeltrKp6ZfZuZ3WdmVTM7ZWbv+v/bu99Qvcs6juPvj5qYhuZIo39G4RZoBa61GNk2sFFi0QjZA6PQufUHF0Rk0IOsZhCNRQ/Wk80GkUXUZuuvg1ZqWYm2ViH+iQaVRVZrmmZaa/rtwfU72+3dfZ9275xtt+d+v+BwnXNdv9/1u36/8+zL9/peSV7etUO3GCZZkOSmJA8leaKbY0XfNbuBTd2f2wZtXUxydpL1Se5N8o8kjyb5TZIvJ3nVbH8LSZI0XsyskiRJEy/JG4CdwLOBHbTtdRcCVwFvS7K8qu7uLt8ArASWADcAf+r6D/RMeQWwGrgN+BHwJPBq4L3AZUkWVdW+Y/lORyvJamAr8BjwFeCvwDLgDmDvNLcuAO4E7gG+AJwLrAJuTnJxVd3ZXbeF9v0uBbYB9/bM8XiSk4EfABcBt9P+L08B5wErgF3A3UiSpDnLYJUkSZpoSU4BbgTOAFZW1Td7xq4GPk8LvrwGoKo2JDmXFqzaUlW7B0y7GVhfVb0BLJKspAXDPgxcOwvLX5Dk4wP6v1dVPx11si6zaROt3tVrq+r+nrHPAddMc/sK4Nqq2thzzw5gOy0TbRVAVW1JciotWPW1qtret4YltEDVl6rqnX1jpwDPGfW9JEnSM4vBKkmSNOkuAV4K7OoNVAFU1dYk1wALkyysqj1HMmFV/WFI/zeS/BZ4E7MTrJoPfGxA/2PAyMEq4HLgdGBTb6Cqcx0t0+z0IffeB3ymt6OqbkqyH1h8FGt5or+jqg5inS1JkuY8a1ZJkqRJt7BrbxkyfmvXXnSkEyY5KcnqJLd2NasOTtVlAl4GvGgG6+313arKgJ+N///Wgabe8cf9A1X1EE/fstdvT1XVgP4/AmePsIY9wP3A2iS3JflgktcledYIc0iSpGcwM6skSdKkO6trHxwyPtX/3BHm3AysoQVqbqbVtfpXN/Zu4MwR13i8TH2LvwwZH9YPwzOeDgInH+kCqurfSZbSMsbezuFsrb8n2Qp8tKr+J+tKkiTNHQarJEnSpHuka4ed0veCvuum1Z0euAb4GbCsP7CSZO3oSzxuHu3a5w8ZH9Y/q7ri8+uAdUleASwH3kerfXVG97skSZqj3AYoSZIm3S+6dvmQ8an+3npVT3btoIyh87t254BA1XzghaMv8biZ+hYX9w8kmQdcMEvPme77PU1V/bqqNgNLgf/QThKUJElzmMEqSZI06b4PPAC8OcmlvQNJrqTVtPplX3H1/V173oD5fte1S5OkZ66zgC2ztOZjZTvtJMCru4ymXusZXlx9VEO/X5IFA54N8DzaroDHZ2kNkiRpTLkNUJIkTbSqOpjkXcBO4NtJvg7sBS4E3go8DFzZd9tUMfbPJllM2yJ4oKo2VNXeJN8B3gL8PMktwDzaCYB/oxUPf8kxfq2jUlX7knyAFlTbneSrwD5aVtP5wB3AEuCpGT7qduAA8JEkL+6eAa0+1WLgxiR3AfcAf6ZtP1wJBPj0DJ8tSZLGnJlVkiRp4lXVD2lBku3AMuBDwCLgi8CiqvpV3/W7gbW0QNb7geuB63ouuQLYSCtYvg64BNhGC/r881i+y0xV1Q20wub3Ae8A3kMrMr+EFmCCw7WtjvYZDwKraEHBNbTvdz2tHtVPgA1AAZfR6lSt6PrfWFXjnp0mSZJmKINPGJYkSZIOS3Iq7XTDR6pq/olejyRJmrvMrJIkSdIhSeYlOa2v7yTgk8A5wI4TsjBJkjQxzKySJEnSIUkup9Ws2gX8HjgTeD3wStq2vcVV9fCJW6EkSZrrDFZJkiTpkO4kvk/QalSdQ8vEfwD4FvCpqto/ze2SJEkzZrBKkiRJkiRJY8OaVZIkSZIkSRobBqskSZIkSZI0NgxWSZIkSZIkaWwYrJIkSZIkSdLYMFglSZIkSZKksfFfdDmqyZ3C3OkAAAAASUVORK5CYII=\n",
      "text/plain": [
       "<Figure size 1440x720 with 1 Axes>"
      ]
     },
     "metadata": {},
     "output_type": "display_data"
    }
   ],
   "source": [
    "x1 = ttl_flights.loc['AM WEST'].append(ttl_flights.loc['Alaska'])\n",
    "y1 = perc_delay.loc['AM WEST'].append(perc_delay.loc['Alaska'])\n",
    "ax = sns.regplot(x= x1, y= y1, )\n",
    "ax.set(xlabel='Total Flights', ylabel='%age of delayed flights', title= 'Flights Data')"
   ]
  },
  {
   "cell_type": "markdown",
   "metadata": {},
   "source": [
    "# Conclusion\n",
    "\n",
    "**Based on the regression graph, the general trend of the line of best fit trends downard. Therefore, as the number of total flights increases at a given location, the percentage of flight delays per location tends to decrease.**"
   ]
  }
 ],
 "metadata": {
  "kernelspec": {
   "display_name": "Python 3",
   "language": "python",
   "name": "python3"
  },
  "language_info": {
   "codemirror_mode": {
    "name": "ipython",
    "version": 3
   },
   "file_extension": ".py",
   "mimetype": "text/x-python",
   "name": "python",
   "nbconvert_exporter": "python",
   "pygments_lexer": "ipython3",
   "version": "3.6.5"
  }
 },
 "nbformat": 4,
 "nbformat_minor": 2
}
