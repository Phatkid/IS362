{
 "cells": [
  {
   "cell_type": "markdown",
   "metadata": {},
   "source": [
    "# **List Comprehensions**\n"
   ]
  },
  {
   "cell_type": "markdown",
   "metadata": {},
   "source": [
    "## **Introduction**\n",
    "\n",
    "The focus of this notebook is list comprehensions and their most practical use for a novice level programmer or data analyst. How to construct and use list comprehension will be covered. More specifically, the following uses of list comprehensions will be discussed:\n",
    "\n",
    " 1. for loops\n",
    "   \n",
    "   a. \"list comprehensions are a one line for loops\" according to source blog\n",
    "   \n",
    "   b. why list comprehensions are useful\n",
    " 2. if statements\n",
    " \n",
    " 3. example of calling a string method\n",
    "\n",
    "The main source for this assignment is https://www.blog.pythonlibrary.org/2012/07/28/python-201-list-comprehensions/\n",
    "and Tutorials Point website section on python strings: https://www.tutorialspoint.com/python/string_strip.htm\n"
   ]
  },
  {
   "cell_type": "markdown",
   "metadata": {},
   "source": [
    "## **for Loop**\n",
    "\n",
    "Below is a basic list comprehension that is a one line for loop. The purpose of this loop is to multiply each list item by 2. According to my research on list comprehensions -- as a simplified definition -- they are basically the equivalent to a one line for loop. Here is the order of the code in the following cell.\n",
    "\n",
    "1. Create a variable with a list\n",
    "2. Create a simple list comprehension that loops through the list and multiplies by 2"
   ]
  },
  {
   "cell_type": "code",
   "execution_count": 9,
   "metadata": {},
   "outputs": [
    {
     "data": {
      "text/plain": [
       "[2, 10, 4, 12]"
      ]
     },
     "execution_count": 9,
     "metadata": {},
     "output_type": "execute_result"
    }
   ],
   "source": [
    "sample = [1, 5, 2, 6] #list to use in list comprehension\n",
    "\n",
    "x = [item * 2 for item in sample] #list comprehension that loops through sample and multiplies list item by 2.\n",
    "x"
   ]
  },
  {
   "cell_type": "markdown",
   "metadata": {},
   "source": [
    "The purpose of using a list comprehension in this was is that we are able to quickly create a list from this loop in one step rather than creating a seperate function and then a list. "
   ]
  },
  {
   "cell_type": "markdown",
   "metadata": {},
   "source": [
    "## if Statements"
   ]
  },
  {
   "cell_type": "code",
   "execution_count": 18,
   "metadata": {},
   "outputs": [
    {
     "data": {
      "text/plain": [
       "[11, 5, 13]"
      ]
     },
     "execution_count": 18,
     "metadata": {},
     "output_type": "execute_result"
    }
   ],
   "source": [
    "y = [item+1 for item in x if item >= 4]\n",
    "y"
   ]
  },
  {
   "cell_type": "markdown",
   "metadata": {},
   "source": [
    "## Calling a String Method"
   ]
  },
  {
   "cell_type": "code",
   "execution_count": 6,
   "metadata": {},
   "outputs": [
    {
     "data": {
      "text/plain": [
       "['this is string example....wow!!!']"
      ]
     },
     "execution_count": 6,
     "metadata": {},
     "output_type": "execute_result"
    }
   ],
   "source": [
    "myStringList = [\"0000000this is string example....wow!!!0000000\"]\n",
    "\n",
    "myStrings = [s.strip('0') for s in myStringList]\n",
    "myStrings"
   ]
  },
  {
   "cell_type": "markdown",
   "metadata": {},
   "source": [
    "In the above code we called a string method from a prior string in a list and easily where able to create a new string called myStrings that used strip to clean up the 0s from the myStringList."
   ]
  },
  {
   "cell_type": "code",
   "execution_count": null,
   "metadata": {},
   "outputs": [],
   "source": []
  }
 ],
 "metadata": {
  "kernelspec": {
   "display_name": "Python 3",
   "language": "python",
   "name": "python3"
  },
  "language_info": {
   "codemirror_mode": {
    "name": "ipython",
    "version": 3
   },
   "file_extension": ".py",
   "mimetype": "text/x-python",
   "name": "python",
   "nbconvert_exporter": "python",
   "pygments_lexer": "ipython3",
   "version": "3.6.5"
  }
 },
 "nbformat": 4,
 "nbformat_minor": 2
}
