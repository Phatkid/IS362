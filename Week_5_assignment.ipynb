{
 "cells": [
  {
   "cell_type": "markdown",
   "metadata": {},
   "source": [
    "### The three questions to be answered for this assignment:\n",
    "\n",
    "1. What is the \n",
    "northernmost airport in the United States?\n",
    "2. What is the easternmost airport in the United States?\n",
    "3. On February 12th, 2013, which New York area airport had the windiest weather?"
   ]
  },
  {
   "cell_type": "code",
   "execution_count": 1,
   "metadata": {},
   "outputs": [],
   "source": [
    "#import pandas and numpy\n",
    "import pandas as pd\n",
    "import numpy as np\n",
    "import matplotlib\n",
    "from ipywidgets import *\n",
    "import os\n",
    "from ipyleaflet import * #imports ipyleaflet to check location that shows the coordinates are erroneous."
   ]
  },
  {
   "cell_type": "code",
   "execution_count": 2,
   "metadata": {},
   "outputs": [
    {
     "data": {
      "text/plain": [
       "(1458, 8)"
      ]
     },
     "execution_count": 2,
     "metadata": {},
     "output_type": "execute_result"
    }
   ],
   "source": [
    "#imports the url and creates a pandas dataframe df\n",
    "url=\"https://raw.githubusercontent.com/hadley/nycflights13/master/data-raw/airports.csv\"\n",
    "df = pd.read_csv(url)\n",
    "df.shape #verifies that all data from source was captured in the dataframe. "
   ]
  },
  {
   "cell_type": "markdown",
   "metadata": {},
   "source": [
    "## Question 1 \n",
    "**Assumption:** The point with the highest positive lattitude value is the northmost location.\n",
    "\n",
    "**Approach:** To get the northmost location I will sort the dataframe in descending order by the 'lat' column. Then the top will be obtained by displaying the first 5 row in the sorted dataframe. \n"
   ]
  },
  {
   "cell_type": "code",
   "execution_count": 3,
   "metadata": {},
   "outputs": [
    {
     "data": {
      "text/html": [
       "<div>\n",
       "<style scoped>\n",
       "    .dataframe tbody tr th:only-of-type {\n",
       "        vertical-align: middle;\n",
       "    }\n",
       "\n",
       "    .dataframe tbody tr th {\n",
       "        vertical-align: top;\n",
       "    }\n",
       "\n",
       "    .dataframe thead th {\n",
       "        text-align: right;\n",
       "    }\n",
       "</style>\n",
       "<table border=\"1\" class=\"dataframe\">\n",
       "  <thead>\n",
       "    <tr style=\"text-align: right;\">\n",
       "      <th></th>\n",
       "      <th>faa</th>\n",
       "      <th>name</th>\n",
       "      <th>lat</th>\n",
       "      <th>lon</th>\n",
       "      <th>alt</th>\n",
       "      <th>tz</th>\n",
       "      <th>dst</th>\n",
       "      <th>tzone</th>\n",
       "    </tr>\n",
       "  </thead>\n",
       "  <tbody>\n",
       "    <tr>\n",
       "      <th>417</th>\n",
       "      <td>EEN</td>\n",
       "      <td>Dillant Hopkins Airport</td>\n",
       "      <td>72.270833</td>\n",
       "      <td>42.898333</td>\n",
       "      <td>149</td>\n",
       "      <td>-5.0</td>\n",
       "      <td>A</td>\n",
       "      <td>\\N</td>\n",
       "    </tr>\n",
       "    <tr>\n",
       "      <th>230</th>\n",
       "      <td>BRW</td>\n",
       "      <td>Wiley Post Will Rogers Mem</td>\n",
       "      <td>71.285446</td>\n",
       "      <td>-156.766003</td>\n",
       "      <td>44</td>\n",
       "      <td>-9.0</td>\n",
       "      <td>A</td>\n",
       "      <td>America/Anchorage</td>\n",
       "    </tr>\n",
       "    <tr>\n",
       "      <th>110</th>\n",
       "      <td>AIN</td>\n",
       "      <td>Wainwright Airport</td>\n",
       "      <td>70.638056</td>\n",
       "      <td>-159.994722</td>\n",
       "      <td>41</td>\n",
       "      <td>-9.0</td>\n",
       "      <td>A</td>\n",
       "      <td>America/Anchorage</td>\n",
       "    </tr>\n",
       "    <tr>\n",
       "      <th>708</th>\n",
       "      <td>K03</td>\n",
       "      <td>Wainwright As</td>\n",
       "      <td>70.613378</td>\n",
       "      <td>-159.860350</td>\n",
       "      <td>35</td>\n",
       "      <td>-9.0</td>\n",
       "      <td>A</td>\n",
       "      <td>America/Anchorage</td>\n",
       "    </tr>\n",
       "    <tr>\n",
       "      <th>152</th>\n",
       "      <td>ATK</td>\n",
       "      <td>Atqasuk Edward Burnell Sr Memorial Airport</td>\n",
       "      <td>70.467300</td>\n",
       "      <td>-157.436000</td>\n",
       "      <td>96</td>\n",
       "      <td>-9.0</td>\n",
       "      <td>A</td>\n",
       "      <td>America/Anchorage</td>\n",
       "    </tr>\n",
       "  </tbody>\n",
       "</table>\n",
       "</div>"
      ],
      "text/plain": [
       "     faa                                        name        lat         lon  \\\n",
       "417  EEN                     Dillant Hopkins Airport  72.270833   42.898333   \n",
       "230  BRW                  Wiley Post Will Rogers Mem  71.285446 -156.766003   \n",
       "110  AIN                          Wainwright Airport  70.638056 -159.994722   \n",
       "708  K03                               Wainwright As  70.613378 -159.860350   \n",
       "152  ATK  Atqasuk Edward Burnell Sr Memorial Airport  70.467300 -157.436000   \n",
       "\n",
       "     alt   tz dst              tzone  \n",
       "417  149 -5.0   A                 \\N  \n",
       "230   44 -9.0   A  America/Anchorage  \n",
       "110   41 -9.0   A  America/Anchorage  \n",
       "708   35 -9.0   A  America/Anchorage  \n",
       "152   96 -9.0   A  America/Anchorage  "
      ]
     },
     "execution_count": 3,
     "metadata": {},
     "output_type": "execute_result"
    }
   ],
   "source": [
    "northmost = df.sort_values('lat', ascending=False).head(5)\n",
    "northmost"
   ]
  },
  {
   "cell_type": "markdown",
   "metadata": {},
   "source": [
    "**Answer:** The airport with the northmost location is Dilland Hopkins Airport with a lattitude of 72.270833. However this answer is incorrect because the coordinates are in the middle of the Barents Sea as show below in the map. The second row from the above table is correct; this was verified again with mapping the coordinates which are in Anchorage as stated in the \"tzone\" column for index 230."
   ]
  },
  {
   "cell_type": "code",
   "execution_count": 22,
   "metadata": {},
   "outputs": [
    {
     "data": {
      "application/vnd.jupyter.widget-view+json": {
       "model_id": "7043a7ac01164ea5a11ee3cb7c6205f0",
       "version_major": 2,
       "version_minor": 0
      },
      "text/plain": [
       "Map(basemap={'url': 'http://server.arcgisonline.com/ArcGIS/rest/services/World_Street_Map/MapServer/tile/{z}/{…"
      ]
     },
     "metadata": {},
     "output_type": "display_data"
    }
   ],
   "source": [
    "center = 72.270833, 42.898333\n",
    "m = Map(center=(center), basemap=basemaps.Esri.WorldStreetMap, marker=True, zoom=3)\n",
    "marker = Marker(location=center)\n",
    "m.add_layer(marker)\n",
    "m"
   ]
  },
  {
   "cell_type": "code",
   "execution_count": 21,
   "metadata": {},
   "outputs": [
    {
     "data": {
      "application/vnd.jupyter.widget-view+json": {
       "model_id": "52ad73714e944808ad930b2ef549767f",
       "version_major": 2,
       "version_minor": 0
      },
      "text/plain": [
       "Map(basemap={'url': 'http://server.arcgisonline.com/ArcGIS/rest/services/World_Street_Map/MapServer/tile/{z}/{…"
      ]
     },
     "metadata": {},
     "output_type": "display_data"
    }
   ],
   "source": [
    "center = 71.285446, -156.766003\n",
    "m2 = Map(center=(center), basemap=basemaps.Esri.WorldStreetMap, marker=True, zoom=3)\n",
    "marker = Marker(location=center)\n",
    "m2.add_layer(marker)\n",
    "m2"
   ]
  },
  {
   "cell_type": "markdown",
   "metadata": {},
   "source": [
    "## Question 2\n",
    "**Assumption:** The point with the highest positive longitude value is the easternmost location.\n",
    "\n",
    "**Approach:** To get the easternmost location I will sort the dataframe in descending order by the 'lon' column. Then the top will be obtained by displaying the first 5 rows in the sorted dataframe. "
   ]
  },
  {
   "cell_type": "code",
   "execution_count": 6,
   "metadata": {},
   "outputs": [
    {
     "data": {
      "text/html": [
       "<div>\n",
       "<style scoped>\n",
       "    .dataframe tbody tr th:only-of-type {\n",
       "        vertical-align: middle;\n",
       "    }\n",
       "\n",
       "    .dataframe tbody tr th {\n",
       "        vertical-align: top;\n",
       "    }\n",
       "\n",
       "    .dataframe thead th {\n",
       "        text-align: right;\n",
       "    }\n",
       "</style>\n",
       "<table border=\"1\" class=\"dataframe\">\n",
       "  <thead>\n",
       "    <tr style=\"text-align: right;\">\n",
       "      <th></th>\n",
       "      <th>faa</th>\n",
       "      <th>name</th>\n",
       "      <th>lat</th>\n",
       "      <th>lon</th>\n",
       "      <th>alt</th>\n",
       "      <th>tz</th>\n",
       "      <th>dst</th>\n",
       "      <th>tzone</th>\n",
       "    </tr>\n",
       "  </thead>\n",
       "  <tbody>\n",
       "    <tr>\n",
       "      <th>1290</th>\n",
       "      <td>SYA</td>\n",
       "      <td>Eareckson As</td>\n",
       "      <td>52.712275</td>\n",
       "      <td>174.113620</td>\n",
       "      <td>98</td>\n",
       "      <td>-9.0</td>\n",
       "      <td>A</td>\n",
       "      <td>America/Anchorage</td>\n",
       "    </tr>\n",
       "    <tr>\n",
       "      <th>942</th>\n",
       "      <td>MYF</td>\n",
       "      <td>Montgomery Field</td>\n",
       "      <td>32.475900</td>\n",
       "      <td>117.759000</td>\n",
       "      <td>17</td>\n",
       "      <td>8.0</td>\n",
       "      <td>A</td>\n",
       "      <td>Asia/Chongqing</td>\n",
       "    </tr>\n",
       "    <tr>\n",
       "      <th>396</th>\n",
       "      <td>DVT</td>\n",
       "      <td>Deer Valley Municipal Airport</td>\n",
       "      <td>33.411700</td>\n",
       "      <td>112.457000</td>\n",
       "      <td>1478</td>\n",
       "      <td>8.0</td>\n",
       "      <td>A</td>\n",
       "      <td>Asia/Chongqing</td>\n",
       "    </tr>\n",
       "    <tr>\n",
       "      <th>417</th>\n",
       "      <td>EEN</td>\n",
       "      <td>Dillant Hopkins Airport</td>\n",
       "      <td>72.270833</td>\n",
       "      <td>42.898333</td>\n",
       "      <td>149</td>\n",
       "      <td>-5.0</td>\n",
       "      <td>A</td>\n",
       "      <td>\\N</td>\n",
       "    </tr>\n",
       "    <tr>\n",
       "      <th>444</th>\n",
       "      <td>EPM</td>\n",
       "      <td>Eastport Municipal Airport</td>\n",
       "      <td>44.910111</td>\n",
       "      <td>-67.012694</td>\n",
       "      <td>45</td>\n",
       "      <td>-5.0</td>\n",
       "      <td>A</td>\n",
       "      <td>America/New_York</td>\n",
       "    </tr>\n",
       "  </tbody>\n",
       "</table>\n",
       "</div>"
      ],
      "text/plain": [
       "      faa                           name        lat         lon   alt   tz  \\\n",
       "1290  SYA                   Eareckson As  52.712275  174.113620    98 -9.0   \n",
       "942   MYF               Montgomery Field  32.475900  117.759000    17  8.0   \n",
       "396   DVT  Deer Valley Municipal Airport  33.411700  112.457000  1478  8.0   \n",
       "417   EEN        Dillant Hopkins Airport  72.270833   42.898333   149 -5.0   \n",
       "444   EPM     Eastport Municipal Airport  44.910111  -67.012694    45 -5.0   \n",
       "\n",
       "     dst              tzone  \n",
       "1290   A  America/Anchorage  \n",
       "942    A     Asia/Chongqing  \n",
       "396    A     Asia/Chongqing  \n",
       "417    A                 \\N  \n",
       "444    A   America/New_York  "
      ]
     },
     "execution_count": 6,
     "metadata": {},
     "output_type": "execute_result"
    }
   ],
   "source": [
    "easternmost = df.sort_values('lon', ascending=False).head(5)\n",
    "easternmost"
   ]
  },
  {
   "cell_type": "markdown",
   "metadata": {},
   "source": [
    "**Answer:** The easternmost airport is Eareckson As with a longitude of 174.11362. This is correct coordinates according to Wikipedia which places the airport on Shemya Island, Alaska. The map coordinates below confirm the correct location. "
   ]
  },
  {
   "cell_type": "code",
   "execution_count": 7,
   "metadata": {},
   "outputs": [
    {
     "data": {
      "application/vnd.jupyter.widget-view+json": {
       "model_id": "5eb8cadfcb3445309e2e9463a9e404df",
       "version_major": 2,
       "version_minor": 0
      },
      "text/plain": [
       "Map(basemap={'url': 'http://server.arcgisonline.com/ArcGIS/rest/services/World_Street_Map/MapServer/tile/{z}/{…"
      ]
     },
     "metadata": {},
     "output_type": "display_data"
    }
   ],
   "source": [
    "center = 52.712275, 174.113620\n",
    "m2 = Map(center=(center), basemap=basemaps.Esri.WorldStreetMap, marker=True, zoom=13)\n",
    "marker = Marker(location=center)\n",
    "m2.add_layer(marker)\n",
    "m2"
   ]
  },
  {
   "cell_type": "markdown",
   "metadata": {},
   "source": [
    "## Question 3\n",
    "**Assumptions:** The data will come from the table with weather information. I will need to import another data table and query the information from that table.\n",
    "\n",
    "**Approach:** To get the data table from Github I will use the same approach as for the first two questions. Then a query will be used to pull the data for the date, Feb 12th, 2013, and max will be used for the column with wind speeds."
   ]
  },
  {
   "cell_type": "code",
   "execution_count": 8,
   "metadata": {},
   "outputs": [
    {
     "data": {
      "text/plain": [
       "(26115, 15)"
      ]
     },
     "execution_count": 8,
     "metadata": {},
     "output_type": "execute_result"
    }
   ],
   "source": [
    "#imports csv from Github and creates a new dataframe -- checks by first 5 rows.\n",
    "url2 = \"https://raw.githubusercontent.com/hadley/nycflights13/master/data-raw/weather.csv\"\n",
    "df2 = pd.read_csv(url2)\n",
    "df2.shape"
   ]
  },
  {
   "cell_type": "code",
   "execution_count": 9,
   "metadata": {},
   "outputs": [
    {
     "data": {
      "text/html": [
       "<div>\n",
       "<style scoped>\n",
       "    .dataframe tbody tr th:only-of-type {\n",
       "        vertical-align: middle;\n",
       "    }\n",
       "\n",
       "    .dataframe tbody tr th {\n",
       "        vertical-align: top;\n",
       "    }\n",
       "\n",
       "    .dataframe thead th {\n",
       "        text-align: right;\n",
       "    }\n",
       "</style>\n",
       "<table border=\"1\" class=\"dataframe\">\n",
       "  <thead>\n",
       "    <tr style=\"text-align: right;\">\n",
       "      <th></th>\n",
       "      <th>origin</th>\n",
       "      <th>year</th>\n",
       "      <th>month</th>\n",
       "      <th>day</th>\n",
       "      <th>hour</th>\n",
       "      <th>temp</th>\n",
       "      <th>dewp</th>\n",
       "      <th>humid</th>\n",
       "      <th>wind_dir</th>\n",
       "      <th>wind_speed</th>\n",
       "      <th>wind_gust</th>\n",
       "      <th>precip</th>\n",
       "      <th>pressure</th>\n",
       "      <th>visib</th>\n",
       "      <th>time_hour</th>\n",
       "    </tr>\n",
       "  </thead>\n",
       "  <tbody>\n",
       "    <tr>\n",
       "      <th>1009</th>\n",
       "      <td>EWR</td>\n",
       "      <td>2013</td>\n",
       "      <td>2</td>\n",
       "      <td>12</td>\n",
       "      <td>3</td>\n",
       "      <td>39.02</td>\n",
       "      <td>26.96</td>\n",
       "      <td>61.63</td>\n",
       "      <td>260.0</td>\n",
       "      <td>1048.36058</td>\n",
       "      <td>NaN</td>\n",
       "      <td>0.0</td>\n",
       "      <td>1008.3</td>\n",
       "      <td>10.0</td>\n",
       "      <td>2013-02-12T08:00:00Z</td>\n",
       "    </tr>\n",
       "    <tr>\n",
       "      <th>18417</th>\n",
       "      <td>LGA</td>\n",
       "      <td>2013</td>\n",
       "      <td>2</td>\n",
       "      <td>12</td>\n",
       "      <td>2</td>\n",
       "      <td>42.98</td>\n",
       "      <td>26.06</td>\n",
       "      <td>50.94</td>\n",
       "      <td>290.0</td>\n",
       "      <td>23.01560</td>\n",
       "      <td>31.07106</td>\n",
       "      <td>0.0</td>\n",
       "      <td>1007.1</td>\n",
       "      <td>10.0</td>\n",
       "      <td>2013-02-12T07:00:00Z</td>\n",
       "    </tr>\n",
       "    <tr>\n",
       "      <th>1018</th>\n",
       "      <td>EWR</td>\n",
       "      <td>2013</td>\n",
       "      <td>2</td>\n",
       "      <td>12</td>\n",
       "      <td>12</td>\n",
       "      <td>44.06</td>\n",
       "      <td>26.06</td>\n",
       "      <td>48.87</td>\n",
       "      <td>270.0</td>\n",
       "      <td>21.86482</td>\n",
       "      <td>31.07106</td>\n",
       "      <td>0.0</td>\n",
       "      <td>1012.5</td>\n",
       "      <td>10.0</td>\n",
       "      <td>2013-02-12T17:00:00Z</td>\n",
       "    </tr>\n",
       "    <tr>\n",
       "      <th>18428</th>\n",
       "      <td>LGA</td>\n",
       "      <td>2013</td>\n",
       "      <td>2</td>\n",
       "      <td>12</td>\n",
       "      <td>13</td>\n",
       "      <td>44.06</td>\n",
       "      <td>23.00</td>\n",
       "      <td>43.02</td>\n",
       "      <td>300.0</td>\n",
       "      <td>21.86482</td>\n",
       "      <td>25.31716</td>\n",
       "      <td>0.0</td>\n",
       "      <td>1011.7</td>\n",
       "      <td>10.0</td>\n",
       "      <td>2013-02-12T18:00:00Z</td>\n",
       "    </tr>\n",
       "    <tr>\n",
       "      <th>18429</th>\n",
       "      <td>LGA</td>\n",
       "      <td>2013</td>\n",
       "      <td>2</td>\n",
       "      <td>12</td>\n",
       "      <td>14</td>\n",
       "      <td>44.06</td>\n",
       "      <td>23.00</td>\n",
       "      <td>43.02</td>\n",
       "      <td>300.0</td>\n",
       "      <td>20.71404</td>\n",
       "      <td>25.31716</td>\n",
       "      <td>0.0</td>\n",
       "      <td>1011.5</td>\n",
       "      <td>10.0</td>\n",
       "      <td>2013-02-12T19:00:00Z</td>\n",
       "    </tr>\n",
       "  </tbody>\n",
       "</table>\n",
       "</div>"
      ],
      "text/plain": [
       "      origin  year  month  day  hour   temp   dewp  humid  wind_dir  \\\n",
       "1009     EWR  2013      2   12     3  39.02  26.96  61.63     260.0   \n",
       "18417    LGA  2013      2   12     2  42.98  26.06  50.94     290.0   \n",
       "1018     EWR  2013      2   12    12  44.06  26.06  48.87     270.0   \n",
       "18428    LGA  2013      2   12    13  44.06  23.00  43.02     300.0   \n",
       "18429    LGA  2013      2   12    14  44.06  23.00  43.02     300.0   \n",
       "\n",
       "       wind_speed  wind_gust  precip  pressure  visib             time_hour  \n",
       "1009   1048.36058        NaN     0.0    1008.3   10.0  2013-02-12T08:00:00Z  \n",
       "18417    23.01560   31.07106     0.0    1007.1   10.0  2013-02-12T07:00:00Z  \n",
       "1018     21.86482   31.07106     0.0    1012.5   10.0  2013-02-12T17:00:00Z  \n",
       "18428    21.86482   25.31716     0.0    1011.7   10.0  2013-02-12T18:00:00Z  \n",
       "18429    20.71404   25.31716     0.0    1011.5   10.0  2013-02-12T19:00:00Z  "
      ]
     },
     "execution_count": 9,
     "metadata": {},
     "output_type": "execute_result"
    }
   ],
   "source": [
    "df2_date = df2[(df2.year == 2013) & (df2.month == 2) & (df2.day == 12)]\n",
    "df2_date.sort_values('wind_speed', ascending=False).head(5)"
   ]
  },
  {
   "cell_type": "markdown",
   "metadata": {},
   "source": [
    "**Answer:** There appears to be a data entry error. The wind speed list for origin EWR on Feb 12, 2013 is 1,048 which is an error as there has never been wind speeds recorded of this magnitude on earth. The correct answer is the next greatest value of 23.01560 recorded at LGA."
   ]
  }
 ],
 "metadata": {
  "kernelspec": {
   "display_name": "Python 3",
   "language": "python",
   "name": "python3"
  },
  "language_info": {
   "codemirror_mode": {
    "name": "ipython",
    "version": 3
   },
   "file_extension": ".py",
   "mimetype": "text/x-python",
   "name": "python",
   "nbconvert_exporter": "python",
   "pygments_lexer": "ipython3",
   "version": "3.6.5"
  },
  "widgets": {
   "application/vnd.jupyter.widget-state+json": {
    "state": {
     "08c98de0d9b84d4a8f120fdbd753e5a5": {
      "model_module": "jupyter-leaflet",
      "model_module_version": "~0.9.0",
      "model_name": "LeafletMapModel",
      "state": {
       "_dom_classes": [],
       "_model_module_version": "~0.9.0",
       "_view_count": null,
       "_view_module_version": "~0.9.0",
       "basemap": {
        "attribution": "Tiles &copy; Esri &mdash; Source: Esri, DeLorme, NAVTEQ, USGS, Intermap, iPC, NRCAN, Esri Japan, METI, Esri China (Hong Kong), Esri (Thailand), TomTom, 2012",
        "max_zoom": 20,
        "name": "Esri.WoldStreetMap",
        "url": "http://server.arcgisonline.com/ArcGIS/rest/services/World_Street_Map/MapServer/tile/{z}/{y}/{x}"
       },
       "center": [
        72.270833,
        42.898333
       ],
       "east": 129.19921875000003,
       "interpolation": "bilinear",
       "layers": [
        "IPY_MODEL_4789c0659ac94d4baec84e1cffb9da7f",
        "IPY_MODEL_8b015c399b37477da298cac62f0468b3"
       ],
       "layout": "IPY_MODEL_46a6cdab22cb4f799d56295bd96ae7c9",
       "modisdate": "yesterday",
       "north": 80.35699541661764,
       "options": [
        "attribution_control",
        "basemap",
        "bounce_at_zoom_limits",
        "box_zoom",
        "center",
        "close_popup_on_click",
        "double_click_zoom",
        "dragging",
        "inertia",
        "inertia_deceleration",
        "inertia_max_speed",
        "interpolation",
        "keyboard",
        "keyboard_pan_offset",
        "keyboard_zoom_offset",
        "max_zoom",
        "min_zoom",
        "scroll_wheel_zoom",
        "tap",
        "tap_tolerance",
        "touch_zoom",
        "world_copy_jump",
        "zoom",
        "zoom_animation_threshold",
        "zoom_control",
        "zoom_start"
       ],
       "south": 57.89149735271034,
       "west": -43.24218750000001,
       "zoom": 3
      }
     },
     "0d82ccfa8bd94055b40eac2bc997e457": {
      "model_module": "jupyter-leaflet",
      "model_module_version": "~0.9.0",
      "model_name": "LeafletMarkerModel",
      "state": {
       "_model_module_version": "~0.9.0",
       "_view_count": null,
       "_view_module_version": "~0.9.0",
       "location": [
        71.285446,
        -156.766003
       ],
       "options": [
        "alt",
        "draggable",
        "keyboard",
        "rise_offset",
        "rise_on_hover",
        "title",
        "z_index_offset"
       ]
      }
     },
     "1023ac16a3c64238a55f08ce98ab233a": {
      "model_module": "@jupyter-widgets/base",
      "model_module_version": "1.0.0",
      "model_name": "LayoutModel",
      "state": {}
     },
     "12574218ba7841a9ae66068cb0466dd6": {
      "model_module": "jupyter-leaflet",
      "model_module_version": "~0.9.0",
      "model_name": "LeafletTileLayerModel",
      "state": {
       "_model_module_version": "~0.9.0",
       "_view_count": null,
       "_view_module_version": "~0.9.0",
       "attribution": "Tiles &copy; Esri &mdash; Source: Esri, DeLorme, NAVTEQ, USGS, Intermap, iPC, NRCAN, Esri Japan, METI, Esri China (Hong Kong), Esri (Thailand), TomTom, 2012",
       "base": true,
       "max_zoom": 20,
       "min_zoom": 1,
       "name": "Esri.WoldStreetMap",
       "options": [
        "attribution",
        "detect_retina",
        "max_zoom",
        "min_zoom",
        "tile_size"
       ],
       "url": "http://server.arcgisonline.com/ArcGIS/rest/services/World_Street_Map/MapServer/tile/{z}/{y}/{x}"
      }
     },
     "135a33bb333f494ba4620a0c9af62e63": {
      "model_module": "jupyter-leaflet",
      "model_module_version": "~0.9.0",
      "model_name": "LeafletMarkerModel",
      "state": {
       "_model_module_version": "~0.9.0",
       "_view_count": null,
       "_view_module_version": "~0.9.0",
       "location": [
        71.285446,
        -156.766003
       ],
       "options": [
        "alt",
        "draggable",
        "keyboard",
        "rise_offset",
        "rise_on_hover",
        "title",
        "z_index_offset"
       ]
      }
     },
     "345ed473238a419991a8f701dc676411": {
      "model_module": "jupyter-leaflet",
      "model_module_version": "~0.9.0",
      "model_name": "LeafletMarkerModel",
      "state": {
       "_model_module_version": "~0.9.0",
       "_view_count": null,
       "_view_module_version": "~0.9.0",
       "location": [
        72.270833,
        42.898333
       ],
       "options": [
        "alt",
        "draggable",
        "keyboard",
        "rise_offset",
        "rise_on_hover",
        "title",
        "z_index_offset"
       ]
      }
     },
     "3bbdbc07caf04cd9a7bf8d18df6ee54e": {
      "model_module": "jupyter-leaflet",
      "model_module_version": "~0.9.0",
      "model_name": "LeafletMarkerModel",
      "state": {
       "_model_module_version": "~0.9.0",
       "_view_count": null,
       "_view_module_version": "~0.9.0",
       "location": [
        72.270833,
        42.898333
       ],
       "options": [
        "alt",
        "draggable",
        "keyboard",
        "rise_offset",
        "rise_on_hover",
        "title",
        "z_index_offset"
       ]
      }
     },
     "445a2add5b7649d3b8cf6d1d67923e6f": {
      "model_module": "jupyter-leaflet",
      "model_module_version": "~0.9.0",
      "model_name": "LeafletMapModel",
      "state": {
       "_dom_classes": [],
       "_model_module_version": "~0.9.0",
       "_view_count": null,
       "_view_module_version": "~0.9.0",
       "basemap": {
        "attribution": "Tiles &copy; Esri &mdash; Source: Esri, DeLorme, NAVTEQ, USGS, Intermap, iPC, NRCAN, Esri Japan, METI, Esri China (Hong Kong), Esri (Thailand), TomTom, 2012",
        "max_zoom": 20,
        "name": "Esri.WoldStreetMap",
        "url": "http://server.arcgisonline.com/ArcGIS/rest/services/World_Street_Map/MapServer/tile/{z}/{y}/{x}"
       },
       "center": [
        71.285446,
        -156.766003
       ],
       "east": -70.48828125000001,
       "interpolation": "bilinear",
       "layers": [
        "IPY_MODEL_a476698035764e1bbf1863b1abfd3f53",
        "IPY_MODEL_0d82ccfa8bd94055b40eac2bc997e457"
       ],
       "layout": "IPY_MODEL_4d8025a3ef33433b92184d5d4e22720e",
       "modisdate": "yesterday",
       "north": 79.81230226556369,
       "options": [
        "attribution_control",
        "basemap",
        "bounce_at_zoom_limits",
        "box_zoom",
        "center",
        "close_popup_on_click",
        "double_click_zoom",
        "dragging",
        "inertia",
        "inertia_deceleration",
        "inertia_max_speed",
        "interpolation",
        "keyboard",
        "keyboard_pan_offset",
        "keyboard_zoom_offset",
        "max_zoom",
        "min_zoom",
        "scroll_wheel_zoom",
        "tap",
        "tap_tolerance",
        "touch_zoom",
        "world_copy_jump",
        "zoom",
        "zoom_animation_threshold",
        "zoom_control",
        "zoom_start"
       ],
       "south": 56.17002298293205,
       "west": -242.92968750000003,
       "zoom": 3
      }
     },
     "46a6cdab22cb4f799d56295bd96ae7c9": {
      "model_module": "@jupyter-widgets/base",
      "model_module_version": "1.0.0",
      "model_name": "LayoutModel",
      "state": {}
     },
     "4789c0659ac94d4baec84e1cffb9da7f": {
      "model_module": "jupyter-leaflet",
      "model_module_version": "~0.9.0",
      "model_name": "LeafletTileLayerModel",
      "state": {
       "_model_module_version": "~0.9.0",
       "_view_count": null,
       "_view_module_version": "~0.9.0",
       "attribution": "Tiles &copy; Esri &mdash; Source: Esri, DeLorme, NAVTEQ, USGS, Intermap, iPC, NRCAN, Esri Japan, METI, Esri China (Hong Kong), Esri (Thailand), TomTom, 2012",
       "base": true,
       "max_zoom": 20,
       "min_zoom": 1,
       "name": "Esri.WoldStreetMap",
       "options": [
        "attribution",
        "detect_retina",
        "max_zoom",
        "min_zoom",
        "tile_size"
       ],
       "url": "http://server.arcgisonline.com/ArcGIS/rest/services/World_Street_Map/MapServer/tile/{z}/{y}/{x}"
      }
     },
     "4d3cdd364a75455b9ef79624d7ba8b78": {
      "model_module": "jupyter-leaflet",
      "model_module_version": "~0.9.0",
      "model_name": "LeafletMapModel",
      "state": {
       "_dom_classes": [],
       "_model_module_version": "~0.9.0",
       "_view_count": null,
       "_view_module_version": "~0.9.0",
       "basemap": {
        "attribution": "Tiles &copy; Esri &mdash; Source: Esri, DeLorme, NAVTEQ, USGS, Intermap, iPC, NRCAN, Esri Japan, METI, Esri China (Hong Kong), Esri (Thailand), TomTom, 2012",
        "max_zoom": 20,
        "name": "Esri.WoldStreetMap",
        "url": "http://server.arcgisonline.com/ArcGIS/rest/services/World_Street_Map/MapServer/tile/{z}/{y}/{x}"
       },
       "center": [
        72.270833,
        42.898333
       ],
       "east": 129.19921875000003,
       "interpolation": "bilinear",
       "layers": [
        "IPY_MODEL_cfb436e8cf914fdbadf0eba596ee9099",
        "IPY_MODEL_fcc762898fec42a8a340f9297a30f8ff"
       ],
       "layout": "IPY_MODEL_d2ef2a5e69c24781803b655b3e91bf20",
       "modisdate": "yesterday",
       "north": 80.35699541661764,
       "options": [
        "attribution_control",
        "basemap",
        "bounce_at_zoom_limits",
        "box_zoom",
        "center",
        "close_popup_on_click",
        "double_click_zoom",
        "dragging",
        "inertia",
        "inertia_deceleration",
        "inertia_max_speed",
        "interpolation",
        "keyboard",
        "keyboard_pan_offset",
        "keyboard_zoom_offset",
        "max_zoom",
        "min_zoom",
        "scroll_wheel_zoom",
        "tap",
        "tap_tolerance",
        "touch_zoom",
        "world_copy_jump",
        "zoom",
        "zoom_animation_threshold",
        "zoom_control",
        "zoom_start"
       ],
       "south": 57.89149735271034,
       "west": -43.24218750000001,
       "zoom": 3
      }
     },
     "4d8025a3ef33433b92184d5d4e22720e": {
      "model_module": "@jupyter-widgets/base",
      "model_module_version": "1.0.0",
      "model_name": "LayoutModel",
      "state": {}
     },
     "52ad73714e944808ad930b2ef549767f": {
      "model_module": "jupyter-leaflet",
      "model_module_version": "~0.9.0",
      "model_name": "LeafletMapModel",
      "state": {
       "_dom_classes": [],
       "_model_module_version": "~0.9.0",
       "_view_count": null,
       "_view_module_version": "~0.9.0",
       "basemap": {
        "attribution": "Tiles &copy; Esri &mdash; Source: Esri, DeLorme, NAVTEQ, USGS, Intermap, iPC, NRCAN, Esri Japan, METI, Esri China (Hong Kong), Esri (Thailand), TomTom, 2012",
        "max_zoom": 20,
        "name": "Esri.WoldStreetMap",
        "url": "http://server.arcgisonline.com/ArcGIS/rest/services/World_Street_Map/MapServer/tile/{z}/{y}/{x}"
       },
       "center": [
        71.285446,
        -156.766003
       ],
       "east": -70.48828125000001,
       "interpolation": "bilinear",
       "layers": [
        "IPY_MODEL_bb713c8987e94136ac81414d89a3575d",
        "IPY_MODEL_135a33bb333f494ba4620a0c9af62e63"
       ],
       "layout": "IPY_MODEL_72486b7df7454a39aa868f628e22e3f3",
       "modisdate": "yesterday",
       "north": 79.81230226556369,
       "options": [
        "attribution_control",
        "basemap",
        "bounce_at_zoom_limits",
        "box_zoom",
        "center",
        "close_popup_on_click",
        "double_click_zoom",
        "dragging",
        "inertia",
        "inertia_deceleration",
        "inertia_max_speed",
        "interpolation",
        "keyboard",
        "keyboard_pan_offset",
        "keyboard_zoom_offset",
        "max_zoom",
        "min_zoom",
        "scroll_wheel_zoom",
        "tap",
        "tap_tolerance",
        "touch_zoom",
        "world_copy_jump",
        "zoom",
        "zoom_animation_threshold",
        "zoom_control",
        "zoom_start"
       ],
       "south": 56.17002298293205,
       "west": -242.92968750000003,
       "zoom": 3
      }
     },
     "5eb8cadfcb3445309e2e9463a9e404df": {
      "model_module": "jupyter-leaflet",
      "model_module_version": "~0.9.0",
      "model_name": "LeafletMapModel",
      "state": {
       "_dom_classes": [],
       "_model_module_version": "~0.9.0",
       "_view_count": null,
       "_view_module_version": "~0.9.0",
       "basemap": {
        "attribution": "Tiles &copy; Esri &mdash; Source: Esri, DeLorme, NAVTEQ, USGS, Intermap, iPC, NRCAN, Esri Japan, METI, Esri China (Hong Kong), Esri (Thailand), TomTom, 2012",
        "max_zoom": 20,
        "name": "Esri.WoldStreetMap",
        "url": "http://server.arcgisonline.com/ArcGIS/rest/services/World_Street_Map/MapServer/tile/{z}/{y}/{x}"
       },
       "center": [
        52.712275,
        174.11362
       ],
       "east": 174.1978454589844,
       "interpolation": "bilinear",
       "layers": [
        "IPY_MODEL_c2a51eabbf604246803cc58bf4f68380",
        "IPY_MODEL_9d868e8489b24646b34e47825ee5ed28"
       ],
       "layout": "IPY_MODEL_972acfa2624a43428d55c80391c21635",
       "modisdate": "yesterday",
       "north": 52.733069449865006,
       "options": [
        "attribution_control",
        "basemap",
        "bounce_at_zoom_limits",
        "box_zoom",
        "center",
        "close_popup_on_click",
        "double_click_zoom",
        "dragging",
        "inertia",
        "inertia_deceleration",
        "inertia_max_speed",
        "interpolation",
        "keyboard",
        "keyboard_pan_offset",
        "keyboard_zoom_offset",
        "max_zoom",
        "min_zoom",
        "scroll_wheel_zoom",
        "tap",
        "tap_tolerance",
        "touch_zoom",
        "world_copy_jump",
        "zoom",
        "zoom_animation_threshold",
        "zoom_control",
        "zoom_start"
       ],
       "south": 52.69147123108014,
       "west": 174.0294456481934,
       "zoom": 13
      }
     },
     "60c454852c9741b3b28afdf9bf384d14": {
      "model_module": "jupyter-leaflet",
      "model_module_version": "~0.9.0",
      "model_name": "LeafletMapModel",
      "state": {
       "_dom_classes": [],
       "_model_module_version": "~0.9.0",
       "_view_count": null,
       "_view_module_version": "~0.9.0",
       "basemap": {
        "attribution": "Tiles &copy; Esri &mdash; Source: Esri, DeLorme, NAVTEQ, USGS, Intermap, iPC, NRCAN, Esri Japan, METI, Esri China (Hong Kong), Esri (Thailand), TomTom, 2012",
        "max_zoom": 20,
        "name": "Esri.WoldStreetMap",
        "url": "http://server.arcgisonline.com/ArcGIS/rest/services/World_Street_Map/MapServer/tile/{z}/{y}/{x}"
       },
       "center": [
        72.270833,
        42.898333
       ],
       "east": 129.19921875000003,
       "interpolation": "bilinear",
       "layers": [
        "IPY_MODEL_7fd1c1c2b00a48628b380ad4e422bc62",
        "IPY_MODEL_f6d233c501574a879d1409dcbe275be6"
       ],
       "layout": "IPY_MODEL_1023ac16a3c64238a55f08ce98ab233a",
       "modisdate": "yesterday",
       "north": 80.35699541661764,
       "options": [
        "attribution_control",
        "basemap",
        "bounce_at_zoom_limits",
        "box_zoom",
        "center",
        "close_popup_on_click",
        "double_click_zoom",
        "dragging",
        "inertia",
        "inertia_deceleration",
        "inertia_max_speed",
        "interpolation",
        "keyboard",
        "keyboard_pan_offset",
        "keyboard_zoom_offset",
        "max_zoom",
        "min_zoom",
        "scroll_wheel_zoom",
        "tap",
        "tap_tolerance",
        "touch_zoom",
        "world_copy_jump",
        "zoom",
        "zoom_animation_threshold",
        "zoom_control",
        "zoom_start"
       ],
       "south": 57.89149735271034,
       "west": -43.24218750000001,
       "zoom": 3
      }
     },
     "62f870f4a3ed42a39eeb57e994b77775": {
      "model_module": "jupyter-leaflet",
      "model_module_version": "~0.9.0",
      "model_name": "LeafletTileLayerModel",
      "state": {
       "_model_module_version": "~0.9.0",
       "_view_count": null,
       "_view_module_version": "~0.9.0",
       "attribution": "Tiles &copy; Esri &mdash; Source: Esri, DeLorme, NAVTEQ, USGS, Intermap, iPC, NRCAN, Esri Japan, METI, Esri China (Hong Kong), Esri (Thailand), TomTom, 2012",
       "base": true,
       "max_zoom": 20,
       "min_zoom": 1,
       "name": "Esri.WoldStreetMap",
       "options": [
        "attribution",
        "detect_retina",
        "max_zoom",
        "min_zoom",
        "tile_size"
       ],
       "url": "http://server.arcgisonline.com/ArcGIS/rest/services/World_Street_Map/MapServer/tile/{z}/{y}/{x}"
      }
     },
     "6dfbb58c893b4bf19a0de4a952f99077": {
      "model_module": "jupyter-leaflet",
      "model_module_version": "~0.9.0",
      "model_name": "LeafletMarkerModel",
      "state": {
       "_model_module_version": "~0.9.0",
       "_view_count": null,
       "_view_module_version": "~0.9.0",
       "location": [
        72.270833,
        42.898333
       ],
       "options": [
        "alt",
        "draggable",
        "keyboard",
        "rise_offset",
        "rise_on_hover",
        "title",
        "z_index_offset"
       ]
      }
     },
     "6e0a9fdd2f6c4872a09abae4efb65f37": {
      "model_module": "jupyter-leaflet",
      "model_module_version": "~0.9.0",
      "model_name": "LeafletMapModel",
      "state": {
       "_dom_classes": [],
       "_model_module_version": "~0.9.0",
       "_view_count": null,
       "_view_module_version": "~0.9.0",
       "basemap": {
        "attribution": "Tiles &copy; Esri &mdash; Source: Esri, DeLorme, NAVTEQ, USGS, Intermap, iPC, NRCAN, Esri Japan, METI, Esri China (Hong Kong), Esri (Thailand), TomTom, 2012",
        "max_zoom": 20,
        "name": "Esri.WoldStreetMap",
        "url": "http://server.arcgisonline.com/ArcGIS/rest/services/World_Street_Map/MapServer/tile/{z}/{y}/{x}"
       },
       "center": [
        72.270833,
        42.898333
       ],
       "east": 129.19921875000003,
       "interpolation": "bilinear",
       "layers": [
        "IPY_MODEL_f73b6da69e284cfb9e44c204ce3a2a9a",
        "IPY_MODEL_6dfbb58c893b4bf19a0de4a952f99077"
       ],
       "layout": "IPY_MODEL_75e7045d2e0c4924aa18b6a6b8fe3038",
       "modisdate": "yesterday",
       "north": 80.35699541661764,
       "options": [
        "attribution_control",
        "basemap",
        "bounce_at_zoom_limits",
        "box_zoom",
        "center",
        "close_popup_on_click",
        "double_click_zoom",
        "dragging",
        "inertia",
        "inertia_deceleration",
        "inertia_max_speed",
        "interpolation",
        "keyboard",
        "keyboard_pan_offset",
        "keyboard_zoom_offset",
        "max_zoom",
        "min_zoom",
        "scroll_wheel_zoom",
        "tap",
        "tap_tolerance",
        "touch_zoom",
        "world_copy_jump",
        "zoom",
        "zoom_animation_threshold",
        "zoom_control",
        "zoom_start"
       ],
       "south": 57.89149735271034,
       "west": -43.24218750000001,
       "zoom": 3
      }
     },
     "7043a7ac01164ea5a11ee3cb7c6205f0": {
      "model_module": "jupyter-leaflet",
      "model_module_version": "~0.9.0",
      "model_name": "LeafletMapModel",
      "state": {
       "_dom_classes": [],
       "_model_module_version": "~0.9.0",
       "_view_count": null,
       "_view_module_version": "~0.9.0",
       "basemap": {
        "attribution": "Tiles &copy; Esri &mdash; Source: Esri, DeLorme, NAVTEQ, USGS, Intermap, iPC, NRCAN, Esri Japan, METI, Esri China (Hong Kong), Esri (Thailand), TomTom, 2012",
        "max_zoom": 20,
        "name": "Esri.WoldStreetMap",
        "url": "http://server.arcgisonline.com/ArcGIS/rest/services/World_Street_Map/MapServer/tile/{z}/{y}/{x}"
       },
       "center": [
        72.270833,
        42.898333
       ],
       "east": 129.19921875000003,
       "interpolation": "bilinear",
       "layers": [
        "IPY_MODEL_62f870f4a3ed42a39eeb57e994b77775",
        "IPY_MODEL_345ed473238a419991a8f701dc676411"
       ],
       "layout": "IPY_MODEL_8066bb867d1c47bcb8c6887230dea6d4",
       "modisdate": "yesterday",
       "north": 80.35699541661764,
       "options": [
        "attribution_control",
        "basemap",
        "bounce_at_zoom_limits",
        "box_zoom",
        "center",
        "close_popup_on_click",
        "double_click_zoom",
        "dragging",
        "inertia",
        "inertia_deceleration",
        "inertia_max_speed",
        "interpolation",
        "keyboard",
        "keyboard_pan_offset",
        "keyboard_zoom_offset",
        "max_zoom",
        "min_zoom",
        "scroll_wheel_zoom",
        "tap",
        "tap_tolerance",
        "touch_zoom",
        "world_copy_jump",
        "zoom",
        "zoom_animation_threshold",
        "zoom_control",
        "zoom_start"
       ],
       "south": 57.89149735271034,
       "west": -43.24218750000001,
       "zoom": 3
      }
     },
     "72486b7df7454a39aa868f628e22e3f3": {
      "model_module": "@jupyter-widgets/base",
      "model_module_version": "1.0.0",
      "model_name": "LayoutModel",
      "state": {}
     },
     "75e7045d2e0c4924aa18b6a6b8fe3038": {
      "model_module": "@jupyter-widgets/base",
      "model_module_version": "1.0.0",
      "model_name": "LayoutModel",
      "state": {}
     },
     "7fd1c1c2b00a48628b380ad4e422bc62": {
      "model_module": "jupyter-leaflet",
      "model_module_version": "~0.9.0",
      "model_name": "LeafletTileLayerModel",
      "state": {
       "_model_module_version": "~0.9.0",
       "_view_count": null,
       "_view_module_version": "~0.9.0",
       "attribution": "Tiles &copy; Esri &mdash; Source: Esri, DeLorme, NAVTEQ, USGS, Intermap, iPC, NRCAN, Esri Japan, METI, Esri China (Hong Kong), Esri (Thailand), TomTom, 2012",
       "base": true,
       "max_zoom": 20,
       "min_zoom": 1,
       "name": "Esri.WoldStreetMap",
       "options": [
        "attribution",
        "detect_retina",
        "max_zoom",
        "min_zoom",
        "tile_size"
       ],
       "url": "http://server.arcgisonline.com/ArcGIS/rest/services/World_Street_Map/MapServer/tile/{z}/{y}/{x}"
      }
     },
     "8066bb867d1c47bcb8c6887230dea6d4": {
      "model_module": "@jupyter-widgets/base",
      "model_module_version": "1.0.0",
      "model_name": "LayoutModel",
      "state": {}
     },
     "8102f56cce064467b430f57965f75758": {
      "model_module": "@jupyter-widgets/base",
      "model_module_version": "1.0.0",
      "model_name": "LayoutModel",
      "state": {}
     },
     "8a59d4fd17c24f1aacc54eaab1739059": {
      "model_module": "jupyter-leaflet",
      "model_module_version": "~0.9.0",
      "model_name": "LeafletTileLayerModel",
      "state": {
       "_model_module_version": "~0.9.0",
       "_view_count": null,
       "_view_module_version": "~0.9.0",
       "attribution": "Tiles &copy; Esri &mdash; Source: Esri, DeLorme, NAVTEQ, USGS, Intermap, iPC, NRCAN, Esri Japan, METI, Esri China (Hong Kong), Esri (Thailand), TomTom, 2012",
       "base": true,
       "max_zoom": 20,
       "min_zoom": 1,
       "name": "Esri.WoldStreetMap",
       "options": [
        "attribution",
        "detect_retina",
        "max_zoom",
        "min_zoom",
        "tile_size"
       ],
       "url": "http://server.arcgisonline.com/ArcGIS/rest/services/World_Street_Map/MapServer/tile/{z}/{y}/{x}"
      }
     },
     "8b015c399b37477da298cac62f0468b3": {
      "model_module": "jupyter-leaflet",
      "model_module_version": "~0.9.0",
      "model_name": "LeafletMarkerModel",
      "state": {
       "_model_module_version": "~0.9.0",
       "_view_count": null,
       "_view_module_version": "~0.9.0",
       "location": [
        72.270833,
        42.898333
       ],
       "options": [
        "alt",
        "draggable",
        "keyboard",
        "rise_offset",
        "rise_on_hover",
        "title",
        "z_index_offset"
       ]
      }
     },
     "972acfa2624a43428d55c80391c21635": {
      "model_module": "@jupyter-widgets/base",
      "model_module_version": "1.0.0",
      "model_name": "LayoutModel",
      "state": {}
     },
     "9ac0bddcb26848d98cf5d338b6e3a294": {
      "model_module": "jupyter-leaflet",
      "model_module_version": "~0.9.0",
      "model_name": "LeafletMarkerModel",
      "state": {
       "_model_module_version": "~0.9.0",
       "_view_count": null,
       "_view_module_version": "~0.9.0",
       "location": [
        72.270833,
        42.898333
       ],
       "options": [
        "alt",
        "draggable",
        "keyboard",
        "rise_offset",
        "rise_on_hover",
        "title",
        "z_index_offset"
       ]
      }
     },
     "9d868e8489b24646b34e47825ee5ed28": {
      "model_module": "jupyter-leaflet",
      "model_module_version": "~0.9.0",
      "model_name": "LeafletMarkerModel",
      "state": {
       "_model_module_version": "~0.9.0",
       "_view_count": null,
       "_view_module_version": "~0.9.0",
       "location": [
        52.712275,
        174.11362
       ],
       "options": [
        "alt",
        "draggable",
        "keyboard",
        "rise_offset",
        "rise_on_hover",
        "title",
        "z_index_offset"
       ]
      }
     },
     "a476698035764e1bbf1863b1abfd3f53": {
      "model_module": "jupyter-leaflet",
      "model_module_version": "~0.9.0",
      "model_name": "LeafletTileLayerModel",
      "state": {
       "_model_module_version": "~0.9.0",
       "_view_count": null,
       "_view_module_version": "~0.9.0",
       "attribution": "Tiles &copy; Esri &mdash; Source: Esri, DeLorme, NAVTEQ, USGS, Intermap, iPC, NRCAN, Esri Japan, METI, Esri China (Hong Kong), Esri (Thailand), TomTom, 2012",
       "base": true,
       "max_zoom": 20,
       "min_zoom": 1,
       "name": "Esri.WoldStreetMap",
       "options": [
        "attribution",
        "detect_retina",
        "max_zoom",
        "min_zoom",
        "tile_size"
       ],
       "url": "http://server.arcgisonline.com/ArcGIS/rest/services/World_Street_Map/MapServer/tile/{z}/{y}/{x}"
      }
     },
     "bb713c8987e94136ac81414d89a3575d": {
      "model_module": "jupyter-leaflet",
      "model_module_version": "~0.9.0",
      "model_name": "LeafletTileLayerModel",
      "state": {
       "_model_module_version": "~0.9.0",
       "_view_count": null,
       "_view_module_version": "~0.9.0",
       "attribution": "Tiles &copy; Esri &mdash; Source: Esri, DeLorme, NAVTEQ, USGS, Intermap, iPC, NRCAN, Esri Japan, METI, Esri China (Hong Kong), Esri (Thailand), TomTom, 2012",
       "base": true,
       "max_zoom": 20,
       "min_zoom": 1,
       "name": "Esri.WoldStreetMap",
       "options": [
        "attribution",
        "detect_retina",
        "max_zoom",
        "min_zoom",
        "tile_size"
       ],
       "url": "http://server.arcgisonline.com/ArcGIS/rest/services/World_Street_Map/MapServer/tile/{z}/{y}/{x}"
      }
     },
     "bf50431c9f5a4f4e98d176fdbb3638d6": {
      "model_module": "jupyter-leaflet",
      "model_module_version": "~0.9.0",
      "model_name": "LeafletMapModel",
      "state": {
       "_dom_classes": [],
       "_model_module_version": "~0.9.0",
       "_view_count": null,
       "_view_module_version": "~0.9.0",
       "basemap": {
        "attribution": "Tiles &copy; Esri &mdash; Source: Esri, DeLorme, NAVTEQ, USGS, Intermap, iPC, NRCAN, Esri Japan, METI, Esri China (Hong Kong), Esri (Thailand), TomTom, 2012",
        "max_zoom": 20,
        "name": "Esri.WoldStreetMap",
        "url": "http://server.arcgisonline.com/ArcGIS/rest/services/World_Street_Map/MapServer/tile/{z}/{y}/{x}"
       },
       "center": [
        72.270833,
        42.898333
       ],
       "east": 129.19921875000003,
       "interpolation": "bilinear",
       "layers": [
        "IPY_MODEL_8a59d4fd17c24f1aacc54eaab1739059",
        "IPY_MODEL_3bbdbc07caf04cd9a7bf8d18df6ee54e"
       ],
       "layout": "IPY_MODEL_8102f56cce064467b430f57965f75758",
       "modisdate": "yesterday",
       "north": 80.35699541661764,
       "options": [
        "attribution_control",
        "basemap",
        "bounce_at_zoom_limits",
        "box_zoom",
        "center",
        "close_popup_on_click",
        "double_click_zoom",
        "dragging",
        "inertia",
        "inertia_deceleration",
        "inertia_max_speed",
        "interpolation",
        "keyboard",
        "keyboard_pan_offset",
        "keyboard_zoom_offset",
        "max_zoom",
        "min_zoom",
        "scroll_wheel_zoom",
        "tap",
        "tap_tolerance",
        "touch_zoom",
        "world_copy_jump",
        "zoom",
        "zoom_animation_threshold",
        "zoom_control",
        "zoom_start"
       ],
       "south": 57.89149735271034,
       "west": -43.24218750000001,
       "zoom": 3
      }
     },
     "c028296ef9014058bc9dea2eb1a78f3e": {
      "model_module": "jupyter-leaflet",
      "model_module_version": "~0.9.0",
      "model_name": "LeafletTileLayerModel",
      "state": {
       "_model_module_version": "~0.9.0",
       "_view_count": null,
       "_view_module_version": "~0.9.0",
       "attribution": "Tiles &copy; Esri &mdash; Source: Esri, DeLorme, NAVTEQ, USGS, Intermap, iPC, NRCAN, Esri Japan, METI, Esri China (Hong Kong), Esri (Thailand), TomTom, 2012",
       "base": true,
       "max_zoom": 20,
       "min_zoom": 1,
       "name": "Esri.WoldStreetMap",
       "options": [
        "attribution",
        "detect_retina",
        "max_zoom",
        "min_zoom",
        "tile_size"
       ],
       "url": "http://server.arcgisonline.com/ArcGIS/rest/services/World_Street_Map/MapServer/tile/{z}/{y}/{x}"
      }
     },
     "c2a51eabbf604246803cc58bf4f68380": {
      "model_module": "jupyter-leaflet",
      "model_module_version": "~0.9.0",
      "model_name": "LeafletTileLayerModel",
      "state": {
       "_model_module_version": "~0.9.0",
       "_view_count": null,
       "_view_module_version": "~0.9.0",
       "attribution": "Tiles &copy; Esri &mdash; Source: Esri, DeLorme, NAVTEQ, USGS, Intermap, iPC, NRCAN, Esri Japan, METI, Esri China (Hong Kong), Esri (Thailand), TomTom, 2012",
       "base": true,
       "max_zoom": 20,
       "min_zoom": 1,
       "name": "Esri.WoldStreetMap",
       "options": [
        "attribution",
        "detect_retina",
        "max_zoom",
        "min_zoom",
        "tile_size"
       ],
       "url": "http://server.arcgisonline.com/ArcGIS/rest/services/World_Street_Map/MapServer/tile/{z}/{y}/{x}"
      }
     },
     "c8d83886622b4b4ba722c1b2b5a30b40": {
      "model_module": "jupyter-leaflet",
      "model_module_version": "~0.9.0",
      "model_name": "LeafletMapModel",
      "state": {
       "_dom_classes": [],
       "_model_module_version": "~0.9.0",
       "_view_count": null,
       "_view_module_version": "~0.9.0",
       "basemap": {
        "attribution": "Tiles &copy; Esri &mdash; Source: Esri, DeLorme, NAVTEQ, USGS, Intermap, iPC, NRCAN, Esri Japan, METI, Esri China (Hong Kong), Esri (Thailand), TomTom, 2012",
        "max_zoom": 20,
        "name": "Esri.WoldStreetMap",
        "url": "http://server.arcgisonline.com/ArcGIS/rest/services/World_Street_Map/MapServer/tile/{z}/{y}/{x}"
       },
       "center": [
        72.270833,
        42.898333
       ],
       "interpolation": "bilinear",
       "layers": [
        "IPY_MODEL_c028296ef9014058bc9dea2eb1a78f3e",
        "IPY_MODEL_9ac0bddcb26848d98cf5d338b6e3a294"
       ],
       "layout": "IPY_MODEL_f62a7f76decb4507a08cf3bb3acb6ac1",
       "modisdate": "yesterday",
       "options": [
        "attribution_control",
        "basemap",
        "bounce_at_zoom_limits",
        "box_zoom",
        "center",
        "close_popup_on_click",
        "double_click_zoom",
        "dragging",
        "inertia",
        "inertia_deceleration",
        "inertia_max_speed",
        "interpolation",
        "keyboard",
        "keyboard_pan_offset",
        "keyboard_zoom_offset",
        "max_zoom",
        "min_zoom",
        "scroll_wheel_zoom",
        "tap",
        "tap_tolerance",
        "touch_zoom",
        "world_copy_jump",
        "zoom",
        "zoom_animation_threshold",
        "zoom_control",
        "zoom_start"
       ],
       "zoom": 3
      }
     },
     "cfb436e8cf914fdbadf0eba596ee9099": {
      "model_module": "jupyter-leaflet",
      "model_module_version": "~0.9.0",
      "model_name": "LeafletTileLayerModel",
      "state": {
       "_model_module_version": "~0.9.0",
       "_view_count": null,
       "_view_module_version": "~0.9.0",
       "attribution": "Tiles &copy; Esri &mdash; Source: Esri, DeLorme, NAVTEQ, USGS, Intermap, iPC, NRCAN, Esri Japan, METI, Esri China (Hong Kong), Esri (Thailand), TomTom, 2012",
       "base": true,
       "max_zoom": 20,
       "min_zoom": 1,
       "name": "Esri.WoldStreetMap",
       "options": [
        "attribution",
        "detect_retina",
        "max_zoom",
        "min_zoom",
        "tile_size"
       ],
       "url": "http://server.arcgisonline.com/ArcGIS/rest/services/World_Street_Map/MapServer/tile/{z}/{y}/{x}"
      }
     },
     "d2ef2a5e69c24781803b655b3e91bf20": {
      "model_module": "@jupyter-widgets/base",
      "model_module_version": "1.0.0",
      "model_name": "LayoutModel",
      "state": {}
     },
     "d7328968b1584c0ca174c7023a6a3ea2": {
      "model_module": "jupyter-leaflet",
      "model_module_version": "~0.9.0",
      "model_name": "LeafletMarkerModel",
      "state": {
       "_model_module_version": "~0.9.0",
       "_view_count": null,
       "_view_module_version": "~0.9.0",
       "location": [
        72.270833,
        42.898333
       ],
       "options": [
        "alt",
        "draggable",
        "keyboard",
        "rise_offset",
        "rise_on_hover",
        "title",
        "z_index_offset"
       ]
      }
     },
     "ebc1a6d176ac4aee8ea18c50ed68daf9": {
      "model_module": "jupyter-leaflet",
      "model_module_version": "~0.9.0",
      "model_name": "LeafletMapModel",
      "state": {
       "_dom_classes": [],
       "_model_module_version": "~0.9.0",
       "_view_count": null,
       "_view_module_version": "~0.9.0",
       "basemap": {
        "attribution": "Tiles &copy; Esri &mdash; Source: Esri, DeLorme, NAVTEQ, USGS, Intermap, iPC, NRCAN, Esri Japan, METI, Esri China (Hong Kong), Esri (Thailand), TomTom, 2012",
        "max_zoom": 20,
        "name": "Esri.WoldStreetMap",
        "url": "http://server.arcgisonline.com/ArcGIS/rest/services/World_Street_Map/MapServer/tile/{z}/{y}/{x}"
       },
       "center": [
        72.270833,
        42.898333
       ],
       "interpolation": "bilinear",
       "layers": [
        "IPY_MODEL_12574218ba7841a9ae66068cb0466dd6",
        "IPY_MODEL_d7328968b1584c0ca174c7023a6a3ea2"
       ],
       "layout": "IPY_MODEL_ee00f773f45a4be79ed95362f2adf5a3",
       "modisdate": "yesterday",
       "options": [
        "attribution_control",
        "basemap",
        "bounce_at_zoom_limits",
        "box_zoom",
        "center",
        "close_popup_on_click",
        "double_click_zoom",
        "dragging",
        "inertia",
        "inertia_deceleration",
        "inertia_max_speed",
        "interpolation",
        "keyboard",
        "keyboard_pan_offset",
        "keyboard_zoom_offset",
        "max_zoom",
        "min_zoom",
        "scroll_wheel_zoom",
        "tap",
        "tap_tolerance",
        "touch_zoom",
        "world_copy_jump",
        "zoom",
        "zoom_animation_threshold",
        "zoom_control",
        "zoom_start"
       ],
       "zoom": 3
      }
     },
     "ee00f773f45a4be79ed95362f2adf5a3": {
      "model_module": "@jupyter-widgets/base",
      "model_module_version": "1.0.0",
      "model_name": "LayoutModel",
      "state": {}
     },
     "f62a7f76decb4507a08cf3bb3acb6ac1": {
      "model_module": "@jupyter-widgets/base",
      "model_module_version": "1.0.0",
      "model_name": "LayoutModel",
      "state": {}
     },
     "f6d233c501574a879d1409dcbe275be6": {
      "model_module": "jupyter-leaflet",
      "model_module_version": "~0.9.0",
      "model_name": "LeafletMarkerModel",
      "state": {
       "_model_module_version": "~0.9.0",
       "_view_count": null,
       "_view_module_version": "~0.9.0",
       "location": [
        72.270833,
        42.898333
       ],
       "options": [
        "alt",
        "draggable",
        "keyboard",
        "rise_offset",
        "rise_on_hover",
        "title",
        "z_index_offset"
       ]
      }
     },
     "f73b6da69e284cfb9e44c204ce3a2a9a": {
      "model_module": "jupyter-leaflet",
      "model_module_version": "~0.9.0",
      "model_name": "LeafletTileLayerModel",
      "state": {
       "_model_module_version": "~0.9.0",
       "_view_count": null,
       "_view_module_version": "~0.9.0",
       "attribution": "Tiles &copy; Esri &mdash; Source: Esri, DeLorme, NAVTEQ, USGS, Intermap, iPC, NRCAN, Esri Japan, METI, Esri China (Hong Kong), Esri (Thailand), TomTom, 2012",
       "base": true,
       "max_zoom": 20,
       "min_zoom": 1,
       "name": "Esri.WoldStreetMap",
       "options": [
        "attribution",
        "detect_retina",
        "max_zoom",
        "min_zoom",
        "tile_size"
       ],
       "url": "http://server.arcgisonline.com/ArcGIS/rest/services/World_Street_Map/MapServer/tile/{z}/{y}/{x}"
      }
     },
     "fcc762898fec42a8a340f9297a30f8ff": {
      "model_module": "jupyter-leaflet",
      "model_module_version": "~0.9.0",
      "model_name": "LeafletMarkerModel",
      "state": {
       "_model_module_version": "~0.9.0",
       "_view_count": null,
       "_view_module_version": "~0.9.0",
       "location": [
        72.270833,
        42.898333
       ],
       "options": [
        "alt",
        "draggable",
        "keyboard",
        "rise_offset",
        "rise_on_hover",
        "title",
        "z_index_offset"
       ]
      }
     }
    },
    "version_major": 2,
    "version_minor": 0
   }
  }
 },
 "nbformat": 4,
 "nbformat_minor": 2
}
