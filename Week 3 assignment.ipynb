{
 "cells": [
  {
   "cell_type": "markdown",
   "metadata": {},
   "source": [
    "# Week Three Assignment\n",
    "                      \n",
    "            "
   ]
  },
  {
   "cell_type": "markdown",
   "metadata": {},
   "source": [
    "Suppose you have ridden a bicycle from New York City to Key West, Florida.  Your bicycle odometer shows the total miles, which you have dutifully logged at the end of each day with paper and pencil.  Your first two entries might be 55 and 120, indicating that you rode your bike 55 miles on day 1 and 65 miles on day 2.  Your task is to create a pandas Series object that holds the cumulative miles at the end of each day, then use your Python skills to show the total miles that you rode each day. \n",
    "\n",
    "For this assignment I determined the total miles of the journey and then the total amount of miles I would travel each day in order to calculate the amount of days for the journey. Then the total amount traveled was logged each day in a python dictionary. A series was then created out of this dictionary. Finally, a daily log of miles traveled for each day was created using a for loop."
   ]
  },
  {
   "cell_type": "code",
   "execution_count": 7,
   "metadata": {},
   "outputs": [],
   "source": [
    "import pandas as pd \n",
    "import numpy as np"
   ]
  },
  {
   "cell_type": "code",
   "execution_count": 25,
   "metadata": {},
   "outputs": [
    {
     "name": "stdout",
     "output_type": "stream",
     "text": [
      "The days needed for this trip: 16\n"
     ]
    }
   ],
   "source": [
    "days = (1600/100) # 1600 miles trip total divided by 100 miles per day\n",
    "print ('The days needed for this trip: ' + str(int(days)))"
   ]
  },
  {
   "cell_type": "code",
   "execution_count": 3,
   "metadata": {},
   "outputs": [],
   "source": [
    "odometer = {} # Starting with empty dictionary"
   ]
  },
  {
   "cell_type": "markdown",
   "metadata": {},
   "source": [
    "## Travel Log of Total Miles Daily"
   ]
  },
  {
   "cell_type": "code",
   "execution_count": 4,
   "metadata": {},
   "outputs": [],
   "source": [
    "odometer[1] = 100\n",
    "odometer[2] = 200\n",
    "odometer[3] = 300\n",
    "odometer[4] = 400\n",
    "odometer[5] = 500\n",
    "odometer[6] = 600\n",
    "odometer[7] = 700\n",
    "odometer[8] = 800\n",
    "odometer[9] = 900\n",
    "odometer[10] = 1000\n",
    "odometer[11] = 1100\n",
    "odometer[12] = 1200\n",
    "odometer[13] = 1300\n",
    "odometer[14] = 1400\n",
    "odometer[15] = 1500\n",
    "odometer[16] = 1600\n",
    "   \n",
    "  \n",
    "    "
   ]
  },
  {
   "cell_type": "markdown",
   "metadata": {},
   "source": [
    "## Creation of Series "
   ]
  },
  {
   "cell_type": "code",
   "execution_count": 18,
   "metadata": {},
   "outputs": [
    {
     "data": {
      "text/plain": [
       "1      100\n",
       "2      200\n",
       "3      300\n",
       "4      400\n",
       "5      500\n",
       "6      600\n",
       "7      700\n",
       "8      800\n",
       "9      900\n",
       "10    1000\n",
       "11    1100\n",
       "12    1200\n",
       "13    1300\n",
       "14    1400\n",
       "15    1500\n",
       "16    1600\n",
       "dtype: int64"
      ]
     },
     "execution_count": 18,
     "metadata": {},
     "output_type": "execute_result"
    }
   ],
   "source": [
    "odom = pd.Series(odometer)\n",
    "odom"
   ]
  },
  {
   "cell_type": "markdown",
   "metadata": {},
   "source": [
    "## Creation of Log for Amount Rode Daily"
   ]
  },
  {
   "cell_type": "code",
   "execution_count": 19,
   "metadata": {},
   "outputs": [
    {
     "name": "stdout",
     "output_type": "stream",
     "text": [
      "Day 1: 100 miles\n",
      "Day 2: 100 miles\n",
      "Day 3: 100 miles\n",
      "Day 4: 100 miles\n",
      "Day 5: 100 miles\n",
      "Day 6: 100 miles\n",
      "Day 7: 100 miles\n",
      "Day 8: 100 miles\n",
      "Day 9: 100 miles\n",
      "Day 10: 100 miles\n",
      "Day 11: 100 miles\n",
      "Day 12: 100 miles\n",
      "Day 13: 100 miles\n",
      "Day 14: 100 miles\n",
      "Day 15: 100 miles\n",
      "Day 16: 100 miles\n"
     ]
    }
   ],
   "source": [
    "daily = {}\n",
    "prior = 0\n",
    "\n",
    "for day, odo_miles in odometer.items():\n",
    "    present_miles = odo_miles - prior\n",
    "    daily[day] = present_miles\n",
    "    print('Day ' + str(day) + ': ' + str(present_miles) + ' miles')\n",
    "    prior = odo_miles"
   ]
  }
 ],
 "metadata": {
  "kernelspec": {
   "display_name": "Python 3",
   "language": "python",
   "name": "python3"
  },
  "language_info": {
   "codemirror_mode": {
    "name": "ipython",
    "version": 3
   },
   "file_extension": ".py",
   "mimetype": "text/x-python",
   "name": "python",
   "nbconvert_exporter": "python",
   "pygments_lexer": "ipython3",
   "version": "3.6.5"
  }
 },
 "nbformat": 4,
 "nbformat_minor": 2
}
