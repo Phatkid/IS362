{
 "cells": [
  {
   "cell_type": "markdown",
   "metadata": {},
   "source": [
    "# FBI Crime Statistics"
   ]
  },
  {
   "cell_type": "markdown",
   "metadata": {},
   "source": [
    "## Imports and settings"
   ]
  },
  {
   "cell_type": "code",
   "execution_count": 3,
   "metadata": {},
   "outputs": [],
   "source": [
    "% matplotlib inline\n",
    "import pandas as pd\n",
    "import numpy as np\n",
    "import matplotlib.pyplot as plt\n",
    "pd.set_option('display.max_columns', 50)\n",
    "pd.set_option('display.max_rows', 1000)"
   ]
  },
  {
   "cell_type": "code",
   "execution_count": 4,
   "metadata": {},
   "outputs": [],
   "source": [
    "df = pd.read_excel(\"/Data.xls\", header=[3]) # cleans data"
   ]
  },
  {
   "cell_type": "code",
   "execution_count": 5,
   "metadata": {},
   "outputs": [
    {
     "data": {
      "text/plain": [
       "(20, 22)"
      ]
     },
     "execution_count": 5,
     "metadata": {},
     "output_type": "execute_result"
    }
   ],
   "source": [
    "df1 = df.drop(df.index[20:]) # drops rows 20 and greater to tidy data.\n",
    "df1.shape # Checks tidying of data should be 20 rows and 22 columns"
   ]
  },
  {
   "cell_type": "markdown",
   "metadata": {},
   "source": [
    "## View columns to determine columns to be used in analysis"
   ]
  },
  {
   "cell_type": "code",
   "execution_count": 6,
   "metadata": {},
   "outputs": [
    {
     "data": {
      "text/plain": [
       "Index(['Year', 'Population1', 'Violent\\ncrime2', 'Violent \\ncrime \\nrate ',\n",
       "       'Murder and\\nnonnegligent \\nmanslaughter',\n",
       "       'Murder and \\nnonnegligent \\nmanslaughter \\nrate ',\n",
       "       'Rape\\n(revised \\ndefinition3)', 'Rape\\n(revised \\ndefinition) \\nrate3',\n",
       "       'Rape\\n(legacy \\ndefinition4)', 'Rape\\n(legacy \\ndefinition) \\nrate4',\n",
       "       'Robbery', 'Robbery \\nrate ', 'Aggravated \\nassault',\n",
       "       'Aggravated \\nassault rate ', 'Property \\ncrime',\n",
       "       'Property \\ncrime \\nrate ', 'Burglary', 'Burglary \\nrate ',\n",
       "       'Larceny-\\ntheft', 'Larceny-\\ntheft rate ', 'Motor \\nvehicle \\ntheft',\n",
       "       'Motor \\nvehicle \\ntheft \\nrate '],\n",
       "      dtype='object')"
      ]
     },
     "execution_count": 6,
     "metadata": {},
     "output_type": "execute_result"
    }
   ],
   "source": [
    "df1.columns"
   ]
  },
  {
   "cell_type": "markdown",
   "metadata": {},
   "source": [
    "### The subject of the data analysis will be overall violent crime rate for all years where data is available\n",
    "\n",
    "The columns that will remain in our new \"data\" dataframe will be Year, Population1, Violent crime2, and Violent crime rate."
   ]
  },
  {
   "cell_type": "code",
   "execution_count": 7,
   "metadata": {},
   "outputs": [
    {
     "data": {
      "text/html": [
       "<div>\n",
       "<style scoped>\n",
       "    .dataframe tbody tr th:only-of-type {\n",
       "        vertical-align: middle;\n",
       "    }\n",
       "\n",
       "    .dataframe tbody tr th {\n",
       "        vertical-align: top;\n",
       "    }\n",
       "\n",
       "    .dataframe thead th {\n",
       "        text-align: right;\n",
       "    }\n",
       "</style>\n",
       "<table border=\"1\" class=\"dataframe\">\n",
       "  <thead>\n",
       "    <tr style=\"text-align: right;\">\n",
       "      <th></th>\n",
       "      <th>Year</th>\n",
       "      <th>Population1</th>\n",
       "      <th>Violent\n",
       "crime2</th>\n",
       "      <th>Violent \n",
       "crime \n",
       "rate</th>\n",
       "    </tr>\n",
       "  </thead>\n",
       "  <tbody>\n",
       "    <tr>\n",
       "      <th>0</th>\n",
       "      <td>1997</td>\n",
       "      <td>267783607.0</td>\n",
       "      <td>1636096.0</td>\n",
       "      <td>611</td>\n",
       "    </tr>\n",
       "    <tr>\n",
       "      <th>1</th>\n",
       "      <td>1998</td>\n",
       "      <td>270248003.0</td>\n",
       "      <td>1533887.0</td>\n",
       "      <td>567.6</td>\n",
       "    </tr>\n",
       "    <tr>\n",
       "      <th>2</th>\n",
       "      <td>1999</td>\n",
       "      <td>272690813.0</td>\n",
       "      <td>1426044.0</td>\n",
       "      <td>523</td>\n",
       "    </tr>\n",
       "    <tr>\n",
       "      <th>3</th>\n",
       "      <td>2000</td>\n",
       "      <td>281421906.0</td>\n",
       "      <td>1425486.0</td>\n",
       "      <td>506.5</td>\n",
       "    </tr>\n",
       "    <tr>\n",
       "      <th>4</th>\n",
       "      <td>20015</td>\n",
       "      <td>285317559.0</td>\n",
       "      <td>1439480.0</td>\n",
       "      <td>504.5</td>\n",
       "    </tr>\n",
       "    <tr>\n",
       "      <th>5</th>\n",
       "      <td>2002</td>\n",
       "      <td>287973924.0</td>\n",
       "      <td>1423677.0</td>\n",
       "      <td>494.4</td>\n",
       "    </tr>\n",
       "    <tr>\n",
       "      <th>6</th>\n",
       "      <td>2003</td>\n",
       "      <td>290788976.0</td>\n",
       "      <td>1383676.0</td>\n",
       "      <td>475.8</td>\n",
       "    </tr>\n",
       "    <tr>\n",
       "      <th>7</th>\n",
       "      <td>2004</td>\n",
       "      <td>293656842.0</td>\n",
       "      <td>1360088.0</td>\n",
       "      <td>463.2</td>\n",
       "    </tr>\n",
       "    <tr>\n",
       "      <th>8</th>\n",
       "      <td>2005</td>\n",
       "      <td>296507061.0</td>\n",
       "      <td>1390745.0</td>\n",
       "      <td>469</td>\n",
       "    </tr>\n",
       "    <tr>\n",
       "      <th>9</th>\n",
       "      <td>2006</td>\n",
       "      <td>299398484.0</td>\n",
       "      <td>1435123.0</td>\n",
       "      <td>479.3</td>\n",
       "    </tr>\n",
       "    <tr>\n",
       "      <th>10</th>\n",
       "      <td>2007</td>\n",
       "      <td>301621157.0</td>\n",
       "      <td>1422970.0</td>\n",
       "      <td>471.8</td>\n",
       "    </tr>\n",
       "    <tr>\n",
       "      <th>11</th>\n",
       "      <td>2008</td>\n",
       "      <td>304059724.0</td>\n",
       "      <td>1394461.0</td>\n",
       "      <td>458.6</td>\n",
       "    </tr>\n",
       "    <tr>\n",
       "      <th>12</th>\n",
       "      <td>2009</td>\n",
       "      <td>307006550.0</td>\n",
       "      <td>1325896.0</td>\n",
       "      <td>431.9</td>\n",
       "    </tr>\n",
       "    <tr>\n",
       "      <th>13</th>\n",
       "      <td>2010</td>\n",
       "      <td>309330219.0</td>\n",
       "      <td>1251248.0</td>\n",
       "      <td>404.5</td>\n",
       "    </tr>\n",
       "    <tr>\n",
       "      <th>14</th>\n",
       "      <td>2011</td>\n",
       "      <td>311587816.0</td>\n",
       "      <td>1206005.0</td>\n",
       "      <td>387.1</td>\n",
       "    </tr>\n",
       "    <tr>\n",
       "      <th>15</th>\n",
       "      <td>2012</td>\n",
       "      <td>313873685.0</td>\n",
       "      <td>1217057.0</td>\n",
       "      <td>387.8</td>\n",
       "    </tr>\n",
       "    <tr>\n",
       "      <th>16</th>\n",
       "      <td>2013</td>\n",
       "      <td>316497531.0</td>\n",
       "      <td>1168298.0</td>\n",
       "      <td>369.1</td>\n",
       "    </tr>\n",
       "    <tr>\n",
       "      <th>17</th>\n",
       "      <td>2014</td>\n",
       "      <td>318907401.0</td>\n",
       "      <td>1153022.0</td>\n",
       "      <td>361.6</td>\n",
       "    </tr>\n",
       "    <tr>\n",
       "      <th>18</th>\n",
       "      <td>20156</td>\n",
       "      <td>320896618.0</td>\n",
       "      <td>1199310.0</td>\n",
       "      <td>373.7</td>\n",
       "    </tr>\n",
       "    <tr>\n",
       "      <th>19</th>\n",
       "      <td>2016</td>\n",
       "      <td>323127513.0</td>\n",
       "      <td>1248185.0</td>\n",
       "      <td>386.3</td>\n",
       "    </tr>\n",
       "  </tbody>\n",
       "</table>\n",
       "</div>"
      ],
      "text/plain": [
       "     Year  Population1  Violent\\ncrime2 Violent \\ncrime \\nrate \n",
       "0    1997  267783607.0        1636096.0                     611\n",
       "1    1998  270248003.0        1533887.0                   567.6\n",
       "2    1999  272690813.0        1426044.0                     523\n",
       "3    2000  281421906.0        1425486.0                   506.5\n",
       "4   20015  285317559.0        1439480.0                   504.5\n",
       "5    2002  287973924.0        1423677.0                   494.4\n",
       "6    2003  290788976.0        1383676.0                   475.8\n",
       "7    2004  293656842.0        1360088.0                   463.2\n",
       "8    2005  296507061.0        1390745.0                     469\n",
       "9    2006  299398484.0        1435123.0                   479.3\n",
       "10   2007  301621157.0        1422970.0                   471.8\n",
       "11   2008  304059724.0        1394461.0                   458.6\n",
       "12   2009  307006550.0        1325896.0                   431.9\n",
       "13   2010  309330219.0        1251248.0                   404.5\n",
       "14   2011  311587816.0        1206005.0                   387.1\n",
       "15   2012  313873685.0        1217057.0                   387.8\n",
       "16   2013  316497531.0        1168298.0                   369.1\n",
       "17   2014  318907401.0        1153022.0                   361.6\n",
       "18  20156  320896618.0        1199310.0                   373.7\n",
       "19   2016  323127513.0        1248185.0                   386.3"
      ]
     },
     "execution_count": 7,
     "metadata": {},
     "output_type": "execute_result"
    }
   ],
   "source": [
    "data = df1[['Year', 'Population1', 'Violent\\ncrime2', 'Violent \\ncrime \\nrate ']]\n",
    "data # upon review of the data table there is some data issues that need to be resolved."
   ]
  },
  {
   "cell_type": "code",
   "execution_count": 8,
   "metadata": {},
   "outputs": [],
   "source": [
    "data.at[4, 'Year'] = 2001 # corrects data error from import\n",
    "data.at[18, 'Year'] = 2015 # corrects data error from import"
   ]
  },
  {
   "cell_type": "code",
   "execution_count": 9,
   "metadata": {},
   "outputs": [
    {
     "data": {
      "text/plain": [
       "Year                        object\n",
       "Population1                float64\n",
       "Violent\\ncrime2            float64\n",
       "Violent \\ncrime \\nrate      object\n",
       "dtype: object"
      ]
     },
     "execution_count": 9,
     "metadata": {},
     "output_type": "execute_result"
    }
   ],
   "source": [
    "data.dtypes # View data types to prepare for visualization"
   ]
  },
  {
   "cell_type": "code",
   "execution_count": 10,
   "metadata": {},
   "outputs": [],
   "source": [
    "data = data.copy() # made copy based on copy warning."
   ]
  },
  {
   "cell_type": "code",
   "execution_count": 11,
   "metadata": {},
   "outputs": [],
   "source": [
    "data['Year'] = data['Year'].astype(str).astype('int') # changed Year column to string then int to put in graph"
   ]
  },
  {
   "cell_type": "code",
   "execution_count": 12,
   "metadata": {},
   "outputs": [
    {
     "data": {
      "text/plain": [
       "Year                         int64\n",
       "Population1                float64\n",
       "Violent\\ncrime2            float64\n",
       "Violent \\ncrime \\nrate      object\n",
       "dtype: object"
      ]
     },
     "execution_count": 12,
     "metadata": {},
     "output_type": "execute_result"
    }
   ],
   "source": [
    "data.dtypes"
   ]
  },
  {
   "cell_type": "code",
   "execution_count": 13,
   "metadata": {},
   "outputs": [
    {
     "data": {
      "text/html": [
       "<div>\n",
       "<style scoped>\n",
       "    .dataframe tbody tr th:only-of-type {\n",
       "        vertical-align: middle;\n",
       "    }\n",
       "\n",
       "    .dataframe tbody tr th {\n",
       "        vertical-align: top;\n",
       "    }\n",
       "\n",
       "    .dataframe thead th {\n",
       "        text-align: right;\n",
       "    }\n",
       "</style>\n",
       "<table border=\"1\" class=\"dataframe\">\n",
       "  <thead>\n",
       "    <tr style=\"text-align: right;\">\n",
       "      <th></th>\n",
       "      <th>Year</th>\n",
       "      <th>Population1</th>\n",
       "      <th>Violent\n",
       "crime2</th>\n",
       "      <th>Violent \n",
       "crime \n",
       "rate</th>\n",
       "    </tr>\n",
       "  </thead>\n",
       "  <tbody>\n",
       "    <tr>\n",
       "      <th>0</th>\n",
       "      <td>1997</td>\n",
       "      <td>267783607.0</td>\n",
       "      <td>1636096.0</td>\n",
       "      <td>611</td>\n",
       "    </tr>\n",
       "    <tr>\n",
       "      <th>1</th>\n",
       "      <td>1998</td>\n",
       "      <td>270248003.0</td>\n",
       "      <td>1533887.0</td>\n",
       "      <td>567.6</td>\n",
       "    </tr>\n",
       "    <tr>\n",
       "      <th>2</th>\n",
       "      <td>1999</td>\n",
       "      <td>272690813.0</td>\n",
       "      <td>1426044.0</td>\n",
       "      <td>523</td>\n",
       "    </tr>\n",
       "    <tr>\n",
       "      <th>3</th>\n",
       "      <td>2000</td>\n",
       "      <td>281421906.0</td>\n",
       "      <td>1425486.0</td>\n",
       "      <td>506.5</td>\n",
       "    </tr>\n",
       "    <tr>\n",
       "      <th>4</th>\n",
       "      <td>2001</td>\n",
       "      <td>285317559.0</td>\n",
       "      <td>1439480.0</td>\n",
       "      <td>504.5</td>\n",
       "    </tr>\n",
       "    <tr>\n",
       "      <th>5</th>\n",
       "      <td>2002</td>\n",
       "      <td>287973924.0</td>\n",
       "      <td>1423677.0</td>\n",
       "      <td>494.4</td>\n",
       "    </tr>\n",
       "    <tr>\n",
       "      <th>6</th>\n",
       "      <td>2003</td>\n",
       "      <td>290788976.0</td>\n",
       "      <td>1383676.0</td>\n",
       "      <td>475.8</td>\n",
       "    </tr>\n",
       "    <tr>\n",
       "      <th>7</th>\n",
       "      <td>2004</td>\n",
       "      <td>293656842.0</td>\n",
       "      <td>1360088.0</td>\n",
       "      <td>463.2</td>\n",
       "    </tr>\n",
       "    <tr>\n",
       "      <th>8</th>\n",
       "      <td>2005</td>\n",
       "      <td>296507061.0</td>\n",
       "      <td>1390745.0</td>\n",
       "      <td>469</td>\n",
       "    </tr>\n",
       "    <tr>\n",
       "      <th>9</th>\n",
       "      <td>2006</td>\n",
       "      <td>299398484.0</td>\n",
       "      <td>1435123.0</td>\n",
       "      <td>479.3</td>\n",
       "    </tr>\n",
       "    <tr>\n",
       "      <th>10</th>\n",
       "      <td>2007</td>\n",
       "      <td>301621157.0</td>\n",
       "      <td>1422970.0</td>\n",
       "      <td>471.8</td>\n",
       "    </tr>\n",
       "    <tr>\n",
       "      <th>11</th>\n",
       "      <td>2008</td>\n",
       "      <td>304059724.0</td>\n",
       "      <td>1394461.0</td>\n",
       "      <td>458.6</td>\n",
       "    </tr>\n",
       "    <tr>\n",
       "      <th>12</th>\n",
       "      <td>2009</td>\n",
       "      <td>307006550.0</td>\n",
       "      <td>1325896.0</td>\n",
       "      <td>431.9</td>\n",
       "    </tr>\n",
       "    <tr>\n",
       "      <th>13</th>\n",
       "      <td>2010</td>\n",
       "      <td>309330219.0</td>\n",
       "      <td>1251248.0</td>\n",
       "      <td>404.5</td>\n",
       "    </tr>\n",
       "    <tr>\n",
       "      <th>14</th>\n",
       "      <td>2011</td>\n",
       "      <td>311587816.0</td>\n",
       "      <td>1206005.0</td>\n",
       "      <td>387.1</td>\n",
       "    </tr>\n",
       "    <tr>\n",
       "      <th>15</th>\n",
       "      <td>2012</td>\n",
       "      <td>313873685.0</td>\n",
       "      <td>1217057.0</td>\n",
       "      <td>387.8</td>\n",
       "    </tr>\n",
       "    <tr>\n",
       "      <th>16</th>\n",
       "      <td>2013</td>\n",
       "      <td>316497531.0</td>\n",
       "      <td>1168298.0</td>\n",
       "      <td>369.1</td>\n",
       "    </tr>\n",
       "    <tr>\n",
       "      <th>17</th>\n",
       "      <td>2014</td>\n",
       "      <td>318907401.0</td>\n",
       "      <td>1153022.0</td>\n",
       "      <td>361.6</td>\n",
       "    </tr>\n",
       "    <tr>\n",
       "      <th>18</th>\n",
       "      <td>2015</td>\n",
       "      <td>320896618.0</td>\n",
       "      <td>1199310.0</td>\n",
       "      <td>373.7</td>\n",
       "    </tr>\n",
       "    <tr>\n",
       "      <th>19</th>\n",
       "      <td>2016</td>\n",
       "      <td>323127513.0</td>\n",
       "      <td>1248185.0</td>\n",
       "      <td>386.3</td>\n",
       "    </tr>\n",
       "  </tbody>\n",
       "</table>\n",
       "</div>"
      ],
      "text/plain": [
       "    Year  Population1  Violent\\ncrime2 Violent \\ncrime \\nrate \n",
       "0   1997  267783607.0        1636096.0                     611\n",
       "1   1998  270248003.0        1533887.0                   567.6\n",
       "2   1999  272690813.0        1426044.0                     523\n",
       "3   2000  281421906.0        1425486.0                   506.5\n",
       "4   2001  285317559.0        1439480.0                   504.5\n",
       "5   2002  287973924.0        1423677.0                   494.4\n",
       "6   2003  290788976.0        1383676.0                   475.8\n",
       "7   2004  293656842.0        1360088.0                   463.2\n",
       "8   2005  296507061.0        1390745.0                     469\n",
       "9   2006  299398484.0        1435123.0                   479.3\n",
       "10  2007  301621157.0        1422970.0                   471.8\n",
       "11  2008  304059724.0        1394461.0                   458.6\n",
       "12  2009  307006550.0        1325896.0                   431.9\n",
       "13  2010  309330219.0        1251248.0                   404.5\n",
       "14  2011  311587816.0        1206005.0                   387.1\n",
       "15  2012  313873685.0        1217057.0                   387.8\n",
       "16  2013  316497531.0        1168298.0                   369.1\n",
       "17  2014  318907401.0        1153022.0                   361.6\n",
       "18  2015  320896618.0        1199310.0                   373.7\n",
       "19  2016  323127513.0        1248185.0                   386.3"
      ]
     },
     "execution_count": 13,
     "metadata": {},
     "output_type": "execute_result"
    }
   ],
   "source": [
    "data # reevaluate data to confirm corrections were made."
   ]
  },
  {
   "cell_type": "code",
   "execution_count": 15,
   "metadata": {},
   "outputs": [
    {
     "data": {
      "image/png": "[encoded data removed]",
      "text/plain": [
       "<Figure size 1008x720 with 1 Axes>"
      ]
     },
     "metadata": {},
     "output_type": "display_data"
    }
   ],
   "source": [
    "ax = data.plot.line(x = \"Year\", y = \"Violent \\ncrime \\nrate \", figsize=(14,10), fontsize=14, title=\"Violent Crime\", legend=False)\n",
    "ax.set_ylabel(\"Violent Crime Rate\")\n",
    "ax.set_xlabel(\"Year\")\n",
    "ax.set_xticks(np.arange(1998, 2017, 2))\n",
    "ax.title.set_fontsize(16)\n"
   ]
  },
  {
   "cell_type": "markdown",
   "metadata": {},
   "source": [
    "## Conclusion\n",
    "\n",
    "**The violent crime rate has an overall downward trend for the timeframe of data provided.**"
   ]
  }
 ],
 "metadata": {
  "kernelspec": {
   "display_name": "Python 3",
   "language": "python",
   "name": "python3"
  },
  "language_info": {
   "codemirror_mode": {
    "name": "ipython",
    "version": 3
   },
   "file_extension": ".py",
   "mimetype": "text/x-python",
   "name": "python",
   "nbconvert_exporter": "python",
   "pygments_lexer": "ipython3",
   "version": "3.6.5"
  }
 },
 "nbformat": 4,
 "nbformat_minor": 2
}
